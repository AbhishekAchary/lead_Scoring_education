{
 "cells": [
  {
   "cell_type": "markdown",
   "id": "1387f6cb-8d01-4d21-a8e7-8b5f75327139",
   "metadata": {},
   "source": [
    "## Step 1:Analysing the data"
   ]
  },
  {
   "cell_type": "markdown",
   "id": "bc6ae494-e448-4006-a2e0-1eb7a1d26923",
   "metadata": {},
   "source": [
    "#### Importing the libraires for reading the data"
   ]
  },
  {
   "cell_type": "code",
   "execution_count": 394,
   "id": "5e268a06-c1e1-47dd-8873-f6c5bd274380",
   "metadata": {
    "tags": []
   },
   "outputs": [],
   "source": [
    "import pandas as pd,numpy as np\n",
    "import matplotlib.pyplot as plt,seaborn as sns\n",
    "\n",
    "import warnings\n",
    "warnings.filterwarnings('ignore')"
   ]
  },
  {
   "cell_type": "markdown",
   "id": "3904d6c3-12a2-44d0-a02d-cd80584671fc",
   "metadata": {},
   "source": [
    "Loading the data"
   ]
  },
  {
   "cell_type": "code",
   "execution_count": 395,
   "id": "5b2d3da1-105c-4d4f-b178-4e2d4b3e4d7a",
   "metadata": {},
   "outputs": [
    {
     "data": {
      "text/html": [
       "<div>\n",
       "<style scoped>\n",
       "    .dataframe tbody tr th:only-of-type {\n",
       "        vertical-align: middle;\n",
       "    }\n",
       "\n",
       "    .dataframe tbody tr th {\n",
       "        vertical-align: top;\n",
       "    }\n",
       "\n",
       "    .dataframe thead th {\n",
       "        text-align: right;\n",
       "    }\n",
       "</style>\n",
       "<table border=\"1\" class=\"dataframe\">\n",
       "  <thead>\n",
       "    <tr style=\"text-align: right;\">\n",
       "      <th></th>\n",
       "      <th>Prospect ID</th>\n",
       "      <th>Lead Number</th>\n",
       "      <th>Lead Origin</th>\n",
       "      <th>Lead Source</th>\n",
       "      <th>Do Not Email</th>\n",
       "      <th>Do Not Call</th>\n",
       "      <th>Converted</th>\n",
       "      <th>TotalVisits</th>\n",
       "      <th>Total Time Spent on Website</th>\n",
       "      <th>Page Views Per Visit</th>\n",
       "      <th>...</th>\n",
       "      <th>Get updates on DM Content</th>\n",
       "      <th>Lead Profile</th>\n",
       "      <th>City</th>\n",
       "      <th>Asymmetrique Activity Index</th>\n",
       "      <th>Asymmetrique Profile Index</th>\n",
       "      <th>Asymmetrique Activity Score</th>\n",
       "      <th>Asymmetrique Profile Score</th>\n",
       "      <th>I agree to pay the amount through cheque</th>\n",
       "      <th>A free copy of Mastering The Interview</th>\n",
       "      <th>Last Notable Activity</th>\n",
       "    </tr>\n",
       "  </thead>\n",
       "  <tbody>\n",
       "    <tr>\n",
       "      <th>0</th>\n",
       "      <td>7927b2df-8bba-4d29-b9a2-b6e0beafe620</td>\n",
       "      <td>660737</td>\n",
       "      <td>API</td>\n",
       "      <td>Olark Chat</td>\n",
       "      <td>No</td>\n",
       "      <td>No</td>\n",
       "      <td>0</td>\n",
       "      <td>0.0</td>\n",
       "      <td>0</td>\n",
       "      <td>0.0</td>\n",
       "      <td>...</td>\n",
       "      <td>No</td>\n",
       "      <td>Select</td>\n",
       "      <td>Select</td>\n",
       "      <td>02.Medium</td>\n",
       "      <td>02.Medium</td>\n",
       "      <td>15.0</td>\n",
       "      <td>15.0</td>\n",
       "      <td>No</td>\n",
       "      <td>No</td>\n",
       "      <td>Modified</td>\n",
       "    </tr>\n",
       "    <tr>\n",
       "      <th>1</th>\n",
       "      <td>2a272436-5132-4136-86fa-dcc88c88f482</td>\n",
       "      <td>660728</td>\n",
       "      <td>API</td>\n",
       "      <td>Organic Search</td>\n",
       "      <td>No</td>\n",
       "      <td>No</td>\n",
       "      <td>0</td>\n",
       "      <td>5.0</td>\n",
       "      <td>674</td>\n",
       "      <td>2.5</td>\n",
       "      <td>...</td>\n",
       "      <td>No</td>\n",
       "      <td>Select</td>\n",
       "      <td>Select</td>\n",
       "      <td>02.Medium</td>\n",
       "      <td>02.Medium</td>\n",
       "      <td>15.0</td>\n",
       "      <td>15.0</td>\n",
       "      <td>No</td>\n",
       "      <td>No</td>\n",
       "      <td>Email Opened</td>\n",
       "    </tr>\n",
       "    <tr>\n",
       "      <th>2</th>\n",
       "      <td>8cc8c611-a219-4f35-ad23-fdfd2656bd8a</td>\n",
       "      <td>660727</td>\n",
       "      <td>Landing Page Submission</td>\n",
       "      <td>Direct Traffic</td>\n",
       "      <td>No</td>\n",
       "      <td>No</td>\n",
       "      <td>1</td>\n",
       "      <td>2.0</td>\n",
       "      <td>1532</td>\n",
       "      <td>2.0</td>\n",
       "      <td>...</td>\n",
       "      <td>No</td>\n",
       "      <td>Potential Lead</td>\n",
       "      <td>Mumbai</td>\n",
       "      <td>02.Medium</td>\n",
       "      <td>01.High</td>\n",
       "      <td>14.0</td>\n",
       "      <td>20.0</td>\n",
       "      <td>No</td>\n",
       "      <td>Yes</td>\n",
       "      <td>Email Opened</td>\n",
       "    </tr>\n",
       "    <tr>\n",
       "      <th>3</th>\n",
       "      <td>0cc2df48-7cf4-4e39-9de9-19797f9b38cc</td>\n",
       "      <td>660719</td>\n",
       "      <td>Landing Page Submission</td>\n",
       "      <td>Direct Traffic</td>\n",
       "      <td>No</td>\n",
       "      <td>No</td>\n",
       "      <td>0</td>\n",
       "      <td>1.0</td>\n",
       "      <td>305</td>\n",
       "      <td>1.0</td>\n",
       "      <td>...</td>\n",
       "      <td>No</td>\n",
       "      <td>Select</td>\n",
       "      <td>Mumbai</td>\n",
       "      <td>02.Medium</td>\n",
       "      <td>01.High</td>\n",
       "      <td>13.0</td>\n",
       "      <td>17.0</td>\n",
       "      <td>No</td>\n",
       "      <td>No</td>\n",
       "      <td>Modified</td>\n",
       "    </tr>\n",
       "    <tr>\n",
       "      <th>4</th>\n",
       "      <td>3256f628-e534-4826-9d63-4a8b88782852</td>\n",
       "      <td>660681</td>\n",
       "      <td>Landing Page Submission</td>\n",
       "      <td>Google</td>\n",
       "      <td>No</td>\n",
       "      <td>No</td>\n",
       "      <td>1</td>\n",
       "      <td>2.0</td>\n",
       "      <td>1428</td>\n",
       "      <td>1.0</td>\n",
       "      <td>...</td>\n",
       "      <td>No</td>\n",
       "      <td>Select</td>\n",
       "      <td>Mumbai</td>\n",
       "      <td>02.Medium</td>\n",
       "      <td>01.High</td>\n",
       "      <td>15.0</td>\n",
       "      <td>18.0</td>\n",
       "      <td>No</td>\n",
       "      <td>No</td>\n",
       "      <td>Modified</td>\n",
       "    </tr>\n",
       "  </tbody>\n",
       "</table>\n",
       "<p>5 rows × 37 columns</p>\n",
       "</div>"
      ],
      "text/plain": [
       "                            Prospect ID  Lead Number              Lead Origin  \\\n",
       "0  7927b2df-8bba-4d29-b9a2-b6e0beafe620       660737                      API   \n",
       "1  2a272436-5132-4136-86fa-dcc88c88f482       660728                      API   \n",
       "2  8cc8c611-a219-4f35-ad23-fdfd2656bd8a       660727  Landing Page Submission   \n",
       "3  0cc2df48-7cf4-4e39-9de9-19797f9b38cc       660719  Landing Page Submission   \n",
       "4  3256f628-e534-4826-9d63-4a8b88782852       660681  Landing Page Submission   \n",
       "\n",
       "      Lead Source Do Not Email Do Not Call  Converted  TotalVisits  \\\n",
       "0      Olark Chat           No          No          0          0.0   \n",
       "1  Organic Search           No          No          0          5.0   \n",
       "2  Direct Traffic           No          No          1          2.0   \n",
       "3  Direct Traffic           No          No          0          1.0   \n",
       "4          Google           No          No          1          2.0   \n",
       "\n",
       "   Total Time Spent on Website  Page Views Per Visit  ...  \\\n",
       "0                            0                   0.0  ...   \n",
       "1                          674                   2.5  ...   \n",
       "2                         1532                   2.0  ...   \n",
       "3                          305                   1.0  ...   \n",
       "4                         1428                   1.0  ...   \n",
       "\n",
       "  Get updates on DM Content    Lead Profile    City  \\\n",
       "0                        No          Select  Select   \n",
       "1                        No          Select  Select   \n",
       "2                        No  Potential Lead  Mumbai   \n",
       "3                        No          Select  Mumbai   \n",
       "4                        No          Select  Mumbai   \n",
       "\n",
       "  Asymmetrique Activity Index Asymmetrique Profile Index  \\\n",
       "0                   02.Medium                  02.Medium   \n",
       "1                   02.Medium                  02.Medium   \n",
       "2                   02.Medium                    01.High   \n",
       "3                   02.Medium                    01.High   \n",
       "4                   02.Medium                    01.High   \n",
       "\n",
       "  Asymmetrique Activity Score Asymmetrique Profile Score  \\\n",
       "0                        15.0                       15.0   \n",
       "1                        15.0                       15.0   \n",
       "2                        14.0                       20.0   \n",
       "3                        13.0                       17.0   \n",
       "4                        15.0                       18.0   \n",
       "\n",
       "  I agree to pay the amount through cheque  \\\n",
       "0                                       No   \n",
       "1                                       No   \n",
       "2                                       No   \n",
       "3                                       No   \n",
       "4                                       No   \n",
       "\n",
       "  A free copy of Mastering The Interview Last Notable Activity  \n",
       "0                                     No              Modified  \n",
       "1                                     No          Email Opened  \n",
       "2                                    Yes          Email Opened  \n",
       "3                                     No              Modified  \n",
       "4                                     No              Modified  \n",
       "\n",
       "[5 rows x 37 columns]"
      ]
     },
     "execution_count": 395,
     "metadata": {},
     "output_type": "execute_result"
    }
   ],
   "source": [
    "df = pd.read_csv('Leads.csv')\n",
    "df.head()"
   ]
  },
  {
   "cell_type": "code",
   "execution_count": 396,
   "id": "de9998be-9425-4770-9f3a-e29255cad809",
   "metadata": {
    "tags": []
   },
   "outputs": [
    {
     "name": "stdout",
     "output_type": "stream",
     "text": [
      "(9240, 37)\n"
     ]
    }
   ],
   "source": [
    "shape_of_data = df.shape\n",
    "print(shape_of_data)"
   ]
  },
  {
   "cell_type": "code",
   "execution_count": 397,
   "id": "14b1ed95-0434-4f61-af23-fcb2a92000d5",
   "metadata": {
    "tags": []
   },
   "outputs": [
    {
     "name": "stdout",
     "output_type": "stream",
     "text": [
      "341880\n"
     ]
    }
   ],
   "source": [
    "size_of_data = df.size\n",
    "print(size_of_data)"
   ]
  },
  {
   "cell_type": "code",
   "execution_count": 398,
   "id": "bad95144-c3d1-43d9-8209-a384b857ca66",
   "metadata": {
    "tags": []
   },
   "outputs": [
    {
     "name": "stdout",
     "output_type": "stream",
     "text": [
      "Index(['Prospect ID', 'Lead Number', 'Lead Origin', 'Lead Source',\n",
      "       'Do Not Email', 'Do Not Call', 'Converted', 'TotalVisits',\n",
      "       'Total Time Spent on Website', 'Page Views Per Visit', 'Last Activity',\n",
      "       'Country', 'Specialization', 'How did you hear about X Education',\n",
      "       'What is your current occupation',\n",
      "       'What matters most to you in choosing a course', 'Search', 'Magazine',\n",
      "       'Newspaper Article', 'X Education Forums', 'Newspaper',\n",
      "       'Digital Advertisement', 'Through Recommendations',\n",
      "       'Receive More Updates About Our Courses', 'Tags', 'Lead Quality',\n",
      "       'Update me on Supply Chain Content', 'Get updates on DM Content',\n",
      "       'Lead Profile', 'City', 'Asymmetrique Activity Index',\n",
      "       'Asymmetrique Profile Index', 'Asymmetrique Activity Score',\n",
      "       'Asymmetrique Profile Score',\n",
      "       'I agree to pay the amount through cheque',\n",
      "       'A free copy of Mastering The Interview', 'Last Notable Activity'],\n",
      "      dtype='object')\n"
     ]
    }
   ],
   "source": [
    "columns_of_data = df.columns\n",
    "print(columns_of_data)"
   ]
  },
  {
   "cell_type": "markdown",
   "id": "529ed432-3d63-42d6-8108-1bfb406b5769",
   "metadata": {
    "tags": []
   },
   "source": [
    "## Step 2:Inspecting the dataset"
   ]
  },
  {
   "cell_type": "code",
   "execution_count": 399,
   "id": "e9cf0379-3dd1-46e9-8c41-59dd85c9cab8",
   "metadata": {
    "tags": []
   },
   "outputs": [
    {
     "name": "stdout",
     "output_type": "stream",
     "text": [
      "<class 'pandas.core.frame.DataFrame'>\n",
      "RangeIndex: 9240 entries, 0 to 9239\n",
      "Data columns (total 37 columns):\n",
      " #   Column                                         Non-Null Count  Dtype  \n",
      "---  ------                                         --------------  -----  \n",
      " 0   Prospect ID                                    9240 non-null   object \n",
      " 1   Lead Number                                    9240 non-null   int64  \n",
      " 2   Lead Origin                                    9240 non-null   object \n",
      " 3   Lead Source                                    9204 non-null   object \n",
      " 4   Do Not Email                                   9240 non-null   object \n",
      " 5   Do Not Call                                    9240 non-null   object \n",
      " 6   Converted                                      9240 non-null   int64  \n",
      " 7   TotalVisits                                    9103 non-null   float64\n",
      " 8   Total Time Spent on Website                    9240 non-null   int64  \n",
      " 9   Page Views Per Visit                           9103 non-null   float64\n",
      " 10  Last Activity                                  9137 non-null   object \n",
      " 11  Country                                        6779 non-null   object \n",
      " 12  Specialization                                 7802 non-null   object \n",
      " 13  How did you hear about X Education             7033 non-null   object \n",
      " 14  What is your current occupation                6550 non-null   object \n",
      " 15  What matters most to you in choosing a course  6531 non-null   object \n",
      " 16  Search                                         9240 non-null   object \n",
      " 17  Magazine                                       9240 non-null   object \n",
      " 18  Newspaper Article                              9240 non-null   object \n",
      " 19  X Education Forums                             9240 non-null   object \n",
      " 20  Newspaper                                      9240 non-null   object \n",
      " 21  Digital Advertisement                          9240 non-null   object \n",
      " 22  Through Recommendations                        9240 non-null   object \n",
      " 23  Receive More Updates About Our Courses         9240 non-null   object \n",
      " 24  Tags                                           5887 non-null   object \n",
      " 25  Lead Quality                                   4473 non-null   object \n",
      " 26  Update me on Supply Chain Content              9240 non-null   object \n",
      " 27  Get updates on DM Content                      9240 non-null   object \n",
      " 28  Lead Profile                                   6531 non-null   object \n",
      " 29  City                                           7820 non-null   object \n",
      " 30  Asymmetrique Activity Index                    5022 non-null   object \n",
      " 31  Asymmetrique Profile Index                     5022 non-null   object \n",
      " 32  Asymmetrique Activity Score                    5022 non-null   float64\n",
      " 33  Asymmetrique Profile Score                     5022 non-null   float64\n",
      " 34  I agree to pay the amount through cheque       9240 non-null   object \n",
      " 35  A free copy of Mastering The Interview         9240 non-null   object \n",
      " 36  Last Notable Activity                          9240 non-null   object \n",
      "dtypes: float64(4), int64(3), object(30)\n",
      "memory usage: 2.6+ MB\n"
     ]
    }
   ],
   "source": [
    "df.info()"
   ]
  },
  {
   "cell_type": "code",
   "execution_count": 400,
   "id": "178ca27a-2df9-4aee-a9fe-2714824c65b9",
   "metadata": {
    "tags": []
   },
   "outputs": [
    {
     "data": {
      "text/html": [
       "<div>\n",
       "<style scoped>\n",
       "    .dataframe tbody tr th:only-of-type {\n",
       "        vertical-align: middle;\n",
       "    }\n",
       "\n",
       "    .dataframe tbody tr th {\n",
       "        vertical-align: top;\n",
       "    }\n",
       "\n",
       "    .dataframe thead th {\n",
       "        text-align: right;\n",
       "    }\n",
       "</style>\n",
       "<table border=\"1\" class=\"dataframe\">\n",
       "  <thead>\n",
       "    <tr style=\"text-align: right;\">\n",
       "      <th></th>\n",
       "      <th>Lead Number</th>\n",
       "      <th>Converted</th>\n",
       "      <th>TotalVisits</th>\n",
       "      <th>Total Time Spent on Website</th>\n",
       "      <th>Page Views Per Visit</th>\n",
       "      <th>Asymmetrique Activity Score</th>\n",
       "      <th>Asymmetrique Profile Score</th>\n",
       "    </tr>\n",
       "  </thead>\n",
       "  <tbody>\n",
       "    <tr>\n",
       "      <th>count</th>\n",
       "      <td>9240.000000</td>\n",
       "      <td>9240.000000</td>\n",
       "      <td>9103.000000</td>\n",
       "      <td>9240.000000</td>\n",
       "      <td>9103.000000</td>\n",
       "      <td>5022.000000</td>\n",
       "      <td>5022.000000</td>\n",
       "    </tr>\n",
       "    <tr>\n",
       "      <th>mean</th>\n",
       "      <td>617188.435606</td>\n",
       "      <td>0.385390</td>\n",
       "      <td>3.445238</td>\n",
       "      <td>487.698268</td>\n",
       "      <td>2.362820</td>\n",
       "      <td>14.306252</td>\n",
       "      <td>16.344883</td>\n",
       "    </tr>\n",
       "    <tr>\n",
       "      <th>std</th>\n",
       "      <td>23405.995698</td>\n",
       "      <td>0.486714</td>\n",
       "      <td>4.854853</td>\n",
       "      <td>548.021466</td>\n",
       "      <td>2.161418</td>\n",
       "      <td>1.386694</td>\n",
       "      <td>1.811395</td>\n",
       "    </tr>\n",
       "    <tr>\n",
       "      <th>min</th>\n",
       "      <td>579533.000000</td>\n",
       "      <td>0.000000</td>\n",
       "      <td>0.000000</td>\n",
       "      <td>0.000000</td>\n",
       "      <td>0.000000</td>\n",
       "      <td>7.000000</td>\n",
       "      <td>11.000000</td>\n",
       "    </tr>\n",
       "    <tr>\n",
       "      <th>25%</th>\n",
       "      <td>596484.500000</td>\n",
       "      <td>0.000000</td>\n",
       "      <td>1.000000</td>\n",
       "      <td>12.000000</td>\n",
       "      <td>1.000000</td>\n",
       "      <td>14.000000</td>\n",
       "      <td>15.000000</td>\n",
       "    </tr>\n",
       "    <tr>\n",
       "      <th>50%</th>\n",
       "      <td>615479.000000</td>\n",
       "      <td>0.000000</td>\n",
       "      <td>3.000000</td>\n",
       "      <td>248.000000</td>\n",
       "      <td>2.000000</td>\n",
       "      <td>14.000000</td>\n",
       "      <td>16.000000</td>\n",
       "    </tr>\n",
       "    <tr>\n",
       "      <th>75%</th>\n",
       "      <td>637387.250000</td>\n",
       "      <td>1.000000</td>\n",
       "      <td>5.000000</td>\n",
       "      <td>936.000000</td>\n",
       "      <td>3.000000</td>\n",
       "      <td>15.000000</td>\n",
       "      <td>18.000000</td>\n",
       "    </tr>\n",
       "    <tr>\n",
       "      <th>max</th>\n",
       "      <td>660737.000000</td>\n",
       "      <td>1.000000</td>\n",
       "      <td>251.000000</td>\n",
       "      <td>2272.000000</td>\n",
       "      <td>55.000000</td>\n",
       "      <td>18.000000</td>\n",
       "      <td>20.000000</td>\n",
       "    </tr>\n",
       "  </tbody>\n",
       "</table>\n",
       "</div>"
      ],
      "text/plain": [
       "         Lead Number    Converted  TotalVisits  Total Time Spent on Website  \\\n",
       "count    9240.000000  9240.000000  9103.000000                  9240.000000   \n",
       "mean   617188.435606     0.385390     3.445238                   487.698268   \n",
       "std     23405.995698     0.486714     4.854853                   548.021466   \n",
       "min    579533.000000     0.000000     0.000000                     0.000000   \n",
       "25%    596484.500000     0.000000     1.000000                    12.000000   \n",
       "50%    615479.000000     0.000000     3.000000                   248.000000   \n",
       "75%    637387.250000     1.000000     5.000000                   936.000000   \n",
       "max    660737.000000     1.000000   251.000000                  2272.000000   \n",
       "\n",
       "       Page Views Per Visit  Asymmetrique Activity Score  \\\n",
       "count           9103.000000                  5022.000000   \n",
       "mean               2.362820                    14.306252   \n",
       "std                2.161418                     1.386694   \n",
       "min                0.000000                     7.000000   \n",
       "25%                1.000000                    14.000000   \n",
       "50%                2.000000                    14.000000   \n",
       "75%                3.000000                    15.000000   \n",
       "max               55.000000                    18.000000   \n",
       "\n",
       "       Asymmetrique Profile Score  \n",
       "count                 5022.000000  \n",
       "mean                    16.344883  \n",
       "std                      1.811395  \n",
       "min                     11.000000  \n",
       "25%                     15.000000  \n",
       "50%                     16.000000  \n",
       "75%                     18.000000  \n",
       "max                     20.000000  "
      ]
     },
     "execution_count": 400,
     "metadata": {},
     "output_type": "execute_result"
    }
   ],
   "source": [
    "df.describe()"
   ]
  },
  {
   "cell_type": "markdown",
   "id": "d279c250-64bc-4caf-a1c5-92ac4466dbae",
   "metadata": {},
   "source": [
    "#### Missing Value checks"
   ]
  },
  {
   "cell_type": "code",
   "execution_count": 401,
   "id": "b8e36c20-2856-4108-8033-b2bcaf442404",
   "metadata": {
    "tags": []
   },
   "outputs": [
    {
     "data": {
      "text/plain": [
       "Prospect ID                                       0.00\n",
       "Lead Number                                       0.00\n",
       "Lead Origin                                       0.00\n",
       "Lead Source                                       0.39\n",
       "Do Not Email                                      0.00\n",
       "Do Not Call                                       0.00\n",
       "Converted                                         0.00\n",
       "TotalVisits                                       1.48\n",
       "Total Time Spent on Website                       0.00\n",
       "Page Views Per Visit                              1.48\n",
       "Last Activity                                     1.11\n",
       "Country                                          26.63\n",
       "Specialization                                   15.56\n",
       "How did you hear about X Education               23.89\n",
       "What is your current occupation                  29.11\n",
       "What matters most to you in choosing a course    29.32\n",
       "Search                                            0.00\n",
       "Magazine                                          0.00\n",
       "Newspaper Article                                 0.00\n",
       "X Education Forums                                0.00\n",
       "Newspaper                                         0.00\n",
       "Digital Advertisement                             0.00\n",
       "Through Recommendations                           0.00\n",
       "Receive More Updates About Our Courses            0.00\n",
       "Tags                                             36.29\n",
       "Lead Quality                                     51.59\n",
       "Update me on Supply Chain Content                 0.00\n",
       "Get updates on DM Content                         0.00\n",
       "Lead Profile                                     29.32\n",
       "City                                             15.37\n",
       "Asymmetrique Activity Index                      45.65\n",
       "Asymmetrique Profile Index                       45.65\n",
       "Asymmetrique Activity Score                      45.65\n",
       "Asymmetrique Profile Score                       45.65\n",
       "I agree to pay the amount through cheque          0.00\n",
       "A free copy of Mastering The Interview            0.00\n",
       "Last Notable Activity                             0.00\n",
       "dtype: float64"
      ]
     },
     "execution_count": 401,
     "metadata": {},
     "output_type": "execute_result"
    }
   ],
   "source": [
    "round(100*((df.isnull().sum())/len(df)),2)"
   ]
  },
  {
   "cell_type": "markdown",
   "id": "8b21a787-78fb-4871-87b6-1e5d476e1de6",
   "metadata": {},
   "source": [
    "### Step 3: Data Preparation"
   ]
  },
  {
   "cell_type": "markdown",
   "id": "397945f3-8bde-4b1e-a5b4-c00f131a563c",
   "metadata": {},
   "source": [
    "#### Converting the binary variables(Yes/No) into (1/0)"
   ]
  },
  {
   "cell_type": "code",
   "execution_count": 402,
   "id": "e1479cca-ebd5-4a3f-94cb-5541b801cc14",
   "metadata": {
    "tags": []
   },
   "outputs": [
    {
     "data": {
      "text/html": [
       "<div>\n",
       "<style scoped>\n",
       "    .dataframe tbody tr th:only-of-type {\n",
       "        vertical-align: middle;\n",
       "    }\n",
       "\n",
       "    .dataframe tbody tr th {\n",
       "        vertical-align: top;\n",
       "    }\n",
       "\n",
       "    .dataframe thead th {\n",
       "        text-align: right;\n",
       "    }\n",
       "</style>\n",
       "<table border=\"1\" class=\"dataframe\">\n",
       "  <thead>\n",
       "    <tr style=\"text-align: right;\">\n",
       "      <th></th>\n",
       "      <th>Prospect ID</th>\n",
       "      <th>Lead Number</th>\n",
       "      <th>Lead Origin</th>\n",
       "      <th>Lead Source</th>\n",
       "      <th>Do Not Email</th>\n",
       "      <th>Do Not Call</th>\n",
       "      <th>Converted</th>\n",
       "      <th>TotalVisits</th>\n",
       "      <th>Total Time Spent on Website</th>\n",
       "      <th>Page Views Per Visit</th>\n",
       "      <th>...</th>\n",
       "      <th>Get updates on DM Content</th>\n",
       "      <th>Lead Profile</th>\n",
       "      <th>City</th>\n",
       "      <th>Asymmetrique Activity Index</th>\n",
       "      <th>Asymmetrique Profile Index</th>\n",
       "      <th>Asymmetrique Activity Score</th>\n",
       "      <th>Asymmetrique Profile Score</th>\n",
       "      <th>I agree to pay the amount through cheque</th>\n",
       "      <th>A free copy of Mastering The Interview</th>\n",
       "      <th>Last Notable Activity</th>\n",
       "    </tr>\n",
       "  </thead>\n",
       "  <tbody>\n",
       "    <tr>\n",
       "      <th>0</th>\n",
       "      <td>7927b2df-8bba-4d29-b9a2-b6e0beafe620</td>\n",
       "      <td>660737</td>\n",
       "      <td>API</td>\n",
       "      <td>Olark Chat</td>\n",
       "      <td>0</td>\n",
       "      <td>0</td>\n",
       "      <td>0</td>\n",
       "      <td>0.0</td>\n",
       "      <td>0</td>\n",
       "      <td>0.0</td>\n",
       "      <td>...</td>\n",
       "      <td>0</td>\n",
       "      <td>Select</td>\n",
       "      <td>Select</td>\n",
       "      <td>02.Medium</td>\n",
       "      <td>02.Medium</td>\n",
       "      <td>15.0</td>\n",
       "      <td>15.0</td>\n",
       "      <td>0</td>\n",
       "      <td>0</td>\n",
       "      <td>Modified</td>\n",
       "    </tr>\n",
       "    <tr>\n",
       "      <th>1</th>\n",
       "      <td>2a272436-5132-4136-86fa-dcc88c88f482</td>\n",
       "      <td>660728</td>\n",
       "      <td>API</td>\n",
       "      <td>Organic Search</td>\n",
       "      <td>0</td>\n",
       "      <td>0</td>\n",
       "      <td>0</td>\n",
       "      <td>5.0</td>\n",
       "      <td>674</td>\n",
       "      <td>2.5</td>\n",
       "      <td>...</td>\n",
       "      <td>0</td>\n",
       "      <td>Select</td>\n",
       "      <td>Select</td>\n",
       "      <td>02.Medium</td>\n",
       "      <td>02.Medium</td>\n",
       "      <td>15.0</td>\n",
       "      <td>15.0</td>\n",
       "      <td>0</td>\n",
       "      <td>0</td>\n",
       "      <td>Email Opened</td>\n",
       "    </tr>\n",
       "    <tr>\n",
       "      <th>2</th>\n",
       "      <td>8cc8c611-a219-4f35-ad23-fdfd2656bd8a</td>\n",
       "      <td>660727</td>\n",
       "      <td>Landing Page Submission</td>\n",
       "      <td>Direct Traffic</td>\n",
       "      <td>0</td>\n",
       "      <td>0</td>\n",
       "      <td>1</td>\n",
       "      <td>2.0</td>\n",
       "      <td>1532</td>\n",
       "      <td>2.0</td>\n",
       "      <td>...</td>\n",
       "      <td>0</td>\n",
       "      <td>Potential Lead</td>\n",
       "      <td>Mumbai</td>\n",
       "      <td>02.Medium</td>\n",
       "      <td>01.High</td>\n",
       "      <td>14.0</td>\n",
       "      <td>20.0</td>\n",
       "      <td>0</td>\n",
       "      <td>1</td>\n",
       "      <td>Email Opened</td>\n",
       "    </tr>\n",
       "    <tr>\n",
       "      <th>3</th>\n",
       "      <td>0cc2df48-7cf4-4e39-9de9-19797f9b38cc</td>\n",
       "      <td>660719</td>\n",
       "      <td>Landing Page Submission</td>\n",
       "      <td>Direct Traffic</td>\n",
       "      <td>0</td>\n",
       "      <td>0</td>\n",
       "      <td>0</td>\n",
       "      <td>1.0</td>\n",
       "      <td>305</td>\n",
       "      <td>1.0</td>\n",
       "      <td>...</td>\n",
       "      <td>0</td>\n",
       "      <td>Select</td>\n",
       "      <td>Mumbai</td>\n",
       "      <td>02.Medium</td>\n",
       "      <td>01.High</td>\n",
       "      <td>13.0</td>\n",
       "      <td>17.0</td>\n",
       "      <td>0</td>\n",
       "      <td>0</td>\n",
       "      <td>Modified</td>\n",
       "    </tr>\n",
       "    <tr>\n",
       "      <th>4</th>\n",
       "      <td>3256f628-e534-4826-9d63-4a8b88782852</td>\n",
       "      <td>660681</td>\n",
       "      <td>Landing Page Submission</td>\n",
       "      <td>Google</td>\n",
       "      <td>0</td>\n",
       "      <td>0</td>\n",
       "      <td>1</td>\n",
       "      <td>2.0</td>\n",
       "      <td>1428</td>\n",
       "      <td>1.0</td>\n",
       "      <td>...</td>\n",
       "      <td>0</td>\n",
       "      <td>Select</td>\n",
       "      <td>Mumbai</td>\n",
       "      <td>02.Medium</td>\n",
       "      <td>01.High</td>\n",
       "      <td>15.0</td>\n",
       "      <td>18.0</td>\n",
       "      <td>0</td>\n",
       "      <td>0</td>\n",
       "      <td>Modified</td>\n",
       "    </tr>\n",
       "  </tbody>\n",
       "</table>\n",
       "<p>5 rows × 37 columns</p>\n",
       "</div>"
      ],
      "text/plain": [
       "                            Prospect ID  Lead Number              Lead Origin  \\\n",
       "0  7927b2df-8bba-4d29-b9a2-b6e0beafe620       660737                      API   \n",
       "1  2a272436-5132-4136-86fa-dcc88c88f482       660728                      API   \n",
       "2  8cc8c611-a219-4f35-ad23-fdfd2656bd8a       660727  Landing Page Submission   \n",
       "3  0cc2df48-7cf4-4e39-9de9-19797f9b38cc       660719  Landing Page Submission   \n",
       "4  3256f628-e534-4826-9d63-4a8b88782852       660681  Landing Page Submission   \n",
       "\n",
       "      Lead Source  Do Not Email  Do Not Call  Converted  TotalVisits  \\\n",
       "0      Olark Chat             0            0          0          0.0   \n",
       "1  Organic Search             0            0          0          5.0   \n",
       "2  Direct Traffic             0            0          1          2.0   \n",
       "3  Direct Traffic             0            0          0          1.0   \n",
       "4          Google             0            0          1          2.0   \n",
       "\n",
       "   Total Time Spent on Website  Page Views Per Visit  ...  \\\n",
       "0                            0                   0.0  ...   \n",
       "1                          674                   2.5  ...   \n",
       "2                         1532                   2.0  ...   \n",
       "3                          305                   1.0  ...   \n",
       "4                         1428                   1.0  ...   \n",
       "\n",
       "  Get updates on DM Content    Lead Profile    City  \\\n",
       "0                         0          Select  Select   \n",
       "1                         0          Select  Select   \n",
       "2                         0  Potential Lead  Mumbai   \n",
       "3                         0          Select  Mumbai   \n",
       "4                         0          Select  Mumbai   \n",
       "\n",
       "  Asymmetrique Activity Index Asymmetrique Profile Index  \\\n",
       "0                   02.Medium                  02.Medium   \n",
       "1                   02.Medium                  02.Medium   \n",
       "2                   02.Medium                    01.High   \n",
       "3                   02.Medium                    01.High   \n",
       "4                   02.Medium                    01.High   \n",
       "\n",
       "  Asymmetrique Activity Score  Asymmetrique Profile Score  \\\n",
       "0                        15.0                        15.0   \n",
       "1                        15.0                        15.0   \n",
       "2                        14.0                        20.0   \n",
       "3                        13.0                        17.0   \n",
       "4                        15.0                        18.0   \n",
       "\n",
       "   I agree to pay the amount through cheque  \\\n",
       "0                                         0   \n",
       "1                                         0   \n",
       "2                                         0   \n",
       "3                                         0   \n",
       "4                                         0   \n",
       "\n",
       "   A free copy of Mastering The Interview  Last Notable Activity  \n",
       "0                                       0               Modified  \n",
       "1                                       0           Email Opened  \n",
       "2                                       1           Email Opened  \n",
       "3                                       0               Modified  \n",
       "4                                       0               Modified  \n",
       "\n",
       "[5 rows x 37 columns]"
      ]
     },
     "execution_count": 402,
     "metadata": {},
     "output_type": "execute_result"
    }
   ],
   "source": [
    "varlist =  ['Search','Magazine','Newspaper Article','X Education Forums','Newspaper','Digital Advertisement',\n",
    "       'Through Recommendations','Receive More Updates About Our Courses','Update me on Supply Chain Content',\n",
    "        'Get updates on DM Content','I agree to pay the amount through cheque','A free copy of Mastering The Interview',\n",
    "         'Do Not Email','Do Not Call']\n",
    "\n",
    "def binary_variable(x):\n",
    "    return x.map({'Yes':1,'No':0})\n",
    "df[varlist] = df[varlist].apply(binary_variable)\n",
    "df.head()"
   ]
  },
  {
   "cell_type": "code",
   "execution_count": 403,
   "id": "c8dc6b31-afbb-4616-a2f9-f4900fe31207",
   "metadata": {
    "tags": []
   },
   "outputs": [
    {
     "name": "stdout",
     "output_type": "stream",
     "text": [
      "Lead Origin\n",
      "_________________________________________________________________________________________________\n",
      "Lead Origin\n",
      "Landing Page Submission    0.528788\n",
      "API                        0.387446\n",
      "Lead Add Form              0.077706\n",
      "Lead Import                0.005952\n",
      "Quick Add Form             0.000108\n",
      "Name: proportion, dtype: float64\n",
      "_________________________________________________________________________________________________\n",
      "Lead Source\n",
      "_________________________________________________________________________________________________\n",
      "Lead Source\n",
      "Google               0.311604\n",
      "Direct Traffic       0.276293\n",
      "Olark Chat           0.190678\n",
      "Organic Search       0.125380\n",
      "Reference            0.058018\n",
      "Welingak Website     0.015428\n",
      "Referral Sites       0.013581\n",
      "Facebook             0.005976\n",
      "bing                 0.000652\n",
      "google               0.000543\n",
      "Click2call           0.000435\n",
      "Press_Release        0.000217\n",
      "Social Media         0.000217\n",
      "Live Chat            0.000217\n",
      "youtubechannel       0.000109\n",
      "testone              0.000109\n",
      "Pay per Click Ads    0.000109\n",
      "welearnblog_Home     0.000109\n",
      "WeLearn              0.000109\n",
      "blog                 0.000109\n",
      "NC_EDM               0.000109\n",
      "Name: proportion, dtype: float64\n",
      "_________________________________________________________________________________________________\n",
      "Last Activity\n",
      "_________________________________________________________________________________________________\n",
      "Last Activity\n",
      "Email Opened                    0.376163\n",
      "SMS Sent                        0.300427\n",
      "Olark Chat Conversation         0.106490\n",
      "Page Visited on Website         0.070045\n",
      "Converted to Lead               0.046843\n",
      "Email Bounced                   0.035679\n",
      "Email Link Clicked              0.029222\n",
      "Form Submitted on Website       0.012696\n",
      "Unreachable                     0.010178\n",
      "Unsubscribed                    0.006676\n",
      "Had a Phone Conversation        0.003283\n",
      "Approached upfront              0.000985\n",
      "View in browser link Clicked    0.000657\n",
      "Email Received                  0.000219\n",
      "Email Marked Spam               0.000219\n",
      "Visited Booth in Tradeshow      0.000109\n",
      "Resubscribed to emails          0.000109\n",
      "Name: proportion, dtype: float64\n",
      "_________________________________________________________________________________________________\n",
      "Country\n",
      "_________________________________________________________________________________________________\n",
      "Country\n",
      "India                   0.957663\n",
      "United States           0.010178\n",
      "United Arab Emirates    0.007818\n",
      "Singapore               0.003540\n",
      "Saudi Arabia            0.003098\n",
      "United Kingdom          0.002213\n",
      "Australia               0.001918\n",
      "Qatar                   0.001475\n",
      "Hong Kong               0.001033\n",
      "Bahrain                 0.001033\n",
      "Oman                    0.000885\n",
      "France                  0.000885\n",
      "unknown                 0.000738\n",
      "South Africa            0.000590\n",
      "Nigeria                 0.000590\n",
      "Germany                 0.000590\n",
      "Kuwait                  0.000590\n",
      "Canada                  0.000590\n",
      "Sweden                  0.000443\n",
      "China                   0.000295\n",
      "Asia/Pacific Region     0.000295\n",
      "Uganda                  0.000295\n",
      "Bangladesh              0.000295\n",
      "Italy                   0.000295\n",
      "Belgium                 0.000295\n",
      "Netherlands             0.000295\n",
      "Ghana                   0.000295\n",
      "Philippines             0.000295\n",
      "Russia                  0.000148\n",
      "Switzerland             0.000148\n",
      "Vietnam                 0.000148\n",
      "Denmark                 0.000148\n",
      "Tanzania                0.000148\n",
      "Liberia                 0.000148\n",
      "Malaysia                0.000148\n",
      "Kenya                   0.000148\n",
      "Sri Lanka               0.000148\n",
      "Indonesia               0.000148\n",
      "Name: proportion, dtype: float64\n",
      "_________________________________________________________________________________________________\n",
      "Specialization\n",
      "_________________________________________________________________________________________________\n",
      "Specialization\n",
      "Select                               0.248911\n",
      "Finance Management                   0.125096\n",
      "Human Resource Management            0.108690\n",
      "Marketing Management                 0.107408\n",
      "Operations Management                0.064471\n",
      "Business Administration              0.051653\n",
      "IT Projects Management               0.046911\n",
      "Supply Chain Management              0.044732\n",
      "Banking, Investment And Insurance    0.043322\n",
      "Travel and Tourism                   0.026019\n",
      "Media and Advertising                0.026019\n",
      "International Business               0.022815\n",
      "Healthcare Management                0.020379\n",
      "Hospitality Management               0.014612\n",
      "E-COMMERCE                           0.014355\n",
      "Retail Management                    0.012817\n",
      "Rural and Agribusiness               0.009357\n",
      "E-Business                           0.007306\n",
      "Services Excellence                  0.005127\n",
      "Name: proportion, dtype: float64\n",
      "_________________________________________________________________________________________________\n",
      "How did you hear about X Education\n",
      "_________________________________________________________________________________________________\n",
      "How did you hear about X Education\n",
      "Select                   0.717048\n",
      "Online Search            0.114887\n",
      "Word Of Mouth            0.049481\n",
      "Student of SomeSchool    0.044078\n",
      "Other                    0.026447\n",
      "Multiple Sources         0.021612\n",
      "Advertisements           0.009953\n",
      "Social Media             0.009527\n",
      "Email                    0.003697\n",
      "SMS                      0.003270\n",
      "Name: proportion, dtype: float64\n",
      "_________________________________________________________________________________________________\n",
      "What is your current occupation\n",
      "_________________________________________________________________________________________________\n",
      "What is your current occupation\n",
      "Unemployed              0.854962\n",
      "Working Professional    0.107786\n",
      "Student                 0.032061\n",
      "Other                   0.002443\n",
      "Housewife               0.001527\n",
      "Businessman             0.001221\n",
      "Name: proportion, dtype: float64\n",
      "_________________________________________________________________________________________________\n",
      "What matters most to you in choosing a course\n",
      "_________________________________________________________________________________________________\n",
      "What matters most to you in choosing a course\n",
      "Better Career Prospects      0.999541\n",
      "Flexibility & Convenience    0.000306\n",
      "Other                        0.000153\n",
      "Name: proportion, dtype: float64\n",
      "_________________________________________________________________________________________________\n",
      "Tags\n",
      "_________________________________________________________________________________________________\n",
      "Tags\n",
      "Will revert after reading the email                  0.351962\n",
      "Ringing                                              0.204349\n",
      "Interested in other courses                          0.087141\n",
      "Already a student                                    0.078988\n",
      "Closed by Horizzon                                   0.060812\n",
      "switched off                                         0.040768\n",
      "Busy                                                 0.031595\n",
      "Lost to EINS                                         0.029727\n",
      "Not doing further education                          0.024631\n",
      "Interested  in full time MBA                         0.019874\n",
      "Graduation in progress                               0.018855\n",
      "invalid number                                       0.014099\n",
      "Diploma holder (Not Eligible)                        0.010702\n",
      "wrong number given                                   0.007984\n",
      "opp hangup                                           0.005606\n",
      "number not provided                                  0.004586\n",
      "in touch with EINS                                   0.002038\n",
      "Lost to Others                                       0.001189\n",
      "Still Thinking                                       0.001019\n",
      "Want to take admission but has financial problems    0.001019\n",
      "In confusion whether part time or DLP                0.000849\n",
      "Interested in Next batch                             0.000849\n",
      "Lateral student                                      0.000510\n",
      "Shall take in the next coming month                  0.000340\n",
      "University not recognized                            0.000340\n",
      "Recognition issue (DEC approval)                     0.000170\n",
      "Name: proportion, dtype: float64\n",
      "_________________________________________________________________________________________________\n",
      "Lead Quality\n",
      "_________________________________________________________________________________________________\n",
      "Lead Quality\n",
      "Might be             0.348759\n",
      "Not Sure             0.244131\n",
      "High in Relevance    0.142410\n",
      "Worst                0.134362\n",
      "Low in Relevance     0.130338\n",
      "Name: proportion, dtype: float64\n",
      "_________________________________________________________________________________________________\n",
      "Lead Profile\n",
      "_________________________________________________________________________________________________\n",
      "Lead Profile\n",
      "Select                         0.634819\n",
      "Potential Lead                 0.246976\n",
      "Other Leads                    0.074567\n",
      "Student of SomeSchool          0.036901\n",
      "Lateral Student                0.003675\n",
      "Dual Specialization Student    0.003062\n",
      "Name: proportion, dtype: float64\n",
      "_________________________________________________________________________________________________\n",
      "City\n",
      "_________________________________________________________________________________________________\n",
      "City\n",
      "Mumbai                         0.412020\n",
      "Select                         0.287596\n",
      "Thane & Outskirts              0.096164\n",
      "Other Cities                   0.087724\n",
      "Other Cities of Maharashtra    0.058440\n",
      "Other Metro Cities             0.048593\n",
      "Tier II Cities                 0.009463\n",
      "Name: proportion, dtype: float64\n",
      "_________________________________________________________________________________________________\n",
      "Asymmetrique Activity Index\n",
      "_________________________________________________________________________________________________\n",
      "Asymmetrique Activity Index\n",
      "02.Medium    0.764436\n",
      "01.High      0.163481\n",
      "03.Low       0.072083\n",
      "Name: proportion, dtype: float64\n",
      "_________________________________________________________________________________________________\n",
      "Asymmetrique Profile Index\n",
      "_________________________________________________________________________________________________\n",
      "Asymmetrique Profile Index\n",
      "02.Medium    0.555157\n",
      "01.High      0.438670\n",
      "03.Low       0.006173\n",
      "Name: proportion, dtype: float64\n",
      "_________________________________________________________________________________________________\n",
      "Last Notable Activity\n",
      "_________________________________________________________________________________________________\n",
      "Last Notable Activity\n",
      "Modified                        0.368723\n",
      "Email Opened                    0.305952\n",
      "SMS Sent                        0.235065\n",
      "Page Visited on Website         0.034416\n",
      "Olark Chat Conversation         0.019805\n",
      "Email Link Clicked              0.018723\n",
      "Email Bounced                   0.006494\n",
      "Unsubscribed                    0.005087\n",
      "Unreachable                     0.003463\n",
      "Had a Phone Conversation        0.001515\n",
      "Email Marked Spam               0.000216\n",
      "Approached upfront              0.000108\n",
      "Resubscribed to emails          0.000108\n",
      "View in browser link Clicked    0.000108\n",
      "Form Submitted on Website       0.000108\n",
      "Email Received                  0.000108\n",
      "Name: proportion, dtype: float64\n",
      "_________________________________________________________________________________________________\n"
     ]
    }
   ],
   "source": [
    "for cols in df.iloc[:,1:].select_dtypes(include='object').columns:\n",
    "    print(cols)\n",
    "    print(\"_________________________________________________________________________________________________\")\n",
    "    print(df[cols].value_counts(normalize= True))\n",
    "    print(\"_________________________________________________________________________________________________\")"
   ]
  },
  {
   "cell_type": "code",
   "execution_count": 404,
   "id": "5061d41a-4a09-4532-b863-6efa658272af",
   "metadata": {
    "tags": []
   },
   "outputs": [],
   "source": [
    "# Connverting the select option into NaN Values\n",
    "df=df.replace('Select',np.nan)"
   ]
  },
  {
   "cell_type": "code",
   "execution_count": 405,
   "id": "563a3977-3d2d-4793-96f8-18d8c3e81799",
   "metadata": {
    "tags": []
   },
   "outputs": [
    {
     "data": {
      "text/plain": [
       "Prospect ID                                       0.000000\n",
       "Lead Number                                       0.000000\n",
       "Lead Origin                                       0.000000\n",
       "Lead Source                                       0.389610\n",
       "Do Not Email                                      0.000000\n",
       "Do Not Call                                       0.000000\n",
       "Converted                                         0.000000\n",
       "TotalVisits                                       1.482684\n",
       "Total Time Spent on Website                       0.000000\n",
       "Page Views Per Visit                              1.482684\n",
       "Last Activity                                     1.114719\n",
       "Country                                          26.634199\n",
       "Specialization                                   36.580087\n",
       "How did you hear about X Education               78.463203\n",
       "What is your current occupation                  29.112554\n",
       "What matters most to you in choosing a course    29.318182\n",
       "Search                                            0.000000\n",
       "Magazine                                          0.000000\n",
       "Newspaper Article                                 0.000000\n",
       "X Education Forums                                0.000000\n",
       "Newspaper                                         0.000000\n",
       "Digital Advertisement                             0.000000\n",
       "Through Recommendations                           0.000000\n",
       "Receive More Updates About Our Courses            0.000000\n",
       "Tags                                             36.287879\n",
       "Lead Quality                                     51.590909\n",
       "Update me on Supply Chain Content                 0.000000\n",
       "Get updates on DM Content                         0.000000\n",
       "Lead Profile                                     74.188312\n",
       "City                                             39.707792\n",
       "Asymmetrique Activity Index                      45.649351\n",
       "Asymmetrique Profile Index                       45.649351\n",
       "Asymmetrique Activity Score                      45.649351\n",
       "Asymmetrique Profile Score                       45.649351\n",
       "I agree to pay the amount through cheque          0.000000\n",
       "A free copy of Mastering The Interview            0.000000\n",
       "Last Notable Activity                             0.000000\n",
       "dtype: float64"
      ]
     },
     "execution_count": 405,
     "metadata": {},
     "output_type": "execute_result"
    }
   ],
   "source": [
    "100*df.isnull().sum()/len(df)"
   ]
  },
  {
   "cell_type": "code",
   "execution_count": 406,
   "id": "b3e4408b-6bb5-40e2-92c7-ae3225025536",
   "metadata": {
    "tags": []
   },
   "outputs": [],
   "source": [
    "df=df.drop(df.loc[:,list(round(df.isnull().sum()/df.shape[0], 2)>0.70)].columns,axis=1)"
   ]
  },
  {
   "cell_type": "code",
   "execution_count": 407,
   "id": "2c3c46b8-47c0-4e6e-8720-571a3727be86",
   "metadata": {
    "tags": []
   },
   "outputs": [
    {
     "name": "stdout",
     "output_type": "stream",
     "text": [
      "<class 'pandas.core.frame.DataFrame'>\n",
      "RangeIndex: 9240 entries, 0 to 9239\n",
      "Data columns (total 35 columns):\n",
      " #   Column                                         Non-Null Count  Dtype  \n",
      "---  ------                                         --------------  -----  \n",
      " 0   Prospect ID                                    9240 non-null   object \n",
      " 1   Lead Number                                    9240 non-null   int64  \n",
      " 2   Lead Origin                                    9240 non-null   object \n",
      " 3   Lead Source                                    9204 non-null   object \n",
      " 4   Do Not Email                                   9240 non-null   int64  \n",
      " 5   Do Not Call                                    9240 non-null   int64  \n",
      " 6   Converted                                      9240 non-null   int64  \n",
      " 7   TotalVisits                                    9103 non-null   float64\n",
      " 8   Total Time Spent on Website                    9240 non-null   int64  \n",
      " 9   Page Views Per Visit                           9103 non-null   float64\n",
      " 10  Last Activity                                  9137 non-null   object \n",
      " 11  Country                                        6779 non-null   object \n",
      " 12  Specialization                                 5860 non-null   object \n",
      " 13  What is your current occupation                6550 non-null   object \n",
      " 14  What matters most to you in choosing a course  6531 non-null   object \n",
      " 15  Search                                         9240 non-null   int64  \n",
      " 16  Magazine                                       9240 non-null   int64  \n",
      " 17  Newspaper Article                              9240 non-null   int64  \n",
      " 18  X Education Forums                             9240 non-null   int64  \n",
      " 19  Newspaper                                      9240 non-null   int64  \n",
      " 20  Digital Advertisement                          9240 non-null   int64  \n",
      " 21  Through Recommendations                        9240 non-null   int64  \n",
      " 22  Receive More Updates About Our Courses         9240 non-null   int64  \n",
      " 23  Tags                                           5887 non-null   object \n",
      " 24  Lead Quality                                   4473 non-null   object \n",
      " 25  Update me on Supply Chain Content              9240 non-null   int64  \n",
      " 26  Get updates on DM Content                      9240 non-null   int64  \n",
      " 27  City                                           5571 non-null   object \n",
      " 28  Asymmetrique Activity Index                    5022 non-null   object \n",
      " 29  Asymmetrique Profile Index                     5022 non-null   object \n",
      " 30  Asymmetrique Activity Score                    5022 non-null   float64\n",
      " 31  Asymmetrique Profile Score                     5022 non-null   float64\n",
      " 32  I agree to pay the amount through cheque       9240 non-null   int64  \n",
      " 33  A free copy of Mastering The Interview         9240 non-null   int64  \n",
      " 34  Last Notable Activity                          9240 non-null   object \n",
      "dtypes: float64(4), int64(17), object(14)\n",
      "memory usage: 2.5+ MB\n"
     ]
    }
   ],
   "source": [
    "df.info()"
   ]
  },
  {
   "cell_type": "code",
   "execution_count": 408,
   "id": "8383804d-1c61-4745-b7b2-9daf7723042c",
   "metadata": {
    "tags": []
   },
   "outputs": [],
   "source": [
    "df=df.drop(['Asymmetrique Activity Index','Asymmetrique Profile Index','Asymmetrique Activity Score','Asymmetrique Profile Score'],axis=1)"
   ]
  },
  {
   "cell_type": "code",
   "execution_count": 409,
   "id": "22811274-3111-45f8-9010-8e90e481fb8c",
   "metadata": {
    "tags": []
   },
   "outputs": [],
   "source": [
    "## Imputing the null values\n",
    "df['City']=df['City'].replace(np.nan,'Mumbai')\n",
    "df['Country']= df['Country'].replace(np.nan,'India')\n",
    "df['Specialization']= df['Specialization'].replace(np.nan,'Other_Specialization')\n",
    "df['What is your current occupation']=df['What is your current occupation'].replace(np.nan,'Unemployed')\n",
    "df['What matters most to you in choosing a course']=df['What matters most to you in choosing a course'].replace(np.nan,'Better Career Prospects')"
   ]
  },
  {
   "cell_type": "code",
   "execution_count": 410,
   "id": "0e541896-35c0-4ef6-b6a8-9a2a10359623",
   "metadata": {
    "tags": []
   },
   "outputs": [],
   "source": [
    "df['Lead Quality']= df['Lead Quality'].replace(np.nan,'Not Sure')\n",
    "df['Tags'] = df['Tags'].replace(np.nan,'Will revert after reading the email')"
   ]
  },
  {
   "cell_type": "code",
   "execution_count": 411,
   "id": "fa92a637-6b36-420e-996f-4f48c9c645d0",
   "metadata": {
    "tags": []
   },
   "outputs": [],
   "source": [
    "## for 2% or less than missing value we will treat it like it\n",
    "df.dropna(inplace=True)"
   ]
  },
  {
   "cell_type": "code",
   "execution_count": 412,
   "id": "95fd54d7-fc76-46d3-a7b7-b9791df6934a",
   "metadata": {
    "tags": []
   },
   "outputs": [
    {
     "data": {
      "text/html": [
       "<div>\n",
       "<style scoped>\n",
       "    .dataframe tbody tr th:only-of-type {\n",
       "        vertical-align: middle;\n",
       "    }\n",
       "\n",
       "    .dataframe tbody tr th {\n",
       "        vertical-align: top;\n",
       "    }\n",
       "\n",
       "    .dataframe thead th {\n",
       "        text-align: right;\n",
       "    }\n",
       "</style>\n",
       "<table border=\"1\" class=\"dataframe\">\n",
       "  <thead>\n",
       "    <tr style=\"text-align: right;\">\n",
       "      <th></th>\n",
       "      <th>Prospect ID</th>\n",
       "      <th>Lead Number</th>\n",
       "      <th>Lead Origin</th>\n",
       "      <th>Lead Source</th>\n",
       "      <th>Do Not Email</th>\n",
       "      <th>Do Not Call</th>\n",
       "      <th>Converted</th>\n",
       "      <th>TotalVisits</th>\n",
       "      <th>Total Time Spent on Website</th>\n",
       "      <th>Page Views Per Visit</th>\n",
       "      <th>...</th>\n",
       "      <th>Through Recommendations</th>\n",
       "      <th>Receive More Updates About Our Courses</th>\n",
       "      <th>Tags</th>\n",
       "      <th>Lead Quality</th>\n",
       "      <th>Update me on Supply Chain Content</th>\n",
       "      <th>Get updates on DM Content</th>\n",
       "      <th>City</th>\n",
       "      <th>I agree to pay the amount through cheque</th>\n",
       "      <th>A free copy of Mastering The Interview</th>\n",
       "      <th>Last Notable Activity</th>\n",
       "    </tr>\n",
       "  </thead>\n",
       "  <tbody>\n",
       "    <tr>\n",
       "      <th>0</th>\n",
       "      <td>7927b2df-8bba-4d29-b9a2-b6e0beafe620</td>\n",
       "      <td>660737</td>\n",
       "      <td>API</td>\n",
       "      <td>Olark Chat</td>\n",
       "      <td>0</td>\n",
       "      <td>0</td>\n",
       "      <td>0</td>\n",
       "      <td>0.0</td>\n",
       "      <td>0</td>\n",
       "      <td>0.0</td>\n",
       "      <td>...</td>\n",
       "      <td>0</td>\n",
       "      <td>0</td>\n",
       "      <td>Interested in other courses</td>\n",
       "      <td>Low in Relevance</td>\n",
       "      <td>0</td>\n",
       "      <td>0</td>\n",
       "      <td>Mumbai</td>\n",
       "      <td>0</td>\n",
       "      <td>0</td>\n",
       "      <td>Modified</td>\n",
       "    </tr>\n",
       "    <tr>\n",
       "      <th>1</th>\n",
       "      <td>2a272436-5132-4136-86fa-dcc88c88f482</td>\n",
       "      <td>660728</td>\n",
       "      <td>API</td>\n",
       "      <td>Organic Search</td>\n",
       "      <td>0</td>\n",
       "      <td>0</td>\n",
       "      <td>0</td>\n",
       "      <td>5.0</td>\n",
       "      <td>674</td>\n",
       "      <td>2.5</td>\n",
       "      <td>...</td>\n",
       "      <td>0</td>\n",
       "      <td>0</td>\n",
       "      <td>Ringing</td>\n",
       "      <td>Not Sure</td>\n",
       "      <td>0</td>\n",
       "      <td>0</td>\n",
       "      <td>Mumbai</td>\n",
       "      <td>0</td>\n",
       "      <td>0</td>\n",
       "      <td>Email Opened</td>\n",
       "    </tr>\n",
       "    <tr>\n",
       "      <th>2</th>\n",
       "      <td>8cc8c611-a219-4f35-ad23-fdfd2656bd8a</td>\n",
       "      <td>660727</td>\n",
       "      <td>Landing Page Submission</td>\n",
       "      <td>Direct Traffic</td>\n",
       "      <td>0</td>\n",
       "      <td>0</td>\n",
       "      <td>1</td>\n",
       "      <td>2.0</td>\n",
       "      <td>1532</td>\n",
       "      <td>2.0</td>\n",
       "      <td>...</td>\n",
       "      <td>0</td>\n",
       "      <td>0</td>\n",
       "      <td>Will revert after reading the email</td>\n",
       "      <td>Might be</td>\n",
       "      <td>0</td>\n",
       "      <td>0</td>\n",
       "      <td>Mumbai</td>\n",
       "      <td>0</td>\n",
       "      <td>1</td>\n",
       "      <td>Email Opened</td>\n",
       "    </tr>\n",
       "    <tr>\n",
       "      <th>3</th>\n",
       "      <td>0cc2df48-7cf4-4e39-9de9-19797f9b38cc</td>\n",
       "      <td>660719</td>\n",
       "      <td>Landing Page Submission</td>\n",
       "      <td>Direct Traffic</td>\n",
       "      <td>0</td>\n",
       "      <td>0</td>\n",
       "      <td>0</td>\n",
       "      <td>1.0</td>\n",
       "      <td>305</td>\n",
       "      <td>1.0</td>\n",
       "      <td>...</td>\n",
       "      <td>0</td>\n",
       "      <td>0</td>\n",
       "      <td>Ringing</td>\n",
       "      <td>Not Sure</td>\n",
       "      <td>0</td>\n",
       "      <td>0</td>\n",
       "      <td>Mumbai</td>\n",
       "      <td>0</td>\n",
       "      <td>0</td>\n",
       "      <td>Modified</td>\n",
       "    </tr>\n",
       "    <tr>\n",
       "      <th>4</th>\n",
       "      <td>3256f628-e534-4826-9d63-4a8b88782852</td>\n",
       "      <td>660681</td>\n",
       "      <td>Landing Page Submission</td>\n",
       "      <td>Google</td>\n",
       "      <td>0</td>\n",
       "      <td>0</td>\n",
       "      <td>1</td>\n",
       "      <td>2.0</td>\n",
       "      <td>1428</td>\n",
       "      <td>1.0</td>\n",
       "      <td>...</td>\n",
       "      <td>0</td>\n",
       "      <td>0</td>\n",
       "      <td>Will revert after reading the email</td>\n",
       "      <td>Might be</td>\n",
       "      <td>0</td>\n",
       "      <td>0</td>\n",
       "      <td>Mumbai</td>\n",
       "      <td>0</td>\n",
       "      <td>0</td>\n",
       "      <td>Modified</td>\n",
       "    </tr>\n",
       "  </tbody>\n",
       "</table>\n",
       "<p>5 rows × 31 columns</p>\n",
       "</div>"
      ],
      "text/plain": [
       "                            Prospect ID  Lead Number              Lead Origin  \\\n",
       "0  7927b2df-8bba-4d29-b9a2-b6e0beafe620       660737                      API   \n",
       "1  2a272436-5132-4136-86fa-dcc88c88f482       660728                      API   \n",
       "2  8cc8c611-a219-4f35-ad23-fdfd2656bd8a       660727  Landing Page Submission   \n",
       "3  0cc2df48-7cf4-4e39-9de9-19797f9b38cc       660719  Landing Page Submission   \n",
       "4  3256f628-e534-4826-9d63-4a8b88782852       660681  Landing Page Submission   \n",
       "\n",
       "      Lead Source  Do Not Email  Do Not Call  Converted  TotalVisits  \\\n",
       "0      Olark Chat             0            0          0          0.0   \n",
       "1  Organic Search             0            0          0          5.0   \n",
       "2  Direct Traffic             0            0          1          2.0   \n",
       "3  Direct Traffic             0            0          0          1.0   \n",
       "4          Google             0            0          1          2.0   \n",
       "\n",
       "   Total Time Spent on Website  Page Views Per Visit  ...  \\\n",
       "0                            0                   0.0  ...   \n",
       "1                          674                   2.5  ...   \n",
       "2                         1532                   2.0  ...   \n",
       "3                          305                   1.0  ...   \n",
       "4                         1428                   1.0  ...   \n",
       "\n",
       "  Through Recommendations Receive More Updates About Our Courses  \\\n",
       "0                       0                                      0   \n",
       "1                       0                                      0   \n",
       "2                       0                                      0   \n",
       "3                       0                                      0   \n",
       "4                       0                                      0   \n",
       "\n",
       "                                  Tags      Lead Quality  \\\n",
       "0          Interested in other courses  Low in Relevance   \n",
       "1                              Ringing          Not Sure   \n",
       "2  Will revert after reading the email          Might be   \n",
       "3                              Ringing          Not Sure   \n",
       "4  Will revert after reading the email          Might be   \n",
       "\n",
       "  Update me on Supply Chain Content  Get updates on DM Content    City  \\\n",
       "0                                 0                          0  Mumbai   \n",
       "1                                 0                          0  Mumbai   \n",
       "2                                 0                          0  Mumbai   \n",
       "3                                 0                          0  Mumbai   \n",
       "4                                 0                          0  Mumbai   \n",
       "\n",
       "   I agree to pay the amount through cheque  \\\n",
       "0                                         0   \n",
       "1                                         0   \n",
       "2                                         0   \n",
       "3                                         0   \n",
       "4                                         0   \n",
       "\n",
       "   A free copy of Mastering The Interview  Last Notable Activity  \n",
       "0                                       0               Modified  \n",
       "1                                       0           Email Opened  \n",
       "2                                       1           Email Opened  \n",
       "3                                       0               Modified  \n",
       "4                                       0               Modified  \n",
       "\n",
       "[5 rows x 31 columns]"
      ]
     },
     "execution_count": 412,
     "metadata": {},
     "output_type": "execute_result"
    }
   ],
   "source": [
    "df.head()"
   ]
  },
  {
   "cell_type": "markdown",
   "id": "889c2910-db6c-4ce5-a869-a4d15f2ca048",
   "metadata": {},
   "source": [
    "### Step 4:EDA Analysis on the dataset"
   ]
  },
  {
   "cell_type": "markdown",
   "id": "c5e6e059-d0a1-4de3-ba11-3ef3264c7a47",
   "metadata": {},
   "source": [
    "#### EDA on the target variable"
   ]
  },
  {
   "cell_type": "code",
   "execution_count": 413,
   "id": "8dc243f7-4a75-4224-9dae-aec0481c2092",
   "metadata": {
    "tags": []
   },
   "outputs": [
    {
     "data": {
      "text/plain": [
       "Converted\n",
       "0    5639\n",
       "1    3435\n",
       "Name: count, dtype: int64"
      ]
     },
     "execution_count": 413,
     "metadata": {},
     "output_type": "execute_result"
    }
   ],
   "source": [
    "df['Converted'].value_counts()"
   ]
  },
  {
   "cell_type": "code",
   "execution_count": 414,
   "id": "edbbff9e-3646-4f50-997f-0bdf90968072",
   "metadata": {
    "tags": []
   },
   "outputs": [
    {
     "data": {
      "image/png": "[encoded data removed]",
      "text/plain": [
       "<Figure size 400x400 with 1 Axes>"
      ]
     },
     "metadata": {},
     "output_type": "display_data"
    }
   ],
   "source": [
    "plt.figure(figsize=(4,4))\n",
    "sns.countplot(x='Converted',data=df)\n",
    "plt.show()"
   ]
  },
  {
   "cell_type": "code",
   "execution_count": 415,
   "id": "f61d8319-1f78-49f0-b504-1d29edcac303",
   "metadata": {
    "tags": []
   },
   "outputs": [
    {
     "data": {
      "image/png": "[encoded data removed]",
      "text/plain": [
       "<Figure size 400x400 with 1 Axes>"
      ]
     },
     "metadata": {},
     "output_type": "display_data"
    }
   ],
   "source": [
    "plt.figure(figsize=(4,4))\n",
    "sns.countplot(x='Lead Origin',hue='Converted',data=df)\n",
    "plt.xticks(rotation=90)\n",
    "plt.show()"
   ]
  },
  {
   "cell_type": "code",
   "execution_count": 416,
   "id": "dae21fb5-549f-4b7a-b6c5-f584c249388f",
   "metadata": {
    "tags": []
   },
   "outputs": [
    {
     "data": {
      "image/png": "[encoded data removed]",
      "text/plain": [
       "<Figure size 400x400 with 1 Axes>"
      ]
     },
     "metadata": {},
     "output_type": "display_data"
    }
   ],
   "source": [
    "## Graph before the compressing the data\n",
    "plt.figure(figsize=(4,4))\n",
    "sns.countplot(x='Lead Source',hue='Converted',data=df)\n",
    "plt.xticks(rotation=90)\n",
    "plt.show()"
   ]
  },
  {
   "cell_type": "code",
   "execution_count": 417,
   "id": "8d83238f-244a-4591-8e88-f252d54c73e9",
   "metadata": {
    "tags": []
   },
   "outputs": [],
   "source": [
    "## As other websites the plot is not that much clear as compare to the most viewed sites so will replace them into other websites\n",
    "## so that graph will be more easy to read and also we can do the analysis easily on it\n",
    "replace_var = ['bing','Click2call','Social Media','Live Chat','Press_Release','Pay per Click Ads','blog','WeLearn','welearnblog_Home','youtubechannel','testone','NC_EDM']\n",
    "df['Lead Source'] = df['Lead Source'].replace(replace_var,'Other Website')"
   ]
  },
  {
   "cell_type": "code",
   "execution_count": 418,
   "id": "09b1a620-0609-4e9b-8017-77be016d1e5d",
   "metadata": {
    "tags": []
   },
   "outputs": [],
   "source": [
    "df['Lead Source'] = df['Lead Source'].replace('google','Google')"
   ]
  },
  {
   "cell_type": "code",
   "execution_count": 419,
   "id": "f1cbaa51-5502-4621-8542-07d2bedf0ade",
   "metadata": {
    "tags": []
   },
   "outputs": [
    {
     "data": {
      "image/png": "[encoded data removed]",
      "text/plain": [
       "<Figure size 400x400 with 1 Axes>"
      ]
     },
     "metadata": {},
     "output_type": "display_data"
    }
   ],
   "source": [
    "# Graph after Compressing\n",
    "plt.figure(figsize=(4,4))\n",
    "sns.countplot(x='Lead Source',hue='Converted',data=df)\n",
    "plt.xticks(rotation=90)\n",
    "plt.show()"
   ]
  },
  {
   "cell_type": "code",
   "execution_count": 420,
   "id": "a54e35da-247d-4d6a-94c6-f9b9afee1b31",
   "metadata": {},
   "outputs": [
    {
     "data": {
      "image/png": "[encoded data removed]",
      "text/plain": [
       "<Figure size 400x400 with 1 Axes>"
      ]
     },
     "metadata": {},
     "output_type": "display_data"
    }
   ],
   "source": [
    "plt.figure(figsize=(4,4))\n",
    "sns.countplot(x='Tags',hue='Converted',data=df)\n",
    "plt.xticks(rotation='vertical')\n",
    "plt.show()"
   ]
  },
  {
   "cell_type": "code",
   "execution_count": 421,
   "id": "d019795f-bf5e-46a2-9ad2-ffc45178a17f",
   "metadata": {},
   "outputs": [
    {
     "data": {
      "image/png": "[encoded data removed]",
      "text/plain": [
       "<Figure size 600x600 with 2 Axes>"
      ]
     },
     "metadata": {},
     "output_type": "display_data"
    }
   ],
   "source": [
    "fig, axes = plt.subplots(nrows=2, ncols=1, figsize=(6, 6)) \n",
    "\n",
    "for i, col in enumerate(['TotalVisits', 'Total Time Spent on Website']):\n",
    "    sns.boxplot(df[col], ax=axes[i])  \n",
    "    axes[i].set_xlabel(col)\n",
    "    axes[i].set_ylabel('Frequency')\n",
    "    plt.subplots_adjust(hspace=0.2) \n",
    "plt.tight_layout() \n",
    "plt.show()"
   ]
  },
  {
   "cell_type": "code",
   "execution_count": 422,
   "id": "2a238d7b-5d24-4360-a0a4-3452fd7515da",
   "metadata": {},
   "outputs": [],
   "source": [
    "## There are lots of outliers in the Total Visits\n",
    "q1 = df['TotalVisits'].quantile(0.95)\n",
    "df['TotalVisits'][df['TotalVisits']>=q1]=q1"
   ]
  },
  {
   "cell_type": "code",
   "execution_count": 423,
   "id": "b320b811-2d49-494c-a91c-a783b8c288ff",
   "metadata": {
    "tags": []
   },
   "outputs": [
    {
     "data": {
      "image/png": "[encoded data removed]",
      "text/plain": [
       "<Figure size 600x600 with 2 Axes>"
      ]
     },
     "metadata": {},
     "output_type": "display_data"
    }
   ],
   "source": [
    "fig, axes = plt.subplots(nrows=2, ncols=1, figsize=(6, 6)) \n",
    "for i, col in enumerate(['TotalVisits', 'Total Time Spent on Website']):\n",
    "    sns.boxplot(df[col], ax=axes[i])  \n",
    "    axes[i].set_xlabel(col)\n",
    "    axes[i].set_ylabel('Frequency')\n",
    "    plt.subplots_adjust(hspace=2.0) \n",
    "plt.tight_layout() \n",
    "plt.show()"
   ]
  },
  {
   "cell_type": "markdown",
   "id": "eb4fef64-0e18-430c-8be9-8e09956808d5",
   "metadata": {},
   "source": [
    "#### so we can say that if user spend more time on website it will converted to lead"
   ]
  },
  {
   "cell_type": "code",
   "execution_count": 424,
   "id": "f3431077-550e-48bd-937b-bba5b6124988",
   "metadata": {
    "tags": []
   },
   "outputs": [
    {
     "data": {
      "image/png": "[encoded data removed]",
      "text/plain": [
       "<Figure size 400x400 with 1 Axes>"
      ]
     },
     "metadata": {},
     "output_type": "display_data"
    }
   ],
   "source": [
    "plt.figure(figsize=(4,4))\n",
    "sns.countplot(x='Last Activity',hue='Converted',data=df)\n",
    "plt.xticks(rotation='vertical')\n",
    "plt.show()"
   ]
  },
  {
   "cell_type": "code",
   "execution_count": 425,
   "id": "44c509a9-7b2d-4b58-a0e6-54c533853083",
   "metadata": {
    "tags": []
   },
   "outputs": [],
   "source": [
    "var_list_of_low_count =['Had a Phone Conversation','View in browser link Clicked','Approached upfront',\n",
    "                       'Email Received','Email Marked Spam','Visited Booth in Tradeshow','Resubscribed to emails']"
   ]
  },
  {
   "cell_type": "code",
   "execution_count": 426,
   "id": "a0459f40-d03a-4e26-b15f-2fce6960725a",
   "metadata": {},
   "outputs": [],
   "source": [
    "df['Last Activity']=df['Last Activity'].replace(var_list_of_low_count,'Other Activity')"
   ]
  },
  {
   "cell_type": "code",
   "execution_count": 427,
   "id": "6b622e38-7023-4e7e-bbd1-6ada1fdb71c5",
   "metadata": {
    "tags": []
   },
   "outputs": [
    {
     "data": {
      "image/png": "[encoded data removed]",
      "text/plain": [
       "<Figure size 400x400 with 1 Axes>"
      ]
     },
     "metadata": {},
     "output_type": "display_data"
    }
   ],
   "source": [
    "plt.figure(figsize=(4,4))\n",
    "sns.countplot(x='Last Activity',hue='Converted',data=df)\n",
    "plt.xticks(rotation='vertical')\n",
    "plt.show()"
   ]
  },
  {
   "cell_type": "code",
   "execution_count": 428,
   "id": "b2e5c3a2-c414-4aa7-a94c-ecf7aa997a0c",
   "metadata": {
    "tags": []
   },
   "outputs": [
    {
     "data": {
      "image/png": "[encoded data removed]",
      "text/plain": [
       "<Figure size 1000x1000 with 2 Axes>"
      ]
     },
     "metadata": {},
     "output_type": "display_data"
    }
   ],
   "source": [
    "fig=plt.subplots(figsize=(10, 10))\n",
    "\n",
    "for i, feature in enumerate([\"Lead Quality\", \"Tags\"]):\n",
    "    plt.subplot(2, 2, i+1)\n",
    "    plt.subplots_adjust(hspace = 2.0)\n",
    "    sns.countplot(x=feature, hue=\"Converted\", data=df)\n",
    "    plt.xticks( rotation='vertical')\n",
    "    plt.tight_layout()"
   ]
  },
  {
   "cell_type": "code",
   "execution_count": 429,
   "id": "d64464a6-7adc-4aa7-b7ca-d32e42966e93",
   "metadata": {
    "tags": []
   },
   "outputs": [],
   "source": [
    "var_list_of_low_count_tags =['Diploma holder (Not Eligible)','wrong number given','opp hangup',\n",
    "                            'number not provided','in touch with EINS','Lost to Others','Still Thinking',\n",
    "                             'Want to take admission but has financial problems','In confusion whether part time or DLP',\n",
    "   'Interested in Next batch','Lateral student','Shall take in the next coming month','University not recognized','Recognition issue (DEC approval)']"
   ]
  },
  {
   "cell_type": "code",
   "execution_count": 430,
   "id": "e99abf76-242f-4ddb-9627-0d3aff958bce",
   "metadata": {
    "tags": []
   },
   "outputs": [
    {
     "data": {
      "image/png": "[encoded data removed]",
      "text/plain": [
       "<Figure size 600x600 with 1 Axes>"
      ]
     },
     "metadata": {},
     "output_type": "display_data"
    }
   ],
   "source": [
    "df['Tags']= df['Tags'].replace(var_list_of_low_count_tags,'Other_Tags')\n",
    "plt.figure(figsize=(6,6))\n",
    "sns.countplot(x=\"Tags\",data=df)\n",
    "plt.xticks(rotation='vertical')\n",
    "plt.show()"
   ]
  },
  {
   "cell_type": "markdown",
   "id": "833243ce-18ba-4c6c-be75-6ecfe9ce4a94",
   "metadata": {},
   "source": [
    "### Droping unncessary Columns"
   ]
  },
  {
   "cell_type": "code",
   "execution_count": 431,
   "id": "41424b63-b0eb-40c7-8a9c-4067e23ce9c4",
   "metadata": {
    "tags": []
   },
   "outputs": [
    {
     "data": {
      "text/html": [
       "<div>\n",
       "<style scoped>\n",
       "    .dataframe tbody tr th:only-of-type {\n",
       "        vertical-align: middle;\n",
       "    }\n",
       "\n",
       "    .dataframe tbody tr th {\n",
       "        vertical-align: top;\n",
       "    }\n",
       "\n",
       "    .dataframe thead th {\n",
       "        text-align: right;\n",
       "    }\n",
       "</style>\n",
       "<table border=\"1\" class=\"dataframe\">\n",
       "  <thead>\n",
       "    <tr style=\"text-align: right;\">\n",
       "      <th></th>\n",
       "      <th>Prospect ID</th>\n",
       "      <th>Lead Origin</th>\n",
       "      <th>Lead Source</th>\n",
       "      <th>Converted</th>\n",
       "      <th>TotalVisits</th>\n",
       "      <th>Total Time Spent on Website</th>\n",
       "      <th>Page Views Per Visit</th>\n",
       "      <th>Last Activity</th>\n",
       "      <th>Specialization</th>\n",
       "      <th>What is your current occupation</th>\n",
       "      <th>Tags</th>\n",
       "      <th>Lead Quality</th>\n",
       "      <th>City</th>\n",
       "      <th>Last Notable Activity</th>\n",
       "    </tr>\n",
       "  </thead>\n",
       "  <tbody>\n",
       "    <tr>\n",
       "      <th>0</th>\n",
       "      <td>7927b2df-8bba-4d29-b9a2-b6e0beafe620</td>\n",
       "      <td>API</td>\n",
       "      <td>Olark Chat</td>\n",
       "      <td>0</td>\n",
       "      <td>0.0</td>\n",
       "      <td>0</td>\n",
       "      <td>0.0</td>\n",
       "      <td>Page Visited on Website</td>\n",
       "      <td>Other_Specialization</td>\n",
       "      <td>Unemployed</td>\n",
       "      <td>Interested in other courses</td>\n",
       "      <td>Low in Relevance</td>\n",
       "      <td>Mumbai</td>\n",
       "      <td>Modified</td>\n",
       "    </tr>\n",
       "    <tr>\n",
       "      <th>1</th>\n",
       "      <td>2a272436-5132-4136-86fa-dcc88c88f482</td>\n",
       "      <td>API</td>\n",
       "      <td>Organic Search</td>\n",
       "      <td>0</td>\n",
       "      <td>5.0</td>\n",
       "      <td>674</td>\n",
       "      <td>2.5</td>\n",
       "      <td>Email Opened</td>\n",
       "      <td>Other_Specialization</td>\n",
       "      <td>Unemployed</td>\n",
       "      <td>Ringing</td>\n",
       "      <td>Not Sure</td>\n",
       "      <td>Mumbai</td>\n",
       "      <td>Email Opened</td>\n",
       "    </tr>\n",
       "    <tr>\n",
       "      <th>2</th>\n",
       "      <td>8cc8c611-a219-4f35-ad23-fdfd2656bd8a</td>\n",
       "      <td>Landing Page Submission</td>\n",
       "      <td>Direct Traffic</td>\n",
       "      <td>1</td>\n",
       "      <td>2.0</td>\n",
       "      <td>1532</td>\n",
       "      <td>2.0</td>\n",
       "      <td>Email Opened</td>\n",
       "      <td>Business Administration</td>\n",
       "      <td>Student</td>\n",
       "      <td>Will revert after reading the email</td>\n",
       "      <td>Might be</td>\n",
       "      <td>Mumbai</td>\n",
       "      <td>Email Opened</td>\n",
       "    </tr>\n",
       "    <tr>\n",
       "      <th>3</th>\n",
       "      <td>0cc2df48-7cf4-4e39-9de9-19797f9b38cc</td>\n",
       "      <td>Landing Page Submission</td>\n",
       "      <td>Direct Traffic</td>\n",
       "      <td>0</td>\n",
       "      <td>1.0</td>\n",
       "      <td>305</td>\n",
       "      <td>1.0</td>\n",
       "      <td>Unreachable</td>\n",
       "      <td>Media and Advertising</td>\n",
       "      <td>Unemployed</td>\n",
       "      <td>Ringing</td>\n",
       "      <td>Not Sure</td>\n",
       "      <td>Mumbai</td>\n",
       "      <td>Modified</td>\n",
       "    </tr>\n",
       "    <tr>\n",
       "      <th>4</th>\n",
       "      <td>3256f628-e534-4826-9d63-4a8b88782852</td>\n",
       "      <td>Landing Page Submission</td>\n",
       "      <td>Google</td>\n",
       "      <td>1</td>\n",
       "      <td>2.0</td>\n",
       "      <td>1428</td>\n",
       "      <td>1.0</td>\n",
       "      <td>Converted to Lead</td>\n",
       "      <td>Other_Specialization</td>\n",
       "      <td>Unemployed</td>\n",
       "      <td>Will revert after reading the email</td>\n",
       "      <td>Might be</td>\n",
       "      <td>Mumbai</td>\n",
       "      <td>Modified</td>\n",
       "    </tr>\n",
       "  </tbody>\n",
       "</table>\n",
       "</div>"
      ],
      "text/plain": [
       "                            Prospect ID              Lead Origin  \\\n",
       "0  7927b2df-8bba-4d29-b9a2-b6e0beafe620                      API   \n",
       "1  2a272436-5132-4136-86fa-dcc88c88f482                      API   \n",
       "2  8cc8c611-a219-4f35-ad23-fdfd2656bd8a  Landing Page Submission   \n",
       "3  0cc2df48-7cf4-4e39-9de9-19797f9b38cc  Landing Page Submission   \n",
       "4  3256f628-e534-4826-9d63-4a8b88782852  Landing Page Submission   \n",
       "\n",
       "      Lead Source  Converted  TotalVisits  Total Time Spent on Website  \\\n",
       "0      Olark Chat          0          0.0                            0   \n",
       "1  Organic Search          0          5.0                          674   \n",
       "2  Direct Traffic          1          2.0                         1532   \n",
       "3  Direct Traffic          0          1.0                          305   \n",
       "4          Google          1          2.0                         1428   \n",
       "\n",
       "   Page Views Per Visit            Last Activity           Specialization  \\\n",
       "0                   0.0  Page Visited on Website     Other_Specialization   \n",
       "1                   2.5             Email Opened     Other_Specialization   \n",
       "2                   2.0             Email Opened  Business Administration   \n",
       "3                   1.0              Unreachable    Media and Advertising   \n",
       "4                   1.0        Converted to Lead     Other_Specialization   \n",
       "\n",
       "  What is your current occupation                                 Tags  \\\n",
       "0                      Unemployed          Interested in other courses   \n",
       "1                      Unemployed                              Ringing   \n",
       "2                         Student  Will revert after reading the email   \n",
       "3                      Unemployed                              Ringing   \n",
       "4                      Unemployed  Will revert after reading the email   \n",
       "\n",
       "       Lead Quality    City Last Notable Activity  \n",
       "0  Low in Relevance  Mumbai              Modified  \n",
       "1          Not Sure  Mumbai          Email Opened  \n",
       "2          Might be  Mumbai          Email Opened  \n",
       "3          Not Sure  Mumbai              Modified  \n",
       "4          Might be  Mumbai              Modified  "
      ]
     },
     "execution_count": 431,
     "metadata": {},
     "output_type": "execute_result"
    }
   ],
   "source": [
    "varlist = ['Lead Number','Do Not Email', 'Do Not Call','What matters most to you in choosing a course', 'Search', 'Magazine','Country','Newspaper Article', 'X Education Forums', 'Newspaper','Digital Advertisement','Through Recommendations','Receive More Updates About Our Courses',\n",
    "         'Update me on Supply Chain Content', 'Get updates on DM Content','I agree to pay the amount through cheque','A free copy of Mastering The Interview']\n",
    "df=df.drop(varlist,axis=1)\n",
    "df.head()"
   ]
  },
  {
   "cell_type": "markdown",
   "id": "c2927005-c8a7-4707-aa50-f31bcca27e66",
   "metadata": {},
   "source": [
    "### Step 5: Creating dummy variables for categorical Variables"
   ]
  },
  {
   "cell_type": "code",
   "execution_count": 432,
   "id": "cb6c8615-0ccd-447a-ab83-6114f20dfe1c",
   "metadata": {
    "tags": []
   },
   "outputs": [
    {
     "data": {
      "text/plain": [
       "Index(['Prospect ID', 'Lead Origin', 'Lead Source', 'Converted', 'TotalVisits',\n",
       "       'Total Time Spent on Website', 'Page Views Per Visit', 'Last Activity',\n",
       "       'Specialization', 'What is your current occupation', 'Tags',\n",
       "       'Lead Quality', 'City', 'Last Notable Activity'],\n",
       "      dtype='object')"
      ]
     },
     "execution_count": 432,
     "metadata": {},
     "output_type": "execute_result"
    }
   ],
   "source": [
    "df.columns"
   ]
  },
  {
   "cell_type": "code",
   "execution_count": 433,
   "id": "d8289ee7-e373-43ce-99fa-c67483c95293",
   "metadata": {
    "tags": []
   },
   "outputs": [],
   "source": [
    "dummy=pd.get_dummies(df[['Lead Origin', 'Lead Source','Last Activity',\n",
    "       'Specialization', 'What is your current occupation', 'Tags',\n",
    "       'Lead Quality', 'Last Notable Activity','City']],drop_first=True).astype(int)"
   ]
  },
  {
   "cell_type": "code",
   "execution_count": 434,
   "id": "fa954633-9c09-4751-a5bf-19e07ee68545",
   "metadata": {
    "tags": []
   },
   "outputs": [
    {
     "data": {
      "text/html": [
       "<div>\n",
       "<style scoped>\n",
       "    .dataframe tbody tr th:only-of-type {\n",
       "        vertical-align: middle;\n",
       "    }\n",
       "\n",
       "    .dataframe tbody tr th {\n",
       "        vertical-align: top;\n",
       "    }\n",
       "\n",
       "    .dataframe thead th {\n",
       "        text-align: right;\n",
       "    }\n",
       "</style>\n",
       "<table border=\"1\" class=\"dataframe\">\n",
       "  <thead>\n",
       "    <tr style=\"text-align: right;\">\n",
       "      <th></th>\n",
       "      <th>Lead Origin_Landing Page Submission</th>\n",
       "      <th>Lead Origin_Lead Add Form</th>\n",
       "      <th>Lead Origin_Lead Import</th>\n",
       "      <th>Lead Source_Facebook</th>\n",
       "      <th>Lead Source_Google</th>\n",
       "      <th>Lead Source_Olark Chat</th>\n",
       "      <th>Lead Source_Organic Search</th>\n",
       "      <th>Lead Source_Other Website</th>\n",
       "      <th>Lead Source_Reference</th>\n",
       "      <th>Lead Source_Referral Sites</th>\n",
       "      <th>...</th>\n",
       "      <th>Last Notable Activity_Resubscribed to emails</th>\n",
       "      <th>Last Notable Activity_SMS Sent</th>\n",
       "      <th>Last Notable Activity_Unreachable</th>\n",
       "      <th>Last Notable Activity_Unsubscribed</th>\n",
       "      <th>Last Notable Activity_View in browser link Clicked</th>\n",
       "      <th>City_Other Cities</th>\n",
       "      <th>City_Other Cities of Maharashtra</th>\n",
       "      <th>City_Other Metro Cities</th>\n",
       "      <th>City_Thane &amp; Outskirts</th>\n",
       "      <th>City_Tier II Cities</th>\n",
       "    </tr>\n",
       "  </thead>\n",
       "  <tbody>\n",
       "    <tr>\n",
       "      <th>0</th>\n",
       "      <td>0</td>\n",
       "      <td>0</td>\n",
       "      <td>0</td>\n",
       "      <td>0</td>\n",
       "      <td>0</td>\n",
       "      <td>1</td>\n",
       "      <td>0</td>\n",
       "      <td>0</td>\n",
       "      <td>0</td>\n",
       "      <td>0</td>\n",
       "      <td>...</td>\n",
       "      <td>0</td>\n",
       "      <td>0</td>\n",
       "      <td>0</td>\n",
       "      <td>0</td>\n",
       "      <td>0</td>\n",
       "      <td>0</td>\n",
       "      <td>0</td>\n",
       "      <td>0</td>\n",
       "      <td>0</td>\n",
       "      <td>0</td>\n",
       "    </tr>\n",
       "    <tr>\n",
       "      <th>1</th>\n",
       "      <td>0</td>\n",
       "      <td>0</td>\n",
       "      <td>0</td>\n",
       "      <td>0</td>\n",
       "      <td>0</td>\n",
       "      <td>0</td>\n",
       "      <td>1</td>\n",
       "      <td>0</td>\n",
       "      <td>0</td>\n",
       "      <td>0</td>\n",
       "      <td>...</td>\n",
       "      <td>0</td>\n",
       "      <td>0</td>\n",
       "      <td>0</td>\n",
       "      <td>0</td>\n",
       "      <td>0</td>\n",
       "      <td>0</td>\n",
       "      <td>0</td>\n",
       "      <td>0</td>\n",
       "      <td>0</td>\n",
       "      <td>0</td>\n",
       "    </tr>\n",
       "    <tr>\n",
       "      <th>2</th>\n",
       "      <td>1</td>\n",
       "      <td>0</td>\n",
       "      <td>0</td>\n",
       "      <td>0</td>\n",
       "      <td>0</td>\n",
       "      <td>0</td>\n",
       "      <td>0</td>\n",
       "      <td>0</td>\n",
       "      <td>0</td>\n",
       "      <td>0</td>\n",
       "      <td>...</td>\n",
       "      <td>0</td>\n",
       "      <td>0</td>\n",
       "      <td>0</td>\n",
       "      <td>0</td>\n",
       "      <td>0</td>\n",
       "      <td>0</td>\n",
       "      <td>0</td>\n",
       "      <td>0</td>\n",
       "      <td>0</td>\n",
       "      <td>0</td>\n",
       "    </tr>\n",
       "    <tr>\n",
       "      <th>3</th>\n",
       "      <td>1</td>\n",
       "      <td>0</td>\n",
       "      <td>0</td>\n",
       "      <td>0</td>\n",
       "      <td>0</td>\n",
       "      <td>0</td>\n",
       "      <td>0</td>\n",
       "      <td>0</td>\n",
       "      <td>0</td>\n",
       "      <td>0</td>\n",
       "      <td>...</td>\n",
       "      <td>0</td>\n",
       "      <td>0</td>\n",
       "      <td>0</td>\n",
       "      <td>0</td>\n",
       "      <td>0</td>\n",
       "      <td>0</td>\n",
       "      <td>0</td>\n",
       "      <td>0</td>\n",
       "      <td>0</td>\n",
       "      <td>0</td>\n",
       "    </tr>\n",
       "    <tr>\n",
       "      <th>4</th>\n",
       "      <td>1</td>\n",
       "      <td>0</td>\n",
       "      <td>0</td>\n",
       "      <td>0</td>\n",
       "      <td>1</td>\n",
       "      <td>0</td>\n",
       "      <td>0</td>\n",
       "      <td>0</td>\n",
       "      <td>0</td>\n",
       "      <td>0</td>\n",
       "      <td>...</td>\n",
       "      <td>0</td>\n",
       "      <td>0</td>\n",
       "      <td>0</td>\n",
       "      <td>0</td>\n",
       "      <td>0</td>\n",
       "      <td>0</td>\n",
       "      <td>0</td>\n",
       "      <td>0</td>\n",
       "      <td>0</td>\n",
       "      <td>0</td>\n",
       "    </tr>\n",
       "  </tbody>\n",
       "</table>\n",
       "<p>5 rows × 80 columns</p>\n",
       "</div>"
      ],
      "text/plain": [
       "   Lead Origin_Landing Page Submission  Lead Origin_Lead Add Form  \\\n",
       "0                                    0                          0   \n",
       "1                                    0                          0   \n",
       "2                                    1                          0   \n",
       "3                                    1                          0   \n",
       "4                                    1                          0   \n",
       "\n",
       "   Lead Origin_Lead Import  Lead Source_Facebook  Lead Source_Google  \\\n",
       "0                        0                     0                   0   \n",
       "1                        0                     0                   0   \n",
       "2                        0                     0                   0   \n",
       "3                        0                     0                   0   \n",
       "4                        0                     0                   1   \n",
       "\n",
       "   Lead Source_Olark Chat  Lead Source_Organic Search  \\\n",
       "0                       1                           0   \n",
       "1                       0                           1   \n",
       "2                       0                           0   \n",
       "3                       0                           0   \n",
       "4                       0                           0   \n",
       "\n",
       "   Lead Source_Other Website  Lead Source_Reference  \\\n",
       "0                          0                      0   \n",
       "1                          0                      0   \n",
       "2                          0                      0   \n",
       "3                          0                      0   \n",
       "4                          0                      0   \n",
       "\n",
       "   Lead Source_Referral Sites  ...  \\\n",
       "0                           0  ...   \n",
       "1                           0  ...   \n",
       "2                           0  ...   \n",
       "3                           0  ...   \n",
       "4                           0  ...   \n",
       "\n",
       "   Last Notable Activity_Resubscribed to emails  \\\n",
       "0                                             0   \n",
       "1                                             0   \n",
       "2                                             0   \n",
       "3                                             0   \n",
       "4                                             0   \n",
       "\n",
       "   Last Notable Activity_SMS Sent  Last Notable Activity_Unreachable  \\\n",
       "0                               0                                  0   \n",
       "1                               0                                  0   \n",
       "2                               0                                  0   \n",
       "3                               0                                  0   \n",
       "4                               0                                  0   \n",
       "\n",
       "   Last Notable Activity_Unsubscribed  \\\n",
       "0                                   0   \n",
       "1                                   0   \n",
       "2                                   0   \n",
       "3                                   0   \n",
       "4                                   0   \n",
       "\n",
       "   Last Notable Activity_View in browser link Clicked  City_Other Cities  \\\n",
       "0                                                  0                   0   \n",
       "1                                                  0                   0   \n",
       "2                                                  0                   0   \n",
       "3                                                  0                   0   \n",
       "4                                                  0                   0   \n",
       "\n",
       "   City_Other Cities of Maharashtra  City_Other Metro Cities  \\\n",
       "0                                 0                        0   \n",
       "1                                 0                        0   \n",
       "2                                 0                        0   \n",
       "3                                 0                        0   \n",
       "4                                 0                        0   \n",
       "\n",
       "   City_Thane & Outskirts  City_Tier II Cities  \n",
       "0                       0                    0  \n",
       "1                       0                    0  \n",
       "2                       0                    0  \n",
       "3                       0                    0  \n",
       "4                       0                    0  \n",
       "\n",
       "[5 rows x 80 columns]"
      ]
     },
     "execution_count": 434,
     "metadata": {},
     "output_type": "execute_result"
    }
   ],
   "source": [
    "dummy.head()"
   ]
  },
  {
   "cell_type": "code",
   "execution_count": 435,
   "id": "c2f30857-a945-42f4-82d7-984c54cfcc43",
   "metadata": {
    "tags": []
   },
   "outputs": [
    {
     "data": {
      "text/html": [
       "<div>\n",
       "<style scoped>\n",
       "    .dataframe tbody tr th:only-of-type {\n",
       "        vertical-align: middle;\n",
       "    }\n",
       "\n",
       "    .dataframe tbody tr th {\n",
       "        vertical-align: top;\n",
       "    }\n",
       "\n",
       "    .dataframe thead th {\n",
       "        text-align: right;\n",
       "    }\n",
       "</style>\n",
       "<table border=\"1\" class=\"dataframe\">\n",
       "  <thead>\n",
       "    <tr style=\"text-align: right;\">\n",
       "      <th></th>\n",
       "      <th>Prospect ID</th>\n",
       "      <th>Converted</th>\n",
       "      <th>TotalVisits</th>\n",
       "      <th>Total Time Spent on Website</th>\n",
       "      <th>Page Views Per Visit</th>\n",
       "    </tr>\n",
       "  </thead>\n",
       "  <tbody>\n",
       "    <tr>\n",
       "      <th>0</th>\n",
       "      <td>7927b2df-8bba-4d29-b9a2-b6e0beafe620</td>\n",
       "      <td>0</td>\n",
       "      <td>0.0</td>\n",
       "      <td>0</td>\n",
       "      <td>0.0</td>\n",
       "    </tr>\n",
       "    <tr>\n",
       "      <th>1</th>\n",
       "      <td>2a272436-5132-4136-86fa-dcc88c88f482</td>\n",
       "      <td>0</td>\n",
       "      <td>5.0</td>\n",
       "      <td>674</td>\n",
       "      <td>2.5</td>\n",
       "    </tr>\n",
       "    <tr>\n",
       "      <th>2</th>\n",
       "      <td>8cc8c611-a219-4f35-ad23-fdfd2656bd8a</td>\n",
       "      <td>1</td>\n",
       "      <td>2.0</td>\n",
       "      <td>1532</td>\n",
       "      <td>2.0</td>\n",
       "    </tr>\n",
       "    <tr>\n",
       "      <th>3</th>\n",
       "      <td>0cc2df48-7cf4-4e39-9de9-19797f9b38cc</td>\n",
       "      <td>0</td>\n",
       "      <td>1.0</td>\n",
       "      <td>305</td>\n",
       "      <td>1.0</td>\n",
       "    </tr>\n",
       "    <tr>\n",
       "      <th>4</th>\n",
       "      <td>3256f628-e534-4826-9d63-4a8b88782852</td>\n",
       "      <td>1</td>\n",
       "      <td>2.0</td>\n",
       "      <td>1428</td>\n",
       "      <td>1.0</td>\n",
       "    </tr>\n",
       "  </tbody>\n",
       "</table>\n",
       "</div>"
      ],
      "text/plain": [
       "                            Prospect ID  Converted  TotalVisits  \\\n",
       "0  7927b2df-8bba-4d29-b9a2-b6e0beafe620          0          0.0   \n",
       "1  2a272436-5132-4136-86fa-dcc88c88f482          0          5.0   \n",
       "2  8cc8c611-a219-4f35-ad23-fdfd2656bd8a          1          2.0   \n",
       "3  0cc2df48-7cf4-4e39-9de9-19797f9b38cc          0          1.0   \n",
       "4  3256f628-e534-4826-9d63-4a8b88782852          1          2.0   \n",
       "\n",
       "   Total Time Spent on Website  Page Views Per Visit  \n",
       "0                            0                   0.0  \n",
       "1                          674                   2.5  \n",
       "2                         1532                   2.0  \n",
       "3                          305                   1.0  \n",
       "4                         1428                   1.0  "
      ]
     },
     "execution_count": 435,
     "metadata": {},
     "output_type": "execute_result"
    }
   ],
   "source": [
    "df=df.drop(['Lead Origin', 'Lead Source','Last Activity',\n",
    "       'Specialization', 'What is your current occupation', 'Tags',\n",
    "       'Lead Quality', 'Last Notable Activity','City'],axis=1)\n",
    "df.head()"
   ]
  },
  {
   "cell_type": "code",
   "execution_count": 436,
   "id": "e536cc64-a875-4833-919a-bb3e570d536e",
   "metadata": {
    "tags": []
   },
   "outputs": [
    {
     "data": {
      "text/html": [
       "<div>\n",
       "<style scoped>\n",
       "    .dataframe tbody tr th:only-of-type {\n",
       "        vertical-align: middle;\n",
       "    }\n",
       "\n",
       "    .dataframe tbody tr th {\n",
       "        vertical-align: top;\n",
       "    }\n",
       "\n",
       "    .dataframe thead th {\n",
       "        text-align: right;\n",
       "    }\n",
       "</style>\n",
       "<table border=\"1\" class=\"dataframe\">\n",
       "  <thead>\n",
       "    <tr style=\"text-align: right;\">\n",
       "      <th></th>\n",
       "      <th>Prospect ID</th>\n",
       "      <th>Converted</th>\n",
       "      <th>TotalVisits</th>\n",
       "      <th>Total Time Spent on Website</th>\n",
       "      <th>Page Views Per Visit</th>\n",
       "      <th>Lead Origin_Landing Page Submission</th>\n",
       "      <th>Lead Origin_Lead Add Form</th>\n",
       "      <th>Lead Origin_Lead Import</th>\n",
       "      <th>Lead Source_Facebook</th>\n",
       "      <th>Lead Source_Google</th>\n",
       "      <th>...</th>\n",
       "      <th>Last Notable Activity_Resubscribed to emails</th>\n",
       "      <th>Last Notable Activity_SMS Sent</th>\n",
       "      <th>Last Notable Activity_Unreachable</th>\n",
       "      <th>Last Notable Activity_Unsubscribed</th>\n",
       "      <th>Last Notable Activity_View in browser link Clicked</th>\n",
       "      <th>City_Other Cities</th>\n",
       "      <th>City_Other Cities of Maharashtra</th>\n",
       "      <th>City_Other Metro Cities</th>\n",
       "      <th>City_Thane &amp; Outskirts</th>\n",
       "      <th>City_Tier II Cities</th>\n",
       "    </tr>\n",
       "  </thead>\n",
       "  <tbody>\n",
       "    <tr>\n",
       "      <th>0</th>\n",
       "      <td>7927b2df-8bba-4d29-b9a2-b6e0beafe620</td>\n",
       "      <td>0</td>\n",
       "      <td>0.0</td>\n",
       "      <td>0</td>\n",
       "      <td>0.0</td>\n",
       "      <td>0</td>\n",
       "      <td>0</td>\n",
       "      <td>0</td>\n",
       "      <td>0</td>\n",
       "      <td>0</td>\n",
       "      <td>...</td>\n",
       "      <td>0</td>\n",
       "      <td>0</td>\n",
       "      <td>0</td>\n",
       "      <td>0</td>\n",
       "      <td>0</td>\n",
       "      <td>0</td>\n",
       "      <td>0</td>\n",
       "      <td>0</td>\n",
       "      <td>0</td>\n",
       "      <td>0</td>\n",
       "    </tr>\n",
       "    <tr>\n",
       "      <th>1</th>\n",
       "      <td>2a272436-5132-4136-86fa-dcc88c88f482</td>\n",
       "      <td>0</td>\n",
       "      <td>5.0</td>\n",
       "      <td>674</td>\n",
       "      <td>2.5</td>\n",
       "      <td>0</td>\n",
       "      <td>0</td>\n",
       "      <td>0</td>\n",
       "      <td>0</td>\n",
       "      <td>0</td>\n",
       "      <td>...</td>\n",
       "      <td>0</td>\n",
       "      <td>0</td>\n",
       "      <td>0</td>\n",
       "      <td>0</td>\n",
       "      <td>0</td>\n",
       "      <td>0</td>\n",
       "      <td>0</td>\n",
       "      <td>0</td>\n",
       "      <td>0</td>\n",
       "      <td>0</td>\n",
       "    </tr>\n",
       "    <tr>\n",
       "      <th>2</th>\n",
       "      <td>8cc8c611-a219-4f35-ad23-fdfd2656bd8a</td>\n",
       "      <td>1</td>\n",
       "      <td>2.0</td>\n",
       "      <td>1532</td>\n",
       "      <td>2.0</td>\n",
       "      <td>1</td>\n",
       "      <td>0</td>\n",
       "      <td>0</td>\n",
       "      <td>0</td>\n",
       "      <td>0</td>\n",
       "      <td>...</td>\n",
       "      <td>0</td>\n",
       "      <td>0</td>\n",
       "      <td>0</td>\n",
       "      <td>0</td>\n",
       "      <td>0</td>\n",
       "      <td>0</td>\n",
       "      <td>0</td>\n",
       "      <td>0</td>\n",
       "      <td>0</td>\n",
       "      <td>0</td>\n",
       "    </tr>\n",
       "    <tr>\n",
       "      <th>3</th>\n",
       "      <td>0cc2df48-7cf4-4e39-9de9-19797f9b38cc</td>\n",
       "      <td>0</td>\n",
       "      <td>1.0</td>\n",
       "      <td>305</td>\n",
       "      <td>1.0</td>\n",
       "      <td>1</td>\n",
       "      <td>0</td>\n",
       "      <td>0</td>\n",
       "      <td>0</td>\n",
       "      <td>0</td>\n",
       "      <td>...</td>\n",
       "      <td>0</td>\n",
       "      <td>0</td>\n",
       "      <td>0</td>\n",
       "      <td>0</td>\n",
       "      <td>0</td>\n",
       "      <td>0</td>\n",
       "      <td>0</td>\n",
       "      <td>0</td>\n",
       "      <td>0</td>\n",
       "      <td>0</td>\n",
       "    </tr>\n",
       "    <tr>\n",
       "      <th>4</th>\n",
       "      <td>3256f628-e534-4826-9d63-4a8b88782852</td>\n",
       "      <td>1</td>\n",
       "      <td>2.0</td>\n",
       "      <td>1428</td>\n",
       "      <td>1.0</td>\n",
       "      <td>1</td>\n",
       "      <td>0</td>\n",
       "      <td>0</td>\n",
       "      <td>0</td>\n",
       "      <td>1</td>\n",
       "      <td>...</td>\n",
       "      <td>0</td>\n",
       "      <td>0</td>\n",
       "      <td>0</td>\n",
       "      <td>0</td>\n",
       "      <td>0</td>\n",
       "      <td>0</td>\n",
       "      <td>0</td>\n",
       "      <td>0</td>\n",
       "      <td>0</td>\n",
       "      <td>0</td>\n",
       "    </tr>\n",
       "  </tbody>\n",
       "</table>\n",
       "<p>5 rows × 85 columns</p>\n",
       "</div>"
      ],
      "text/plain": [
       "                            Prospect ID  Converted  TotalVisits  \\\n",
       "0  7927b2df-8bba-4d29-b9a2-b6e0beafe620          0          0.0   \n",
       "1  2a272436-5132-4136-86fa-dcc88c88f482          0          5.0   \n",
       "2  8cc8c611-a219-4f35-ad23-fdfd2656bd8a          1          2.0   \n",
       "3  0cc2df48-7cf4-4e39-9de9-19797f9b38cc          0          1.0   \n",
       "4  3256f628-e534-4826-9d63-4a8b88782852          1          2.0   \n",
       "\n",
       "   Total Time Spent on Website  Page Views Per Visit  \\\n",
       "0                            0                   0.0   \n",
       "1                          674                   2.5   \n",
       "2                         1532                   2.0   \n",
       "3                          305                   1.0   \n",
       "4                         1428                   1.0   \n",
       "\n",
       "   Lead Origin_Landing Page Submission  Lead Origin_Lead Add Form  \\\n",
       "0                                    0                          0   \n",
       "1                                    0                          0   \n",
       "2                                    1                          0   \n",
       "3                                    1                          0   \n",
       "4                                    1                          0   \n",
       "\n",
       "   Lead Origin_Lead Import  Lead Source_Facebook  Lead Source_Google  ...  \\\n",
       "0                        0                     0                   0  ...   \n",
       "1                        0                     0                   0  ...   \n",
       "2                        0                     0                   0  ...   \n",
       "3                        0                     0                   0  ...   \n",
       "4                        0                     0                   1  ...   \n",
       "\n",
       "   Last Notable Activity_Resubscribed to emails  \\\n",
       "0                                             0   \n",
       "1                                             0   \n",
       "2                                             0   \n",
       "3                                             0   \n",
       "4                                             0   \n",
       "\n",
       "   Last Notable Activity_SMS Sent  Last Notable Activity_Unreachable  \\\n",
       "0                               0                                  0   \n",
       "1                               0                                  0   \n",
       "2                               0                                  0   \n",
       "3                               0                                  0   \n",
       "4                               0                                  0   \n",
       "\n",
       "   Last Notable Activity_Unsubscribed  \\\n",
       "0                                   0   \n",
       "1                                   0   \n",
       "2                                   0   \n",
       "3                                   0   \n",
       "4                                   0   \n",
       "\n",
       "   Last Notable Activity_View in browser link Clicked  City_Other Cities  \\\n",
       "0                                                  0                   0   \n",
       "1                                                  0                   0   \n",
       "2                                                  0                   0   \n",
       "3                                                  0                   0   \n",
       "4                                                  0                   0   \n",
       "\n",
       "   City_Other Cities of Maharashtra  City_Other Metro Cities  \\\n",
       "0                                 0                        0   \n",
       "1                                 0                        0   \n",
       "2                                 0                        0   \n",
       "3                                 0                        0   \n",
       "4                                 0                        0   \n",
       "\n",
       "   City_Thane & Outskirts  City_Tier II Cities  \n",
       "0                       0                    0  \n",
       "1                       0                    0  \n",
       "2                       0                    0  \n",
       "3                       0                    0  \n",
       "4                       0                    0  \n",
       "\n",
       "[5 rows x 85 columns]"
      ]
     },
     "execution_count": 436,
     "metadata": {},
     "output_type": "execute_result"
    }
   ],
   "source": [
    "df= pd.concat([df,dummy],axis=1)\n",
    "df.head()"
   ]
  },
  {
   "cell_type": "markdown",
   "id": "84707e3b-cfd3-4c63-8d04-c36ff9dd2de6",
   "metadata": {},
   "source": [
    "### Step 6: Spliting of Train and Test data"
   ]
  },
  {
   "cell_type": "code",
   "execution_count": 437,
   "id": "e4132696-b1bb-47ae-8433-88ef2ef40992",
   "metadata": {
    "tags": []
   },
   "outputs": [],
   "source": [
    "from sklearn.model_selection import train_test_split"
   ]
  },
  {
   "cell_type": "code",
   "execution_count": 438,
   "id": "62420da9-13d1-4d4e-8474-f4ce1f1c7e19",
   "metadata": {
    "tags": []
   },
   "outputs": [
    {
     "data": {
      "text/html": [
       "<div>\n",
       "<style scoped>\n",
       "    .dataframe tbody tr th:only-of-type {\n",
       "        vertical-align: middle;\n",
       "    }\n",
       "\n",
       "    .dataframe tbody tr th {\n",
       "        vertical-align: top;\n",
       "    }\n",
       "\n",
       "    .dataframe thead th {\n",
       "        text-align: right;\n",
       "    }\n",
       "</style>\n",
       "<table border=\"1\" class=\"dataframe\">\n",
       "  <thead>\n",
       "    <tr style=\"text-align: right;\">\n",
       "      <th></th>\n",
       "      <th>TotalVisits</th>\n",
       "      <th>Total Time Spent on Website</th>\n",
       "      <th>Page Views Per Visit</th>\n",
       "      <th>Lead Origin_Landing Page Submission</th>\n",
       "      <th>Lead Origin_Lead Add Form</th>\n",
       "      <th>Lead Origin_Lead Import</th>\n",
       "      <th>Lead Source_Facebook</th>\n",
       "      <th>Lead Source_Google</th>\n",
       "      <th>Lead Source_Olark Chat</th>\n",
       "      <th>Lead Source_Organic Search</th>\n",
       "      <th>...</th>\n",
       "      <th>Last Notable Activity_Resubscribed to emails</th>\n",
       "      <th>Last Notable Activity_SMS Sent</th>\n",
       "      <th>Last Notable Activity_Unreachable</th>\n",
       "      <th>Last Notable Activity_Unsubscribed</th>\n",
       "      <th>Last Notable Activity_View in browser link Clicked</th>\n",
       "      <th>City_Other Cities</th>\n",
       "      <th>City_Other Cities of Maharashtra</th>\n",
       "      <th>City_Other Metro Cities</th>\n",
       "      <th>City_Thane &amp; Outskirts</th>\n",
       "      <th>City_Tier II Cities</th>\n",
       "    </tr>\n",
       "  </thead>\n",
       "  <tbody>\n",
       "    <tr>\n",
       "      <th>0</th>\n",
       "      <td>0.0</td>\n",
       "      <td>0</td>\n",
       "      <td>0.0</td>\n",
       "      <td>0</td>\n",
       "      <td>0</td>\n",
       "      <td>0</td>\n",
       "      <td>0</td>\n",
       "      <td>0</td>\n",
       "      <td>1</td>\n",
       "      <td>0</td>\n",
       "      <td>...</td>\n",
       "      <td>0</td>\n",
       "      <td>0</td>\n",
       "      <td>0</td>\n",
       "      <td>0</td>\n",
       "      <td>0</td>\n",
       "      <td>0</td>\n",
       "      <td>0</td>\n",
       "      <td>0</td>\n",
       "      <td>0</td>\n",
       "      <td>0</td>\n",
       "    </tr>\n",
       "    <tr>\n",
       "      <th>1</th>\n",
       "      <td>5.0</td>\n",
       "      <td>674</td>\n",
       "      <td>2.5</td>\n",
       "      <td>0</td>\n",
       "      <td>0</td>\n",
       "      <td>0</td>\n",
       "      <td>0</td>\n",
       "      <td>0</td>\n",
       "      <td>0</td>\n",
       "      <td>1</td>\n",
       "      <td>...</td>\n",
       "      <td>0</td>\n",
       "      <td>0</td>\n",
       "      <td>0</td>\n",
       "      <td>0</td>\n",
       "      <td>0</td>\n",
       "      <td>0</td>\n",
       "      <td>0</td>\n",
       "      <td>0</td>\n",
       "      <td>0</td>\n",
       "      <td>0</td>\n",
       "    </tr>\n",
       "    <tr>\n",
       "      <th>2</th>\n",
       "      <td>2.0</td>\n",
       "      <td>1532</td>\n",
       "      <td>2.0</td>\n",
       "      <td>1</td>\n",
       "      <td>0</td>\n",
       "      <td>0</td>\n",
       "      <td>0</td>\n",
       "      <td>0</td>\n",
       "      <td>0</td>\n",
       "      <td>0</td>\n",
       "      <td>...</td>\n",
       "      <td>0</td>\n",
       "      <td>0</td>\n",
       "      <td>0</td>\n",
       "      <td>0</td>\n",
       "      <td>0</td>\n",
       "      <td>0</td>\n",
       "      <td>0</td>\n",
       "      <td>0</td>\n",
       "      <td>0</td>\n",
       "      <td>0</td>\n",
       "    </tr>\n",
       "    <tr>\n",
       "      <th>3</th>\n",
       "      <td>1.0</td>\n",
       "      <td>305</td>\n",
       "      <td>1.0</td>\n",
       "      <td>1</td>\n",
       "      <td>0</td>\n",
       "      <td>0</td>\n",
       "      <td>0</td>\n",
       "      <td>0</td>\n",
       "      <td>0</td>\n",
       "      <td>0</td>\n",
       "      <td>...</td>\n",
       "      <td>0</td>\n",
       "      <td>0</td>\n",
       "      <td>0</td>\n",
       "      <td>0</td>\n",
       "      <td>0</td>\n",
       "      <td>0</td>\n",
       "      <td>0</td>\n",
       "      <td>0</td>\n",
       "      <td>0</td>\n",
       "      <td>0</td>\n",
       "    </tr>\n",
       "    <tr>\n",
       "      <th>4</th>\n",
       "      <td>2.0</td>\n",
       "      <td>1428</td>\n",
       "      <td>1.0</td>\n",
       "      <td>1</td>\n",
       "      <td>0</td>\n",
       "      <td>0</td>\n",
       "      <td>0</td>\n",
       "      <td>1</td>\n",
       "      <td>0</td>\n",
       "      <td>0</td>\n",
       "      <td>...</td>\n",
       "      <td>0</td>\n",
       "      <td>0</td>\n",
       "      <td>0</td>\n",
       "      <td>0</td>\n",
       "      <td>0</td>\n",
       "      <td>0</td>\n",
       "      <td>0</td>\n",
       "      <td>0</td>\n",
       "      <td>0</td>\n",
       "      <td>0</td>\n",
       "    </tr>\n",
       "  </tbody>\n",
       "</table>\n",
       "<p>5 rows × 83 columns</p>\n",
       "</div>"
      ],
      "text/plain": [
       "   TotalVisits  Total Time Spent on Website  Page Views Per Visit  \\\n",
       "0          0.0                            0                   0.0   \n",
       "1          5.0                          674                   2.5   \n",
       "2          2.0                         1532                   2.0   \n",
       "3          1.0                          305                   1.0   \n",
       "4          2.0                         1428                   1.0   \n",
       "\n",
       "   Lead Origin_Landing Page Submission  Lead Origin_Lead Add Form  \\\n",
       "0                                    0                          0   \n",
       "1                                    0                          0   \n",
       "2                                    1                          0   \n",
       "3                                    1                          0   \n",
       "4                                    1                          0   \n",
       "\n",
       "   Lead Origin_Lead Import  Lead Source_Facebook  Lead Source_Google  \\\n",
       "0                        0                     0                   0   \n",
       "1                        0                     0                   0   \n",
       "2                        0                     0                   0   \n",
       "3                        0                     0                   0   \n",
       "4                        0                     0                   1   \n",
       "\n",
       "   Lead Source_Olark Chat  Lead Source_Organic Search  ...  \\\n",
       "0                       1                           0  ...   \n",
       "1                       0                           1  ...   \n",
       "2                       0                           0  ...   \n",
       "3                       0                           0  ...   \n",
       "4                       0                           0  ...   \n",
       "\n",
       "   Last Notable Activity_Resubscribed to emails  \\\n",
       "0                                             0   \n",
       "1                                             0   \n",
       "2                                             0   \n",
       "3                                             0   \n",
       "4                                             0   \n",
       "\n",
       "   Last Notable Activity_SMS Sent  Last Notable Activity_Unreachable  \\\n",
       "0                               0                                  0   \n",
       "1                               0                                  0   \n",
       "2                               0                                  0   \n",
       "3                               0                                  0   \n",
       "4                               0                                  0   \n",
       "\n",
       "   Last Notable Activity_Unsubscribed  \\\n",
       "0                                   0   \n",
       "1                                   0   \n",
       "2                                   0   \n",
       "3                                   0   \n",
       "4                                   0   \n",
       "\n",
       "   Last Notable Activity_View in browser link Clicked  City_Other Cities  \\\n",
       "0                                                  0                   0   \n",
       "1                                                  0                   0   \n",
       "2                                                  0                   0   \n",
       "3                                                  0                   0   \n",
       "4                                                  0                   0   \n",
       "\n",
       "   City_Other Cities of Maharashtra  City_Other Metro Cities  \\\n",
       "0                                 0                        0   \n",
       "1                                 0                        0   \n",
       "2                                 0                        0   \n",
       "3                                 0                        0   \n",
       "4                                 0                        0   \n",
       "\n",
       "   City_Thane & Outskirts  City_Tier II Cities  \n",
       "0                       0                    0  \n",
       "1                       0                    0  \n",
       "2                       0                    0  \n",
       "3                       0                    0  \n",
       "4                       0                    0  \n",
       "\n",
       "[5 rows x 83 columns]"
      ]
     },
     "execution_count": 438,
     "metadata": {},
     "output_type": "execute_result"
    }
   ],
   "source": [
    "X=df.drop(['Prospect ID','Converted'],axis=1)\n",
    "X.head()"
   ]
  },
  {
   "cell_type": "code",
   "execution_count": 439,
   "id": "6f3798d5-7e0a-46d4-a160-a15c50c697b7",
   "metadata": {
    "tags": []
   },
   "outputs": [
    {
     "data": {
      "text/plain": [
       "0    0\n",
       "1    0\n",
       "2    1\n",
       "3    0\n",
       "4    1\n",
       "Name: Converted, dtype: int64"
      ]
     },
     "execution_count": 439,
     "metadata": {},
     "output_type": "execute_result"
    }
   ],
   "source": [
    "y=df['Converted']\n",
    "y.head()"
   ]
  },
  {
   "cell_type": "code",
   "execution_count": 440,
   "id": "812b80b1-535b-4c8b-8f70-f9df825f77b3",
   "metadata": {
    "tags": []
   },
   "outputs": [],
   "source": [
    "## Spliting the data into train and test dataset\n",
    "X_train,X_test,y_train,y_test = train_test_split(X,y,train_size=0.8,test_size=0.2,random_state=100)"
   ]
  },
  {
   "cell_type": "markdown",
   "id": "336e183b-c3d9-4079-abc9-4e003fb7b03d",
   "metadata": {},
   "source": [
    "### Step 7: Feature Scaling of the Data"
   ]
  },
  {
   "cell_type": "code",
   "execution_count": 441,
   "id": "590ba68a-1e26-40d4-bfeb-0d95410424f0",
   "metadata": {
    "tags": []
   },
   "outputs": [],
   "source": [
    "from sklearn.preprocessing import StandardScaler"
   ]
  },
  {
   "cell_type": "code",
   "execution_count": 442,
   "id": "e39bc9cc-b423-43a7-9bc3-8458107f8f46",
   "metadata": {
    "tags": []
   },
   "outputs": [
    {
     "data": {
      "text/html": [
       "<div>\n",
       "<style scoped>\n",
       "    .dataframe tbody tr th:only-of-type {\n",
       "        vertical-align: middle;\n",
       "    }\n",
       "\n",
       "    .dataframe tbody tr th {\n",
       "        vertical-align: top;\n",
       "    }\n",
       "\n",
       "    .dataframe thead th {\n",
       "        text-align: right;\n",
       "    }\n",
       "</style>\n",
       "<table border=\"1\" class=\"dataframe\">\n",
       "  <thead>\n",
       "    <tr style=\"text-align: right;\">\n",
       "      <th></th>\n",
       "      <th>TotalVisits</th>\n",
       "      <th>Total Time Spent on Website</th>\n",
       "      <th>Page Views Per Visit</th>\n",
       "      <th>Lead Origin_Landing Page Submission</th>\n",
       "      <th>Lead Origin_Lead Add Form</th>\n",
       "      <th>Lead Origin_Lead Import</th>\n",
       "      <th>Lead Source_Facebook</th>\n",
       "      <th>Lead Source_Google</th>\n",
       "      <th>Lead Source_Olark Chat</th>\n",
       "      <th>Lead Source_Organic Search</th>\n",
       "      <th>...</th>\n",
       "      <th>Last Notable Activity_Resubscribed to emails</th>\n",
       "      <th>Last Notable Activity_SMS Sent</th>\n",
       "      <th>Last Notable Activity_Unreachable</th>\n",
       "      <th>Last Notable Activity_Unsubscribed</th>\n",
       "      <th>Last Notable Activity_View in browser link Clicked</th>\n",
       "      <th>City_Other Cities</th>\n",
       "      <th>City_Other Cities of Maharashtra</th>\n",
       "      <th>City_Other Metro Cities</th>\n",
       "      <th>City_Thane &amp; Outskirts</th>\n",
       "      <th>City_Tier II Cities</th>\n",
       "    </tr>\n",
       "  </thead>\n",
       "  <tbody>\n",
       "    <tr>\n",
       "      <th>160</th>\n",
       "      <td>-0.071614</td>\n",
       "      <td>0.961655</td>\n",
       "      <td>0.298374</td>\n",
       "      <td>1</td>\n",
       "      <td>0</td>\n",
       "      <td>0</td>\n",
       "      <td>0</td>\n",
       "      <td>0</td>\n",
       "      <td>0</td>\n",
       "      <td>0</td>\n",
       "      <td>...</td>\n",
       "      <td>0</td>\n",
       "      <td>0</td>\n",
       "      <td>0</td>\n",
       "      <td>0</td>\n",
       "      <td>0</td>\n",
       "      <td>0</td>\n",
       "      <td>0</td>\n",
       "      <td>1</td>\n",
       "      <td>0</td>\n",
       "      <td>0</td>\n",
       "    </tr>\n",
       "    <tr>\n",
       "      <th>2267</th>\n",
       "      <td>-1.147903</td>\n",
       "      <td>-0.886605</td>\n",
       "      <td>-1.125450</td>\n",
       "      <td>0</td>\n",
       "      <td>0</td>\n",
       "      <td>0</td>\n",
       "      <td>0</td>\n",
       "      <td>0</td>\n",
       "      <td>1</td>\n",
       "      <td>0</td>\n",
       "      <td>...</td>\n",
       "      <td>0</td>\n",
       "      <td>0</td>\n",
       "      <td>0</td>\n",
       "      <td>0</td>\n",
       "      <td>0</td>\n",
       "      <td>0</td>\n",
       "      <td>0</td>\n",
       "      <td>0</td>\n",
       "      <td>0</td>\n",
       "      <td>0</td>\n",
       "    </tr>\n",
       "    <tr>\n",
       "      <th>8895</th>\n",
       "      <td>-1.147903</td>\n",
       "      <td>-0.886605</td>\n",
       "      <td>-1.125450</td>\n",
       "      <td>0</td>\n",
       "      <td>0</td>\n",
       "      <td>0</td>\n",
       "      <td>0</td>\n",
       "      <td>0</td>\n",
       "      <td>1</td>\n",
       "      <td>0</td>\n",
       "      <td>...</td>\n",
       "      <td>0</td>\n",
       "      <td>1</td>\n",
       "      <td>0</td>\n",
       "      <td>0</td>\n",
       "      <td>0</td>\n",
       "      <td>0</td>\n",
       "      <td>0</td>\n",
       "      <td>0</td>\n",
       "      <td>0</td>\n",
       "      <td>0</td>\n",
       "    </tr>\n",
       "    <tr>\n",
       "      <th>854</th>\n",
       "      <td>0.287149</td>\n",
       "      <td>2.136489</td>\n",
       "      <td>0.772982</td>\n",
       "      <td>1</td>\n",
       "      <td>0</td>\n",
       "      <td>0</td>\n",
       "      <td>0</td>\n",
       "      <td>0</td>\n",
       "      <td>0</td>\n",
       "      <td>1</td>\n",
       "      <td>...</td>\n",
       "      <td>0</td>\n",
       "      <td>0</td>\n",
       "      <td>0</td>\n",
       "      <td>0</td>\n",
       "      <td>0</td>\n",
       "      <td>0</td>\n",
       "      <td>0</td>\n",
       "      <td>0</td>\n",
       "      <td>0</td>\n",
       "      <td>0</td>\n",
       "    </tr>\n",
       "    <tr>\n",
       "      <th>3640</th>\n",
       "      <td>0.287149</td>\n",
       "      <td>-0.505974</td>\n",
       "      <td>0.772982</td>\n",
       "      <td>1</td>\n",
       "      <td>0</td>\n",
       "      <td>0</td>\n",
       "      <td>0</td>\n",
       "      <td>1</td>\n",
       "      <td>0</td>\n",
       "      <td>0</td>\n",
       "      <td>...</td>\n",
       "      <td>0</td>\n",
       "      <td>0</td>\n",
       "      <td>0</td>\n",
       "      <td>0</td>\n",
       "      <td>0</td>\n",
       "      <td>0</td>\n",
       "      <td>0</td>\n",
       "      <td>0</td>\n",
       "      <td>0</td>\n",
       "      <td>0</td>\n",
       "    </tr>\n",
       "  </tbody>\n",
       "</table>\n",
       "<p>5 rows × 83 columns</p>\n",
       "</div>"
      ],
      "text/plain": [
       "      TotalVisits  Total Time Spent on Website  Page Views Per Visit  \\\n",
       "160     -0.071614                     0.961655              0.298374   \n",
       "2267    -1.147903                    -0.886605             -1.125450   \n",
       "8895    -1.147903                    -0.886605             -1.125450   \n",
       "854      0.287149                     2.136489              0.772982   \n",
       "3640     0.287149                    -0.505974              0.772982   \n",
       "\n",
       "      Lead Origin_Landing Page Submission  Lead Origin_Lead Add Form  \\\n",
       "160                                     1                          0   \n",
       "2267                                    0                          0   \n",
       "8895                                    0                          0   \n",
       "854                                     1                          0   \n",
       "3640                                    1                          0   \n",
       "\n",
       "      Lead Origin_Lead Import  Lead Source_Facebook  Lead Source_Google  \\\n",
       "160                         0                     0                   0   \n",
       "2267                        0                     0                   0   \n",
       "8895                        0                     0                   0   \n",
       "854                         0                     0                   0   \n",
       "3640                        0                     0                   1   \n",
       "\n",
       "      Lead Source_Olark Chat  Lead Source_Organic Search  ...  \\\n",
       "160                        0                           0  ...   \n",
       "2267                       1                           0  ...   \n",
       "8895                       1                           0  ...   \n",
       "854                        0                           1  ...   \n",
       "3640                       0                           0  ...   \n",
       "\n",
       "      Last Notable Activity_Resubscribed to emails  \\\n",
       "160                                              0   \n",
       "2267                                             0   \n",
       "8895                                             0   \n",
       "854                                              0   \n",
       "3640                                             0   \n",
       "\n",
       "      Last Notable Activity_SMS Sent  Last Notable Activity_Unreachable  \\\n",
       "160                                0                                  0   \n",
       "2267                               0                                  0   \n",
       "8895                               1                                  0   \n",
       "854                                0                                  0   \n",
       "3640                               0                                  0   \n",
       "\n",
       "      Last Notable Activity_Unsubscribed  \\\n",
       "160                                    0   \n",
       "2267                                   0   \n",
       "8895                                   0   \n",
       "854                                    0   \n",
       "3640                                   0   \n",
       "\n",
       "      Last Notable Activity_View in browser link Clicked  City_Other Cities  \\\n",
       "160                                                   0                   0   \n",
       "2267                                                  0                   0   \n",
       "8895                                                  0                   0   \n",
       "854                                                   0                   0   \n",
       "3640                                                  0                   0   \n",
       "\n",
       "      City_Other Cities of Maharashtra  City_Other Metro Cities  \\\n",
       "160                                  0                        1   \n",
       "2267                                 0                        0   \n",
       "8895                                 0                        0   \n",
       "854                                  0                        0   \n",
       "3640                                 0                        0   \n",
       "\n",
       "      City_Thane & Outskirts  City_Tier II Cities  \n",
       "160                        0                    0  \n",
       "2267                       0                    0  \n",
       "8895                       0                    0  \n",
       "854                        0                    0  \n",
       "3640                       0                    0  \n",
       "\n",
       "[5 rows x 83 columns]"
      ]
     },
     "execution_count": 442,
     "metadata": {},
     "output_type": "execute_result"
    }
   ],
   "source": [
    "scaler = StandardScaler()\n",
    "\n",
    "X_train[['TotalVisits','Total Time Spent on Website','Page Views Per Visit']]=scaler.fit_transform(X_train[['TotalVisits','Total Time Spent on Website','Page Views Per Visit']])\n",
    "\n",
    "X_train.head()"
   ]
  },
  {
   "cell_type": "code",
   "execution_count": 443,
   "id": "cb8ac009-d587-4496-b6de-02d88630393d",
   "metadata": {
    "tags": []
   },
   "outputs": [
    {
     "name": "stdout",
     "output_type": "stream",
     "text": [
      "Conversion Rate: 37.86\n"
     ]
    }
   ],
   "source": [
    "print(\"Conversion Rate:\",round((100*(sum(df['Converted'])/len(df['Converted'].index))),2))"
   ]
  },
  {
   "cell_type": "markdown",
   "id": "f4e24bbf-dc35-480e-9feb-2287a4d260e1",
   "metadata": {},
   "source": [
    "### Step 8:Analysing the Correlations"
   ]
  },
  {
   "cell_type": "code",
   "execution_count": 444,
   "id": "6b2e42fd-b72f-4cd1-b506-fd1f607d3f79",
   "metadata": {
    "tags": []
   },
   "outputs": [],
   "source": [
    "import matplotlib.pyplot as plt\n",
    "import seaborn as sns\n",
    "%matplotlib inline"
   ]
  },
  {
   "cell_type": "code",
   "execution_count": 445,
   "id": "86c0c8c4-3d1c-4dce-9f45-5783dca336d6",
   "metadata": {
    "tags": []
   },
   "outputs": [],
   "source": [
    "data_corr = df.drop('Prospect ID',axis=1)"
   ]
  },
  {
   "cell_type": "code",
   "execution_count": 446,
   "id": "fa749ab1-97e7-4001-8135-01eadcaa42e9",
   "metadata": {},
   "outputs": [
    {
     "data": {
      "text/plain": [
       "Lead Origin_Lead Import                Lead Source_Facebook                              0.983684\n",
       "Last Activity_Unsubscribed             Last Notable Activity_Unsubscribed                0.872656\n",
       "Lead Origin_Lead Add Form              Lead Source_Reference                             0.866191\n",
       "Last Activity_Email Opened             Last Notable Activity_Email Opened                0.861636\n",
       "Last Activity_SMS Sent                 Last Notable Activity_SMS Sent                    0.853102\n",
       "Last Activity_Email Link Clicked       Last Notable Activity_Email Link Clicked          0.800686\n",
       "TotalVisits                            Page Views Per Visit                              0.737996\n",
       "Last Activity_Page Visited on Website  Last Notable Activity_Page Visited on Website     0.691811\n",
       "Last Activity_Unreachable              Last Notable Activity_Unreachable                 0.594369\n",
       "Last Activity_Other Activity           Last Notable Activity_Had a Phone Conversation    0.576457\n",
       "dtype: float64"
      ]
     },
     "execution_count": 446,
     "metadata": {},
     "output_type": "execute_result"
    }
   ],
   "source": [
    "conv_corr = data_corr.corr()\n",
    "conv_corr_unstacked = conv_corr.unstack().sort_values()\n",
    "conv_corr.where(np.triu(np.ones(conv_corr.shape), k=1).astype(bool)).stack().sort_values(ascending=False).head(10)"
   ]
  },
  {
   "cell_type": "code",
   "execution_count": 447,
   "id": "881407e9-f43b-4c35-82e2-a737bc8d08e3",
   "metadata": {
    "tags": []
   },
   "outputs": [],
   "source": [
    "# Dropping highly correlated features\n",
    "\n",
    "X_test = X_test.drop(['Lead Source_Facebook','Last Notable Activity_Unsubscribed','Last Notable Activity_SMS Sent',\n",
    "                      'Last Notable Activity_Email Opened','Last Notable Activity_Unreachable','Last Notable Activity_Email Link Clicked','Last Notable Activity_Page Visited on Website'],axis=1)\n",
    "X_train = X_train.drop(['Lead Source_Facebook','Last Notable Activity_Unsubscribed','Last Notable Activity_SMS Sent',\n",
    "                      'Last Notable Activity_Email Opened','Last Notable Activity_Unreachable','Last Notable Activity_Email Link Clicked','Last Notable Activity_Page Visited on Website'],axis=1)"
   ]
  },
  {
   "cell_type": "markdown",
   "id": "31bef29f-1be5-4eda-a645-afa9b6337ee5",
   "metadata": {},
   "source": [
    "#### Checking the Correlations"
   ]
  },
  {
   "cell_type": "code",
   "execution_count": 448,
   "id": "e67dc3c5-71db-4a7f-b630-cac342ad8c37",
   "metadata": {
    "tags": []
   },
   "outputs": [
    {
     "data": {
      "text/plain": [
       "Lead Origin_Lead Add Form              Lead Source_Reference                             0.864997\n",
       "TotalVisits                            Page Views Per Visit                              0.753797\n",
       "Last Activity_Other Activity           Last Notable Activity_Had a Phone Conversation    0.599971\n",
       "Lead Source_Olark Chat                 Specialization_Other_Specialization               0.511898\n",
       "Page Views Per Visit                   Lead Origin_Landing Page Submission               0.493666\n",
       "Lead Origin_Lead Add Form              Lead Source_Welingak Website                      0.461325\n",
       "TotalVisits                            Lead Origin_Landing Page Submission               0.448588\n",
       "Last Activity_Email Bounced            Last Notable Activity_Email Bounced               0.434706\n",
       "Lead Source_Olark Chat                 Last Activity_Olark Chat Conversation             0.425689\n",
       "Last Activity_Olark Chat Conversation  Last Notable Activity_Olark Chat Conversation     0.408865\n",
       "dtype: float64"
      ]
     },
     "execution_count": 448,
     "metadata": {},
     "output_type": "execute_result"
    }
   ],
   "source": [
    "conv_corr = X_train.corr()\n",
    "conv_corr.where(np.triu(np.ones(conv_corr.shape), k=1).astype(bool)).stack().sort_values(ascending=False).head(10)"
   ]
  },
  {
   "cell_type": "markdown",
   "id": "4a5f2b04-c5d1-487b-b7e3-82412555f978",
   "metadata": {},
   "source": [
    "### Step 9: Model Building"
   ]
  },
  {
   "cell_type": "markdown",
   "id": "ea8d308a-687b-4bcf-ad6f-69aeca069905",
   "metadata": {},
   "source": [
    "#### Running First Training Model"
   ]
  },
  {
   "cell_type": "code",
   "execution_count": 449,
   "id": "bd0dc276-bd65-40a6-ad8b-b8f45cabc37a",
   "metadata": {
    "tags": []
   },
   "outputs": [],
   "source": [
    "import statsmodels.api as sm"
   ]
  },
  {
   "cell_type": "code",
   "execution_count": 450,
   "id": "852c98b7-507b-4941-85b5-534d81e7e84c",
   "metadata": {
    "tags": []
   },
   "outputs": [
    {
     "data": {
      "text/html": [
       "<table class=\"simpletable\">\n",
       "<caption>Generalized Linear Model Regression Results</caption>\n",
       "<tr>\n",
       "  <th>Dep. Variable:</th>       <td>Converted</td>    <th>  No. Observations:  </th>  <td>  7259</td> \n",
       "</tr>\n",
       "<tr>\n",
       "  <th>Model:</th>                  <td>GLM</td>       <th>  Df Residuals:      </th>  <td>  7182</td> \n",
       "</tr>\n",
       "<tr>\n",
       "  <th>Model Family:</th>        <td>Binomial</td>     <th>  Df Model:          </th>  <td>    76</td> \n",
       "</tr>\n",
       "<tr>\n",
       "  <th>Link Function:</th>         <td>Logit</td>      <th>  Scale:             </th> <td>  1.0000</td>\n",
       "</tr>\n",
       "<tr>\n",
       "  <th>Method:</th>                <td>IRLS</td>       <th>  Log-Likelihood:    </th> <td> -1494.9</td>\n",
       "</tr>\n",
       "<tr>\n",
       "  <th>Date:</th>            <td>Mon, 29 Apr 2024</td> <th>  Deviance:          </th> <td>  2989.8</td>\n",
       "</tr>\n",
       "<tr>\n",
       "  <th>Time:</th>                <td>22:14:19</td>     <th>  Pearson chi2:      </th> <td>5.43e+04</td>\n",
       "</tr>\n",
       "<tr>\n",
       "  <th>No. Iterations:</th>         <td>23</td>        <th>  Pseudo R-squ. (CS):</th>  <td>0.6003</td> \n",
       "</tr>\n",
       "<tr>\n",
       "  <th>Covariance Type:</th>     <td>nonrobust</td>    <th>                     </th>     <td> </td>   \n",
       "</tr>\n",
       "</table>\n",
       "<table class=\"simpletable\">\n",
       "<tr>\n",
       "                            <td></td>                              <th>coef</th>     <th>std err</th>      <th>z</th>      <th>P>|z|</th>  <th>[0.025</th>    <th>0.975]</th>  \n",
       "</tr>\n",
       "<tr>\n",
       "  <th>const</th>                                                <td>    1.3841</td> <td>    1.752</td> <td>    0.790</td> <td> 0.430</td> <td>   -2.050</td> <td>    4.819</td>\n",
       "</tr>\n",
       "<tr>\n",
       "  <th>TotalVisits</th>                                          <td>    0.1098</td> <td>    0.078</td> <td>    1.406</td> <td> 0.160</td> <td>   -0.043</td> <td>    0.263</td>\n",
       "</tr>\n",
       "<tr>\n",
       "  <th>Total Time Spent on Website</th>                          <td>    1.0961</td> <td>    0.057</td> <td>   19.087</td> <td> 0.000</td> <td>    0.984</td> <td>    1.209</td>\n",
       "</tr>\n",
       "<tr>\n",
       "  <th>Page Views Per Visit</th>                                 <td>   -0.1521</td> <td>    0.079</td> <td>   -1.932</td> <td> 0.053</td> <td>   -0.306</td> <td>    0.002</td>\n",
       "</tr>\n",
       "<tr>\n",
       "  <th>Lead Origin_Landing Page Submission</th>                  <td>   -0.9797</td> <td>    0.203</td> <td>   -4.818</td> <td> 0.000</td> <td>   -1.378</td> <td>   -0.581</td>\n",
       "</tr>\n",
       "<tr>\n",
       "  <th>Lead Origin_Lead Add Form</th>                            <td>   -0.1341</td> <td>    1.316</td> <td>   -0.102</td> <td> 0.919</td> <td>   -2.714</td> <td>    2.445</td>\n",
       "</tr>\n",
       "<tr>\n",
       "  <th>Lead Origin_Lead Import</th>                              <td>    0.9196</td> <td>    0.768</td> <td>    1.197</td> <td> 0.231</td> <td>   -0.586</td> <td>    2.425</td>\n",
       "</tr>\n",
       "<tr>\n",
       "  <th>Lead Source_Google</th>                                   <td>    0.2286</td> <td>    0.140</td> <td>    1.637</td> <td> 0.102</td> <td>   -0.045</td> <td>    0.502</td>\n",
       "</tr>\n",
       "<tr>\n",
       "  <th>Lead Source_Olark Chat</th>                               <td>    1.0440</td> <td>    0.210</td> <td>    4.980</td> <td> 0.000</td> <td>    0.633</td> <td>    1.455</td>\n",
       "</tr>\n",
       "<tr>\n",
       "  <th>Lead Source_Organic Search</th>                           <td>    0.2858</td> <td>    0.189</td> <td>    1.512</td> <td> 0.131</td> <td>   -0.085</td> <td>    0.656</td>\n",
       "</tr>\n",
       "<tr>\n",
       "  <th>Lead Source_Other Website</th>                            <td>    0.8505</td> <td>    0.787</td> <td>    1.081</td> <td> 0.280</td> <td>   -0.692</td> <td>    2.393</td>\n",
       "</tr>\n",
       "<tr>\n",
       "  <th>Lead Source_Reference</th>                                <td>    1.5934</td> <td>    1.365</td> <td>    1.168</td> <td> 0.243</td> <td>   -1.081</td> <td>    4.268</td>\n",
       "</tr>\n",
       "<tr>\n",
       "  <th>Lead Source_Referral Sites</th>                           <td>   -0.0370</td> <td>    0.430</td> <td>   -0.086</td> <td> 0.931</td> <td>   -0.879</td> <td>    0.805</td>\n",
       "</tr>\n",
       "<tr>\n",
       "  <th>Lead Source_Welingak Website</th>                         <td>    5.2695</td> <td>    1.513</td> <td>    3.483</td> <td> 0.000</td> <td>    2.304</td> <td>    8.235</td>\n",
       "</tr>\n",
       "<tr>\n",
       "  <th>Last Activity_Email Bounced</th>                          <td>   -1.6459</td> <td>    0.688</td> <td>   -2.393</td> <td> 0.017</td> <td>   -2.994</td> <td>   -0.298</td>\n",
       "</tr>\n",
       "<tr>\n",
       "  <th>Last Activity_Email Link Clicked</th>                     <td>   -0.9403</td> <td>    0.428</td> <td>   -2.199</td> <td> 0.028</td> <td>   -1.778</td> <td>   -0.102</td>\n",
       "</tr>\n",
       "<tr>\n",
       "  <th>Last Activity_Email Opened</th>                           <td>   -0.4422</td> <td>    0.326</td> <td>   -1.357</td> <td> 0.175</td> <td>   -1.081</td> <td>    0.196</td>\n",
       "</tr>\n",
       "<tr>\n",
       "  <th>Last Activity_Form Submitted on Website</th>              <td>    0.2283</td> <td>    0.555</td> <td>    0.411</td> <td> 0.681</td> <td>   -0.859</td> <td>    1.316</td>\n",
       "</tr>\n",
       "<tr>\n",
       "  <th>Last Activity_Olark Chat Conversation</th>                <td>   -0.6421</td> <td>    0.367</td> <td>   -1.749</td> <td> 0.080</td> <td>   -1.362</td> <td>    0.078</td>\n",
       "</tr>\n",
       "<tr>\n",
       "  <th>Last Activity_Other Activity</th>                         <td>    1.3145</td> <td>    1.160</td> <td>    1.133</td> <td> 0.257</td> <td>   -0.959</td> <td>    3.588</td>\n",
       "</tr>\n",
       "<tr>\n",
       "  <th>Last Activity_Page Visited on Website</th>                <td>   -0.6485</td> <td>    0.371</td> <td>   -1.748</td> <td> 0.080</td> <td>   -1.376</td> <td>    0.079</td>\n",
       "</tr>\n",
       "<tr>\n",
       "  <th>Last Activity_SMS Sent</th>                               <td>    1.5305</td> <td>    0.319</td> <td>    4.795</td> <td> 0.000</td> <td>    0.905</td> <td>    2.156</td>\n",
       "</tr>\n",
       "<tr>\n",
       "  <th>Last Activity_Unreachable</th>                            <td>    0.3167</td> <td>    0.551</td> <td>    0.575</td> <td> 0.565</td> <td>   -0.763</td> <td>    1.396</td>\n",
       "</tr>\n",
       "<tr>\n",
       "  <th>Last Activity_Unsubscribed</th>                           <td>   -0.5392</td> <td>    0.660</td> <td>   -0.817</td> <td> 0.414</td> <td>   -1.833</td> <td>    0.755</td>\n",
       "</tr>\n",
       "<tr>\n",
       "  <th>Specialization_Business Administration</th>               <td>    0.0757</td> <td>    0.354</td> <td>    0.213</td> <td> 0.831</td> <td>   -0.619</td> <td>    0.770</td>\n",
       "</tr>\n",
       "<tr>\n",
       "  <th>Specialization_E-Business</th>                            <td>   -0.1404</td> <td>    0.639</td> <td>   -0.220</td> <td> 0.826</td> <td>   -1.393</td> <td>    1.113</td>\n",
       "</tr>\n",
       "<tr>\n",
       "  <th>Specialization_E-COMMERCE</th>                            <td>    0.7308</td> <td>    0.504</td> <td>    1.450</td> <td> 0.147</td> <td>   -0.257</td> <td>    1.718</td>\n",
       "</tr>\n",
       "<tr>\n",
       "  <th>Specialization_Finance Management</th>                    <td>   -0.1181</td> <td>    0.308</td> <td>   -0.383</td> <td> 0.702</td> <td>   -0.722</td> <td>    0.486</td>\n",
       "</tr>\n",
       "<tr>\n",
       "  <th>Specialization_Healthcare Management</th>                 <td>   -0.2304</td> <td>    0.468</td> <td>   -0.492</td> <td> 0.623</td> <td>   -1.148</td> <td>    0.687</td>\n",
       "</tr>\n",
       "<tr>\n",
       "  <th>Specialization_Hospitality Management</th>                <td>    0.0573</td> <td>    0.472</td> <td>    0.121</td> <td> 0.903</td> <td>   -0.868</td> <td>    0.983</td>\n",
       "</tr>\n",
       "<tr>\n",
       "  <th>Specialization_Human Resource Management</th>             <td>    0.0669</td> <td>    0.312</td> <td>    0.215</td> <td> 0.830</td> <td>   -0.544</td> <td>    0.678</td>\n",
       "</tr>\n",
       "<tr>\n",
       "  <th>Specialization_IT Projects Management</th>                <td>    0.3710</td> <td>    0.369</td> <td>    1.005</td> <td> 0.315</td> <td>   -0.353</td> <td>    1.095</td>\n",
       "</tr>\n",
       "<tr>\n",
       "  <th>Specialization_International Business</th>                <td>   -0.5401</td> <td>    0.422</td> <td>   -1.279</td> <td> 0.201</td> <td>   -1.368</td> <td>    0.288</td>\n",
       "</tr>\n",
       "<tr>\n",
       "  <th>Specialization_Marketing Management</th>                  <td>    0.3563</td> <td>    0.313</td> <td>    1.137</td> <td> 0.256</td> <td>   -0.258</td> <td>    0.971</td>\n",
       "</tr>\n",
       "<tr>\n",
       "  <th>Specialization_Media and Advertising</th>                 <td>   -0.0855</td> <td>    0.444</td> <td>   -0.193</td> <td> 0.847</td> <td>   -0.956</td> <td>    0.785</td>\n",
       "</tr>\n",
       "<tr>\n",
       "  <th>Specialization_Operations Management</th>                 <td>    0.2850</td> <td>    0.351</td> <td>    0.811</td> <td> 0.417</td> <td>   -0.404</td> <td>    0.974</td>\n",
       "</tr>\n",
       "<tr>\n",
       "  <th>Specialization_Other_Specialization</th>                  <td>   -0.4399</td> <td>    0.323</td> <td>   -1.363</td> <td> 0.173</td> <td>   -1.072</td> <td>    0.192</td>\n",
       "</tr>\n",
       "<tr>\n",
       "  <th>Specialization_Retail Management</th>                     <td>   -0.2089</td> <td>    0.511</td> <td>   -0.409</td> <td> 0.683</td> <td>   -1.211</td> <td>    0.794</td>\n",
       "</tr>\n",
       "<tr>\n",
       "  <th>Specialization_Rural and Agribusiness</th>                <td>    0.1291</td> <td>    0.629</td> <td>    0.205</td> <td> 0.837</td> <td>   -1.104</td> <td>    1.362</td>\n",
       "</tr>\n",
       "<tr>\n",
       "  <th>Specialization_Services Excellence</th>                   <td>    0.4013</td> <td>    0.810</td> <td>    0.495</td> <td> 0.620</td> <td>   -1.186</td> <td>    1.989</td>\n",
       "</tr>\n",
       "<tr>\n",
       "  <th>Specialization_Supply Chain Management</th>               <td>   -0.1710</td> <td>    0.379</td> <td>   -0.451</td> <td> 0.652</td> <td>   -0.914</td> <td>    0.572</td>\n",
       "</tr>\n",
       "<tr>\n",
       "  <th>Specialization_Travel and Tourism</th>                    <td>   -0.5840</td> <td>    0.474</td> <td>   -1.233</td> <td> 0.218</td> <td>   -1.512</td> <td>    0.344</td>\n",
       "</tr>\n",
       "<tr>\n",
       "  <th>What is your current occupation_Housewife</th>            <td>   19.6511</td> <td> 4.34e+04</td> <td>    0.000</td> <td> 1.000</td> <td>-8.51e+04</td> <td> 8.51e+04</td>\n",
       "</tr>\n",
       "<tr>\n",
       "  <th>What is your current occupation_Other</th>                <td>   -0.0382</td> <td>    2.092</td> <td>   -0.018</td> <td> 0.985</td> <td>   -4.138</td> <td>    4.061</td>\n",
       "</tr>\n",
       "<tr>\n",
       "  <th>What is your current occupation_Student</th>              <td>   -1.3395</td> <td>    1.540</td> <td>   -0.870</td> <td> 0.384</td> <td>   -4.358</td> <td>    1.679</td>\n",
       "</tr>\n",
       "<tr>\n",
       "  <th>What is your current occupation_Unemployed</th>           <td>   -1.8660</td> <td>    1.463</td> <td>   -1.276</td> <td> 0.202</td> <td>   -4.733</td> <td>    1.001</td>\n",
       "</tr>\n",
       "<tr>\n",
       "  <th>What is your current occupation_Working Professional</th> <td>   -0.5594</td> <td>    1.494</td> <td>   -0.374</td> <td> 0.708</td> <td>   -3.487</td> <td>    2.368</td>\n",
       "</tr>\n",
       "<tr>\n",
       "  <th>Tags_Busy</th>                                            <td>    4.0926</td> <td>    0.847</td> <td>    4.829</td> <td> 0.000</td> <td>    2.432</td> <td>    5.754</td>\n",
       "</tr>\n",
       "<tr>\n",
       "  <th>Tags_Closed by Horizzon</th>                              <td>    9.4966</td> <td>    1.140</td> <td>    8.332</td> <td> 0.000</td> <td>    7.263</td> <td>   11.731</td>\n",
       "</tr>\n",
       "<tr>\n",
       "  <th>Tags_Graduation in progress</th>                          <td>    1.0138</td> <td>    0.999</td> <td>    1.015</td> <td> 0.310</td> <td>   -0.945</td> <td>    2.972</td>\n",
       "</tr>\n",
       "<tr>\n",
       "  <th>Tags_Interested  in full time MBA</th>                    <td>    0.3672</td> <td>    1.131</td> <td>    0.325</td> <td> 0.745</td> <td>   -1.849</td> <td>    2.583</td>\n",
       "</tr>\n",
       "<tr>\n",
       "  <th>Tags_Interested in other courses</th>                     <td>    0.5640</td> <td>    0.875</td> <td>    0.645</td> <td> 0.519</td> <td>   -1.151</td> <td>    2.279</td>\n",
       "</tr>\n",
       "<tr>\n",
       "  <th>Tags_Lost to EINS</th>                                    <td>    9.7014</td> <td>    1.000</td> <td>    9.700</td> <td> 0.000</td> <td>    7.741</td> <td>   11.662</td>\n",
       "</tr>\n",
       "<tr>\n",
       "  <th>Tags_Not doing further education</th>                     <td>   -0.4478</td> <td>    1.434</td> <td>   -0.312</td> <td> 0.755</td> <td>   -3.258</td> <td>    2.363</td>\n",
       "</tr>\n",
       "<tr>\n",
       "  <th>Tags_Other_Tags</th>                                      <td>    0.4724</td> <td>    0.879</td> <td>    0.537</td> <td> 0.591</td> <td>   -1.250</td> <td>    2.195</td>\n",
       "</tr>\n",
       "<tr>\n",
       "  <th>Tags_Ringing</th>                                         <td>   -0.6685</td> <td>    0.850</td> <td>   -0.787</td> <td> 0.431</td> <td>   -2.334</td> <td>    0.997</td>\n",
       "</tr>\n",
       "<tr>\n",
       "  <th>Tags_Will revert after reading the email</th>             <td>    4.2808</td> <td>    0.816</td> <td>    5.249</td> <td> 0.000</td> <td>    2.682</td> <td>    5.879</td>\n",
       "</tr>\n",
       "<tr>\n",
       "  <th>Tags_invalid number</th>                                  <td>  -21.1133</td> <td> 1.25e+04</td> <td>   -0.002</td> <td> 0.999</td> <td>-2.46e+04</td> <td> 2.46e+04</td>\n",
       "</tr>\n",
       "<tr>\n",
       "  <th>Tags_switched off</th>                                    <td>   -1.5766</td> <td>    1.006</td> <td>   -1.567</td> <td> 0.117</td> <td>   -3.549</td> <td>    0.395</td>\n",
       "</tr>\n",
       "<tr>\n",
       "  <th>Lead Quality_Low in Relevance</th>                        <td>   -0.5088</td> <td>    0.399</td> <td>   -1.275</td> <td> 0.202</td> <td>   -1.291</td> <td>    0.273</td>\n",
       "</tr>\n",
       "<tr>\n",
       "  <th>Lead Quality_Might be</th>                                <td>   -1.3168</td> <td>    0.366</td> <td>   -3.602</td> <td> 0.000</td> <td>   -2.033</td> <td>   -0.600</td>\n",
       "</tr>\n",
       "<tr>\n",
       "  <th>Lead Quality_Not Sure</th>                                <td>   -4.0709</td> <td>    0.350</td> <td>  -11.623</td> <td> 0.000</td> <td>   -4.757</td> <td>   -3.384</td>\n",
       "</tr>\n",
       "<tr>\n",
       "  <th>Lead Quality_Worst</th>                                   <td>   -4.5673</td> <td>    0.885</td> <td>   -5.163</td> <td> 0.000</td> <td>   -6.301</td> <td>   -2.834</td>\n",
       "</tr>\n",
       "<tr>\n",
       "  <th>Last Notable Activity_Email Bounced</th>                  <td>    0.5283</td> <td>    0.896</td> <td>    0.590</td> <td> 0.555</td> <td>   -1.227</td> <td>    2.284</td>\n",
       "</tr>\n",
       "<tr>\n",
       "  <th>Last Notable Activity_Email Marked Spam</th>              <td>   19.3370</td> <td> 8.43e+04</td> <td>    0.000</td> <td> 1.000</td> <td>-1.65e+05</td> <td> 1.65e+05</td>\n",
       "</tr>\n",
       "<tr>\n",
       "  <th>Last Notable Activity_Email Received</th>                 <td>   18.2107</td> <td> 1.31e+05</td> <td>    0.000</td> <td> 1.000</td> <td>-2.57e+05</td> <td> 2.57e+05</td>\n",
       "</tr>\n",
       "<tr>\n",
       "  <th>Last Notable Activity_Form Submitted on Website</th>      <td>  -23.0120</td> <td> 1.31e+05</td> <td>   -0.000</td> <td> 1.000</td> <td>-2.57e+05</td> <td> 2.57e+05</td>\n",
       "</tr>\n",
       "<tr>\n",
       "  <th>Last Notable Activity_Had a Phone Conversation</th>       <td>   -0.5104</td> <td>    1.736</td> <td>   -0.294</td> <td> 0.769</td> <td>   -3.912</td> <td>    2.892</td>\n",
       "</tr>\n",
       "<tr>\n",
       "  <th>Last Notable Activity_Modified</th>                       <td>   -1.7402</td> <td>    0.136</td> <td>  -12.838</td> <td> 0.000</td> <td>   -2.006</td> <td>   -1.475</td>\n",
       "</tr>\n",
       "<tr>\n",
       "  <th>Last Notable Activity_Olark Chat Conversation</th>        <td>   -1.9458</td> <td>    0.461</td> <td>   -4.217</td> <td> 0.000</td> <td>   -2.850</td> <td>   -1.041</td>\n",
       "</tr>\n",
       "<tr>\n",
       "  <th>Last Notable Activity_Resubscribed to emails</th>         <td>   18.4255</td> <td> 1.31e+05</td> <td>    0.000</td> <td> 1.000</td> <td>-2.57e+05</td> <td> 2.57e+05</td>\n",
       "</tr>\n",
       "<tr>\n",
       "  <th>Last Notable Activity_View in browser link Clicked</th>   <td>  -20.8572</td> <td> 1.31e+05</td> <td>   -0.000</td> <td> 1.000</td> <td>-2.57e+05</td> <td> 2.57e+05</td>\n",
       "</tr>\n",
       "<tr>\n",
       "  <th>City_Other Cities</th>                                    <td>   -0.1298</td> <td>    0.200</td> <td>   -0.648</td> <td> 0.517</td> <td>   -0.522</td> <td>    0.263</td>\n",
       "</tr>\n",
       "<tr>\n",
       "  <th>City_Other Cities of Maharashtra</th>                     <td>    0.0448</td> <td>    0.237</td> <td>    0.188</td> <td> 0.851</td> <td>   -0.421</td> <td>    0.510</td>\n",
       "</tr>\n",
       "<tr>\n",
       "  <th>City_Other Metro Cities</th>                              <td>    0.0113</td> <td>    0.256</td> <td>    0.044</td> <td> 0.965</td> <td>   -0.490</td> <td>    0.513</td>\n",
       "</tr>\n",
       "<tr>\n",
       "  <th>City_Thane & Outskirts</th>                               <td>   -0.1140</td> <td>    0.199</td> <td>   -0.573</td> <td> 0.567</td> <td>   -0.504</td> <td>    0.276</td>\n",
       "</tr>\n",
       "<tr>\n",
       "  <th>City_Tier II Cities</th>                                  <td>    0.8656</td> <td>    0.620</td> <td>    1.397</td> <td> 0.162</td> <td>   -0.349</td> <td>    2.080</td>\n",
       "</tr>\n",
       "</table>"
      ],
      "text/latex": [
       "\\begin{center}\n",
       "\\begin{tabular}{lclc}\n",
       "\\toprule\n",
       "\\textbf{Dep. Variable:}                                        &    Converted     & \\textbf{  No. Observations:  } &     7259    \\\\\n",
       "\\textbf{Model:}                                                &       GLM        & \\textbf{  Df Residuals:      } &     7182    \\\\\n",
       "\\textbf{Model Family:}                                         &     Binomial     & \\textbf{  Df Model:          } &       76    \\\\\n",
       "\\textbf{Link Function:}                                        &      Logit       & \\textbf{  Scale:             } &    1.0000   \\\\\n",
       "\\textbf{Method:}                                               &       IRLS       & \\textbf{  Log-Likelihood:    } &   -1494.9   \\\\\n",
       "\\textbf{Date:}                                                 & Mon, 29 Apr 2024 & \\textbf{  Deviance:          } &    2989.8   \\\\\n",
       "\\textbf{Time:}                                                 &     22:14:19     & \\textbf{  Pearson chi2:      } &  5.43e+04   \\\\\n",
       "\\textbf{No. Iterations:}                                       &        23        & \\textbf{  Pseudo R-squ. (CS):} &   0.6003    \\\\\n",
       "\\textbf{Covariance Type:}                                      &    nonrobust     & \\textbf{                     } &             \\\\\n",
       "\\bottomrule\n",
       "\\end{tabular}\n",
       "\\begin{tabular}{lcccccc}\n",
       "                                                               & \\textbf{coef} & \\textbf{std err} & \\textbf{z} & \\textbf{P$> |$z$|$} & \\textbf{[0.025} & \\textbf{0.975]}  \\\\\n",
       "\\midrule\n",
       "\\textbf{const}                                                 &       1.3841  &        1.752     &     0.790  &         0.430        &       -2.050    &        4.819     \\\\\n",
       "\\textbf{TotalVisits}                                           &       0.1098  &        0.078     &     1.406  &         0.160        &       -0.043    &        0.263     \\\\\n",
       "\\textbf{Total Time Spent on Website}                           &       1.0961  &        0.057     &    19.087  &         0.000        &        0.984    &        1.209     \\\\\n",
       "\\textbf{Page Views Per Visit}                                  &      -0.1521  &        0.079     &    -1.932  &         0.053        &       -0.306    &        0.002     \\\\\n",
       "\\textbf{Lead Origin\\_Landing Page Submission}                  &      -0.9797  &        0.203     &    -4.818  &         0.000        &       -1.378    &       -0.581     \\\\\n",
       "\\textbf{Lead Origin\\_Lead Add Form}                            &      -0.1341  &        1.316     &    -0.102  &         0.919        &       -2.714    &        2.445     \\\\\n",
       "\\textbf{Lead Origin\\_Lead Import}                              &       0.9196  &        0.768     &     1.197  &         0.231        &       -0.586    &        2.425     \\\\\n",
       "\\textbf{Lead Source\\_Google}                                   &       0.2286  &        0.140     &     1.637  &         0.102        &       -0.045    &        0.502     \\\\\n",
       "\\textbf{Lead Source\\_Olark Chat}                               &       1.0440  &        0.210     &     4.980  &         0.000        &        0.633    &        1.455     \\\\\n",
       "\\textbf{Lead Source\\_Organic Search}                           &       0.2858  &        0.189     &     1.512  &         0.131        &       -0.085    &        0.656     \\\\\n",
       "\\textbf{Lead Source\\_Other Website}                            &       0.8505  &        0.787     &     1.081  &         0.280        &       -0.692    &        2.393     \\\\\n",
       "\\textbf{Lead Source\\_Reference}                                &       1.5934  &        1.365     &     1.168  &         0.243        &       -1.081    &        4.268     \\\\\n",
       "\\textbf{Lead Source\\_Referral Sites}                           &      -0.0370  &        0.430     &    -0.086  &         0.931        &       -0.879    &        0.805     \\\\\n",
       "\\textbf{Lead Source\\_Welingak Website}                         &       5.2695  &        1.513     &     3.483  &         0.000        &        2.304    &        8.235     \\\\\n",
       "\\textbf{Last Activity\\_Email Bounced}                          &      -1.6459  &        0.688     &    -2.393  &         0.017        &       -2.994    &       -0.298     \\\\\n",
       "\\textbf{Last Activity\\_Email Link Clicked}                     &      -0.9403  &        0.428     &    -2.199  &         0.028        &       -1.778    &       -0.102     \\\\\n",
       "\\textbf{Last Activity\\_Email Opened}                           &      -0.4422  &        0.326     &    -1.357  &         0.175        &       -1.081    &        0.196     \\\\\n",
       "\\textbf{Last Activity\\_Form Submitted on Website}              &       0.2283  &        0.555     &     0.411  &         0.681        &       -0.859    &        1.316     \\\\\n",
       "\\textbf{Last Activity\\_Olark Chat Conversation}                &      -0.6421  &        0.367     &    -1.749  &         0.080        &       -1.362    &        0.078     \\\\\n",
       "\\textbf{Last Activity\\_Other Activity}                         &       1.3145  &        1.160     &     1.133  &         0.257        &       -0.959    &        3.588     \\\\\n",
       "\\textbf{Last Activity\\_Page Visited on Website}                &      -0.6485  &        0.371     &    -1.748  &         0.080        &       -1.376    &        0.079     \\\\\n",
       "\\textbf{Last Activity\\_SMS Sent}                               &       1.5305  &        0.319     &     4.795  &         0.000        &        0.905    &        2.156     \\\\\n",
       "\\textbf{Last Activity\\_Unreachable}                            &       0.3167  &        0.551     &     0.575  &         0.565        &       -0.763    &        1.396     \\\\\n",
       "\\textbf{Last Activity\\_Unsubscribed}                           &      -0.5392  &        0.660     &    -0.817  &         0.414        &       -1.833    &        0.755     \\\\\n",
       "\\textbf{Specialization\\_Business Administration}               &       0.0757  &        0.354     &     0.213  &         0.831        &       -0.619    &        0.770     \\\\\n",
       "\\textbf{Specialization\\_E-Business}                            &      -0.1404  &        0.639     &    -0.220  &         0.826        &       -1.393    &        1.113     \\\\\n",
       "\\textbf{Specialization\\_E-COMMERCE}                            &       0.7308  &        0.504     &     1.450  &         0.147        &       -0.257    &        1.718     \\\\\n",
       "\\textbf{Specialization\\_Finance Management}                    &      -0.1181  &        0.308     &    -0.383  &         0.702        &       -0.722    &        0.486     \\\\\n",
       "\\textbf{Specialization\\_Healthcare Management}                 &      -0.2304  &        0.468     &    -0.492  &         0.623        &       -1.148    &        0.687     \\\\\n",
       "\\textbf{Specialization\\_Hospitality Management}                &       0.0573  &        0.472     &     0.121  &         0.903        &       -0.868    &        0.983     \\\\\n",
       "\\textbf{Specialization\\_Human Resource Management}             &       0.0669  &        0.312     &     0.215  &         0.830        &       -0.544    &        0.678     \\\\\n",
       "\\textbf{Specialization\\_IT Projects Management}                &       0.3710  &        0.369     &     1.005  &         0.315        &       -0.353    &        1.095     \\\\\n",
       "\\textbf{Specialization\\_International Business}                &      -0.5401  &        0.422     &    -1.279  &         0.201        &       -1.368    &        0.288     \\\\\n",
       "\\textbf{Specialization\\_Marketing Management}                  &       0.3563  &        0.313     &     1.137  &         0.256        &       -0.258    &        0.971     \\\\\n",
       "\\textbf{Specialization\\_Media and Advertising}                 &      -0.0855  &        0.444     &    -0.193  &         0.847        &       -0.956    &        0.785     \\\\\n",
       "\\textbf{Specialization\\_Operations Management}                 &       0.2850  &        0.351     &     0.811  &         0.417        &       -0.404    &        0.974     \\\\\n",
       "\\textbf{Specialization\\_Other\\_Specialization}                 &      -0.4399  &        0.323     &    -1.363  &         0.173        &       -1.072    &        0.192     \\\\\n",
       "\\textbf{Specialization\\_Retail Management}                     &      -0.2089  &        0.511     &    -0.409  &         0.683        &       -1.211    &        0.794     \\\\\n",
       "\\textbf{Specialization\\_Rural and Agribusiness}                &       0.1291  &        0.629     &     0.205  &         0.837        &       -1.104    &        1.362     \\\\\n",
       "\\textbf{Specialization\\_Services Excellence}                   &       0.4013  &        0.810     &     0.495  &         0.620        &       -1.186    &        1.989     \\\\\n",
       "\\textbf{Specialization\\_Supply Chain Management}               &      -0.1710  &        0.379     &    -0.451  &         0.652        &       -0.914    &        0.572     \\\\\n",
       "\\textbf{Specialization\\_Travel and Tourism}                    &      -0.5840  &        0.474     &    -1.233  &         0.218        &       -1.512    &        0.344     \\\\\n",
       "\\textbf{What is your current occupation\\_Housewife}            &      19.6511  &     4.34e+04     &     0.000  &         1.000        &    -8.51e+04    &     8.51e+04     \\\\\n",
       "\\textbf{What is your current occupation\\_Other}                &      -0.0382  &        2.092     &    -0.018  &         0.985        &       -4.138    &        4.061     \\\\\n",
       "\\textbf{What is your current occupation\\_Student}              &      -1.3395  &        1.540     &    -0.870  &         0.384        &       -4.358    &        1.679     \\\\\n",
       "\\textbf{What is your current occupation\\_Unemployed}           &      -1.8660  &        1.463     &    -1.276  &         0.202        &       -4.733    &        1.001     \\\\\n",
       "\\textbf{What is your current occupation\\_Working Professional} &      -0.5594  &        1.494     &    -0.374  &         0.708        &       -3.487    &        2.368     \\\\\n",
       "\\textbf{Tags\\_Busy}                                            &       4.0926  &        0.847     &     4.829  &         0.000        &        2.432    &        5.754     \\\\\n",
       "\\textbf{Tags\\_Closed by Horizzon}                              &       9.4966  &        1.140     &     8.332  &         0.000        &        7.263    &       11.731     \\\\\n",
       "\\textbf{Tags\\_Graduation in progress}                          &       1.0138  &        0.999     &     1.015  &         0.310        &       -0.945    &        2.972     \\\\\n",
       "\\textbf{Tags\\_Interested  in full time MBA}                    &       0.3672  &        1.131     &     0.325  &         0.745        &       -1.849    &        2.583     \\\\\n",
       "\\textbf{Tags\\_Interested in other courses}                     &       0.5640  &        0.875     &     0.645  &         0.519        &       -1.151    &        2.279     \\\\\n",
       "\\textbf{Tags\\_Lost to EINS}                                    &       9.7014  &        1.000     &     9.700  &         0.000        &        7.741    &       11.662     \\\\\n",
       "\\textbf{Tags\\_Not doing further education}                     &      -0.4478  &        1.434     &    -0.312  &         0.755        &       -3.258    &        2.363     \\\\\n",
       "\\textbf{Tags\\_Other\\_Tags}                                     &       0.4724  &        0.879     &     0.537  &         0.591        &       -1.250    &        2.195     \\\\\n",
       "\\textbf{Tags\\_Ringing}                                         &      -0.6685  &        0.850     &    -0.787  &         0.431        &       -2.334    &        0.997     \\\\\n",
       "\\textbf{Tags\\_Will revert after reading the email}             &       4.2808  &        0.816     &     5.249  &         0.000        &        2.682    &        5.879     \\\\\n",
       "\\textbf{Tags\\_invalid number}                                  &     -21.1133  &     1.25e+04     &    -0.002  &         0.999        &    -2.46e+04    &     2.46e+04     \\\\\n",
       "\\textbf{Tags\\_switched off}                                    &      -1.5766  &        1.006     &    -1.567  &         0.117        &       -3.549    &        0.395     \\\\\n",
       "\\textbf{Lead Quality\\_Low in Relevance}                        &      -0.5088  &        0.399     &    -1.275  &         0.202        &       -1.291    &        0.273     \\\\\n",
       "\\textbf{Lead Quality\\_Might be}                                &      -1.3168  &        0.366     &    -3.602  &         0.000        &       -2.033    &       -0.600     \\\\\n",
       "\\textbf{Lead Quality\\_Not Sure}                                &      -4.0709  &        0.350     &   -11.623  &         0.000        &       -4.757    &       -3.384     \\\\\n",
       "\\textbf{Lead Quality\\_Worst}                                   &      -4.5673  &        0.885     &    -5.163  &         0.000        &       -6.301    &       -2.834     \\\\\n",
       "\\textbf{Last Notable Activity\\_Email Bounced}                  &       0.5283  &        0.896     &     0.590  &         0.555        &       -1.227    &        2.284     \\\\\n",
       "\\textbf{Last Notable Activity\\_Email Marked Spam}              &      19.3370  &     8.43e+04     &     0.000  &         1.000        &    -1.65e+05    &     1.65e+05     \\\\\n",
       "\\textbf{Last Notable Activity\\_Email Received}                 &      18.2107  &     1.31e+05     &     0.000  &         1.000        &    -2.57e+05    &     2.57e+05     \\\\\n",
       "\\textbf{Last Notable Activity\\_Form Submitted on Website}      &     -23.0120  &     1.31e+05     &    -0.000  &         1.000        &    -2.57e+05    &     2.57e+05     \\\\\n",
       "\\textbf{Last Notable Activity\\_Had a Phone Conversation}       &      -0.5104  &        1.736     &    -0.294  &         0.769        &       -3.912    &        2.892     \\\\\n",
       "\\textbf{Last Notable Activity\\_Modified}                       &      -1.7402  &        0.136     &   -12.838  &         0.000        &       -2.006    &       -1.475     \\\\\n",
       "\\textbf{Last Notable Activity\\_Olark Chat Conversation}        &      -1.9458  &        0.461     &    -4.217  &         0.000        &       -2.850    &       -1.041     \\\\\n",
       "\\textbf{Last Notable Activity\\_Resubscribed to emails}         &      18.4255  &     1.31e+05     &     0.000  &         1.000        &    -2.57e+05    &     2.57e+05     \\\\\n",
       "\\textbf{Last Notable Activity\\_View in browser link Clicked}   &     -20.8572  &     1.31e+05     &    -0.000  &         1.000        &    -2.57e+05    &     2.57e+05     \\\\\n",
       "\\textbf{City\\_Other Cities}                                    &      -0.1298  &        0.200     &    -0.648  &         0.517        &       -0.522    &        0.263     \\\\\n",
       "\\textbf{City\\_Other Cities of Maharashtra}                     &       0.0448  &        0.237     &     0.188  &         0.851        &       -0.421    &        0.510     \\\\\n",
       "\\textbf{City\\_Other Metro Cities}                              &       0.0113  &        0.256     &     0.044  &         0.965        &       -0.490    &        0.513     \\\\\n",
       "\\textbf{City\\_Thane \\& Outskirts}                              &      -0.1140  &        0.199     &    -0.573  &         0.567        &       -0.504    &        0.276     \\\\\n",
       "\\textbf{City\\_Tier II Cities}                                  &       0.8656  &        0.620     &     1.397  &         0.162        &       -0.349    &        2.080     \\\\\n",
       "\\bottomrule\n",
       "\\end{tabular}\n",
       "%\\caption{Generalized Linear Model Regression Results}\n",
       "\\end{center}"
      ],
      "text/plain": [
       "<class 'statsmodels.iolib.summary.Summary'>\n",
       "\"\"\"\n",
       "                 Generalized Linear Model Regression Results                  \n",
       "==============================================================================\n",
       "Dep. Variable:              Converted   No. Observations:                 7259\n",
       "Model:                            GLM   Df Residuals:                     7182\n",
       "Model Family:                Binomial   Df Model:                           76\n",
       "Link Function:                  Logit   Scale:                          1.0000\n",
       "Method:                          IRLS   Log-Likelihood:                -1494.9\n",
       "Date:                Mon, 29 Apr 2024   Deviance:                       2989.8\n",
       "Time:                        22:14:19   Pearson chi2:                 5.43e+04\n",
       "No. Iterations:                    23   Pseudo R-squ. (CS):             0.6003\n",
       "Covariance Type:            nonrobust                                         \n",
       "========================================================================================================================\n",
       "                                                           coef    std err          z      P>|z|      [0.025      0.975]\n",
       "------------------------------------------------------------------------------------------------------------------------\n",
       "const                                                    1.3841      1.752      0.790      0.430      -2.050       4.819\n",
       "TotalVisits                                              0.1098      0.078      1.406      0.160      -0.043       0.263\n",
       "Total Time Spent on Website                              1.0961      0.057     19.087      0.000       0.984       1.209\n",
       "Page Views Per Visit                                    -0.1521      0.079     -1.932      0.053      -0.306       0.002\n",
       "Lead Origin_Landing Page Submission                     -0.9797      0.203     -4.818      0.000      -1.378      -0.581\n",
       "Lead Origin_Lead Add Form                               -0.1341      1.316     -0.102      0.919      -2.714       2.445\n",
       "Lead Origin_Lead Import                                  0.9196      0.768      1.197      0.231      -0.586       2.425\n",
       "Lead Source_Google                                       0.2286      0.140      1.637      0.102      -0.045       0.502\n",
       "Lead Source_Olark Chat                                   1.0440      0.210      4.980      0.000       0.633       1.455\n",
       "Lead Source_Organic Search                               0.2858      0.189      1.512      0.131      -0.085       0.656\n",
       "Lead Source_Other Website                                0.8505      0.787      1.081      0.280      -0.692       2.393\n",
       "Lead Source_Reference                                    1.5934      1.365      1.168      0.243      -1.081       4.268\n",
       "Lead Source_Referral Sites                              -0.0370      0.430     -0.086      0.931      -0.879       0.805\n",
       "Lead Source_Welingak Website                             5.2695      1.513      3.483      0.000       2.304       8.235\n",
       "Last Activity_Email Bounced                             -1.6459      0.688     -2.393      0.017      -2.994      -0.298\n",
       "Last Activity_Email Link Clicked                        -0.9403      0.428     -2.199      0.028      -1.778      -0.102\n",
       "Last Activity_Email Opened                              -0.4422      0.326     -1.357      0.175      -1.081       0.196\n",
       "Last Activity_Form Submitted on Website                  0.2283      0.555      0.411      0.681      -0.859       1.316\n",
       "Last Activity_Olark Chat Conversation                   -0.6421      0.367     -1.749      0.080      -1.362       0.078\n",
       "Last Activity_Other Activity                             1.3145      1.160      1.133      0.257      -0.959       3.588\n",
       "Last Activity_Page Visited on Website                   -0.6485      0.371     -1.748      0.080      -1.376       0.079\n",
       "Last Activity_SMS Sent                                   1.5305      0.319      4.795      0.000       0.905       2.156\n",
       "Last Activity_Unreachable                                0.3167      0.551      0.575      0.565      -0.763       1.396\n",
       "Last Activity_Unsubscribed                              -0.5392      0.660     -0.817      0.414      -1.833       0.755\n",
       "Specialization_Business Administration                   0.0757      0.354      0.213      0.831      -0.619       0.770\n",
       "Specialization_E-Business                               -0.1404      0.639     -0.220      0.826      -1.393       1.113\n",
       "Specialization_E-COMMERCE                                0.7308      0.504      1.450      0.147      -0.257       1.718\n",
       "Specialization_Finance Management                       -0.1181      0.308     -0.383      0.702      -0.722       0.486\n",
       "Specialization_Healthcare Management                    -0.2304      0.468     -0.492      0.623      -1.148       0.687\n",
       "Specialization_Hospitality Management                    0.0573      0.472      0.121      0.903      -0.868       0.983\n",
       "Specialization_Human Resource Management                 0.0669      0.312      0.215      0.830      -0.544       0.678\n",
       "Specialization_IT Projects Management                    0.3710      0.369      1.005      0.315      -0.353       1.095\n",
       "Specialization_International Business                   -0.5401      0.422     -1.279      0.201      -1.368       0.288\n",
       "Specialization_Marketing Management                      0.3563      0.313      1.137      0.256      -0.258       0.971\n",
       "Specialization_Media and Advertising                    -0.0855      0.444     -0.193      0.847      -0.956       0.785\n",
       "Specialization_Operations Management                     0.2850      0.351      0.811      0.417      -0.404       0.974\n",
       "Specialization_Other_Specialization                     -0.4399      0.323     -1.363      0.173      -1.072       0.192\n",
       "Specialization_Retail Management                        -0.2089      0.511     -0.409      0.683      -1.211       0.794\n",
       "Specialization_Rural and Agribusiness                    0.1291      0.629      0.205      0.837      -1.104       1.362\n",
       "Specialization_Services Excellence                       0.4013      0.810      0.495      0.620      -1.186       1.989\n",
       "Specialization_Supply Chain Management                  -0.1710      0.379     -0.451      0.652      -0.914       0.572\n",
       "Specialization_Travel and Tourism                       -0.5840      0.474     -1.233      0.218      -1.512       0.344\n",
       "What is your current occupation_Housewife               19.6511   4.34e+04      0.000      1.000   -8.51e+04    8.51e+04\n",
       "What is your current occupation_Other                   -0.0382      2.092     -0.018      0.985      -4.138       4.061\n",
       "What is your current occupation_Student                 -1.3395      1.540     -0.870      0.384      -4.358       1.679\n",
       "What is your current occupation_Unemployed              -1.8660      1.463     -1.276      0.202      -4.733       1.001\n",
       "What is your current occupation_Working Professional    -0.5594      1.494     -0.374      0.708      -3.487       2.368\n",
       "Tags_Busy                                                4.0926      0.847      4.829      0.000       2.432       5.754\n",
       "Tags_Closed by Horizzon                                  9.4966      1.140      8.332      0.000       7.263      11.731\n",
       "Tags_Graduation in progress                              1.0138      0.999      1.015      0.310      -0.945       2.972\n",
       "Tags_Interested  in full time MBA                        0.3672      1.131      0.325      0.745      -1.849       2.583\n",
       "Tags_Interested in other courses                         0.5640      0.875      0.645      0.519      -1.151       2.279\n",
       "Tags_Lost to EINS                                        9.7014      1.000      9.700      0.000       7.741      11.662\n",
       "Tags_Not doing further education                        -0.4478      1.434     -0.312      0.755      -3.258       2.363\n",
       "Tags_Other_Tags                                          0.4724      0.879      0.537      0.591      -1.250       2.195\n",
       "Tags_Ringing                                            -0.6685      0.850     -0.787      0.431      -2.334       0.997\n",
       "Tags_Will revert after reading the email                 4.2808      0.816      5.249      0.000       2.682       5.879\n",
       "Tags_invalid number                                    -21.1133   1.25e+04     -0.002      0.999   -2.46e+04    2.46e+04\n",
       "Tags_switched off                                       -1.5766      1.006     -1.567      0.117      -3.549       0.395\n",
       "Lead Quality_Low in Relevance                           -0.5088      0.399     -1.275      0.202      -1.291       0.273\n",
       "Lead Quality_Might be                                   -1.3168      0.366     -3.602      0.000      -2.033      -0.600\n",
       "Lead Quality_Not Sure                                   -4.0709      0.350    -11.623      0.000      -4.757      -3.384\n",
       "Lead Quality_Worst                                      -4.5673      0.885     -5.163      0.000      -6.301      -2.834\n",
       "Last Notable Activity_Email Bounced                      0.5283      0.896      0.590      0.555      -1.227       2.284\n",
       "Last Notable Activity_Email Marked Spam                 19.3370   8.43e+04      0.000      1.000   -1.65e+05    1.65e+05\n",
       "Last Notable Activity_Email Received                    18.2107   1.31e+05      0.000      1.000   -2.57e+05    2.57e+05\n",
       "Last Notable Activity_Form Submitted on Website        -23.0120   1.31e+05     -0.000      1.000   -2.57e+05    2.57e+05\n",
       "Last Notable Activity_Had a Phone Conversation          -0.5104      1.736     -0.294      0.769      -3.912       2.892\n",
       "Last Notable Activity_Modified                          -1.7402      0.136    -12.838      0.000      -2.006      -1.475\n",
       "Last Notable Activity_Olark Chat Conversation           -1.9458      0.461     -4.217      0.000      -2.850      -1.041\n",
       "Last Notable Activity_Resubscribed to emails            18.4255   1.31e+05      0.000      1.000   -2.57e+05    2.57e+05\n",
       "Last Notable Activity_View in browser link Clicked     -20.8572   1.31e+05     -0.000      1.000   -2.57e+05    2.57e+05\n",
       "City_Other Cities                                       -0.1298      0.200     -0.648      0.517      -0.522       0.263\n",
       "City_Other Cities of Maharashtra                         0.0448      0.237      0.188      0.851      -0.421       0.510\n",
       "City_Other Metro Cities                                  0.0113      0.256      0.044      0.965      -0.490       0.513\n",
       "City_Thane & Outskirts                                  -0.1140      0.199     -0.573      0.567      -0.504       0.276\n",
       "City_Tier II Cities                                      0.8656      0.620      1.397      0.162      -0.349       2.080\n",
       "========================================================================================================================\n",
       "\"\"\""
      ]
     },
     "execution_count": 450,
     "metadata": {},
     "output_type": "execute_result"
    }
   ],
   "source": [
    "# Logistic Regression Model\n",
    "logm1 = sm.GLM(y_train,(sm.add_constant(X_train)),family=sm.families.Binomial())\n",
    "logm1.fit().summary()"
   ]
  },
  {
   "cell_type": "markdown",
   "id": "629be0a6-a533-4203-97dd-f10a25ce7a4e",
   "metadata": {},
   "source": [
    "### Step 10:Feature Selection Using RFE"
   ]
  },
  {
   "cell_type": "code",
   "execution_count": 451,
   "id": "5d219f7f-43ff-4a19-8a69-91035e9e5a2e",
   "metadata": {
    "tags": []
   },
   "outputs": [],
   "source": [
    "from sklearn.linear_model import LogisticRegression\n",
    "logreg = LogisticRegression()"
   ]
  },
  {
   "cell_type": "code",
   "execution_count": 452,
   "id": "486fe1a2-feff-44c7-99b9-f40e53708319",
   "metadata": {
    "tags": []
   },
   "outputs": [],
   "source": [
    "from sklearn.feature_selection import RFE\n",
    "rfe = RFE(estimator=logreg, n_features_to_select=13)\n",
    "rfe = rfe.fit(X_train, y_train)"
   ]
  },
  {
   "cell_type": "code",
   "execution_count": 453,
   "id": "e7b369a0-958a-4f2b-9518-158fcfdefdc6",
   "metadata": {
    "tags": []
   },
   "outputs": [
    {
     "data": {
      "text/plain": [
       "array([False, False, False, False, False, False, False, False, False,\n",
       "       False, False, False,  True, False, False, False, False, False,\n",
       "       False, False,  True, False, False, False, False, False, False,\n",
       "       False, False, False, False, False, False, False, False, False,\n",
       "       False, False, False, False, False, False, False, False, False,\n",
       "       False,  True,  True, False, False, False,  True, False, False,\n",
       "        True,  True,  True,  True, False, False,  True,  True, False,\n",
       "       False, False, False, False,  True,  True, False, False, False,\n",
       "       False, False, False, False])"
      ]
     },
     "execution_count": 453,
     "metadata": {},
     "output_type": "execute_result"
    }
   ],
   "source": [
    "rfe.support_"
   ]
  },
  {
   "cell_type": "code",
   "execution_count": 454,
   "id": "79988c6f-0ca7-4a58-970f-00a1a55c3b78",
   "metadata": {
    "tags": []
   },
   "outputs": [
    {
     "data": {
      "text/plain": [
       "[('TotalVisits', False, 47),\n",
       " ('Total Time Spent on Website', False, 4),\n",
       " ('Page Views Per Visit', False, 46),\n",
       " ('Lead Origin_Landing Page Submission', False, 14),\n",
       " ('Lead Origin_Lead Add Form', False, 2),\n",
       " ('Lead Origin_Lead Import', False, 20),\n",
       " ('Lead Source_Google', False, 37),\n",
       " ('Lead Source_Olark Chat', False, 3),\n",
       " ('Lead Source_Organic Search', False, 38),\n",
       " ('Lead Source_Other Website', False, 31),\n",
       " ('Lead Source_Reference', False, 58),\n",
       " ('Lead Source_Referral Sites', False, 53),\n",
       " ('Lead Source_Welingak Website', True, 1),\n",
       " ('Last Activity_Email Bounced', False, 6),\n",
       " ('Last Activity_Email Link Clicked', False, 23),\n",
       " ('Last Activity_Email Opened', False, 33),\n",
       " ('Last Activity_Form Submitted on Website', False, 16),\n",
       " ('Last Activity_Olark Chat Conversation', False, 24),\n",
       " ('Last Activity_Other Activity', False, 8),\n",
       " ('Last Activity_Page Visited on Website', False, 32),\n",
       " ('Last Activity_SMS Sent', True, 1),\n",
       " ('Last Activity_Unreachable', False, 15),\n",
       " ('Last Activity_Unsubscribed', False, 34),\n",
       " ('Specialization_Business Administration', False, 56),\n",
       " ('Specialization_E-Business', False, 60),\n",
       " ('Specialization_E-COMMERCE', False, 17),\n",
       " ('Specialization_Finance Management', False, 43),\n",
       " ('Specialization_Healthcare Management', False, 41),\n",
       " ('Specialization_Hospitality Management', False, 63),\n",
       " ('Specialization_Human Resource Management', False, 55),\n",
       " ('Specialization_IT Projects Management', False, 27),\n",
       " ('Specialization_International Business', False, 22),\n",
       " ('Specialization_Marketing Management', False, 26),\n",
       " ('Specialization_Media and Advertising', False, 42),\n",
       " ('Specialization_Operations Management', False, 28),\n",
       " ('Specialization_Other_Specialization', False, 19),\n",
       " ('Specialization_Retail Management', False, 36),\n",
       " ('Specialization_Rural and Agribusiness', False, 52),\n",
       " ('Specialization_Services Excellence', False, 50),\n",
       " ('Specialization_Supply Chain Management', False, 44),\n",
       " ('Specialization_Travel and Tourism', False, 18),\n",
       " ('What is your current occupation_Housewife', False, 35),\n",
       " ('What is your current occupation_Other', False, 30),\n",
       " ('What is your current occupation_Student', False, 7),\n",
       " ('What is your current occupation_Unemployed', False, 5),\n",
       " ('What is your current occupation_Working Professional', False, 25),\n",
       " ('Tags_Busy', True, 1),\n",
       " ('Tags_Closed by Horizzon', True, 1),\n",
       " ('Tags_Graduation in progress', False, 29),\n",
       " ('Tags_Interested  in full time MBA', False, 12),\n",
       " ('Tags_Interested in other courses', False, 13),\n",
       " ('Tags_Lost to EINS', True, 1),\n",
       " ('Tags_Not doing further education', False, 9),\n",
       " ('Tags_Other_Tags', False, 11),\n",
       " ('Tags_Ringing', True, 1),\n",
       " ('Tags_Will revert after reading the email', True, 1),\n",
       " ('Tags_invalid number', True, 1),\n",
       " ('Tags_switched off', True, 1),\n",
       " ('Lead Quality_Low in Relevance', False, 51),\n",
       " ('Lead Quality_Might be', False, 10),\n",
       " ('Lead Quality_Not Sure', True, 1),\n",
       " ('Lead Quality_Worst', True, 1),\n",
       " ('Last Notable Activity_Email Bounced', False, 45),\n",
       " ('Last Notable Activity_Email Marked Spam', False, 59),\n",
       " ('Last Notable Activity_Email Received', False, 62),\n",
       " ('Last Notable Activity_Form Submitted on Website', False, 39),\n",
       " ('Last Notable Activity_Had a Phone Conversation', False, 40),\n",
       " ('Last Notable Activity_Modified', True, 1),\n",
       " ('Last Notable Activity_Olark Chat Conversation', True, 1),\n",
       " ('Last Notable Activity_Resubscribed to emails', False, 61),\n",
       " ('Last Notable Activity_View in browser link Clicked', False, 54),\n",
       " ('City_Other Cities', False, 48),\n",
       " ('City_Other Cities of Maharashtra', False, 57),\n",
       " ('City_Other Metro Cities', False, 64),\n",
       " ('City_Thane & Outskirts', False, 49),\n",
       " ('City_Tier II Cities', False, 21)]"
      ]
     },
     "execution_count": 454,
     "metadata": {},
     "output_type": "execute_result"
    }
   ],
   "source": [
    "list(zip(X_train.columns,rfe.support_,rfe.ranking_))"
   ]
  },
  {
   "cell_type": "code",
   "execution_count": 455,
   "id": "4d5f6c06-a612-41a5-a313-e531436f2957",
   "metadata": {
    "tags": []
   },
   "outputs": [],
   "source": [
    "col= X_train.columns[rfe.support_]"
   ]
  },
  {
   "cell_type": "code",
   "execution_count": 456,
   "id": "fe878e99-6751-4bbc-80b4-561ff557b9cf",
   "metadata": {
    "tags": []
   },
   "outputs": [
    {
     "data": {
      "text/plain": [
       "Index(['TotalVisits', 'Total Time Spent on Website', 'Page Views Per Visit',\n",
       "       'Lead Origin_Landing Page Submission', 'Lead Origin_Lead Add Form',\n",
       "       'Lead Origin_Lead Import', 'Lead Source_Google',\n",
       "       'Lead Source_Olark Chat', 'Lead Source_Organic Search',\n",
       "       'Lead Source_Other Website', 'Lead Source_Reference',\n",
       "       'Lead Source_Referral Sites', 'Last Activity_Email Bounced',\n",
       "       'Last Activity_Email Link Clicked', 'Last Activity_Email Opened',\n",
       "       'Last Activity_Form Submitted on Website',\n",
       "       'Last Activity_Olark Chat Conversation', 'Last Activity_Other Activity',\n",
       "       'Last Activity_Page Visited on Website', 'Last Activity_Unreachable',\n",
       "       'Last Activity_Unsubscribed', 'Specialization_Business Administration',\n",
       "       'Specialization_E-Business', 'Specialization_E-COMMERCE',\n",
       "       'Specialization_Finance Management',\n",
       "       'Specialization_Healthcare Management',\n",
       "       'Specialization_Hospitality Management',\n",
       "       'Specialization_Human Resource Management',\n",
       "       'Specialization_IT Projects Management',\n",
       "       'Specialization_International Business',\n",
       "       'Specialization_Marketing Management',\n",
       "       'Specialization_Media and Advertising',\n",
       "       'Specialization_Operations Management',\n",
       "       'Specialization_Other_Specialization',\n",
       "       'Specialization_Retail Management',\n",
       "       'Specialization_Rural and Agribusiness',\n",
       "       'Specialization_Services Excellence',\n",
       "       'Specialization_Supply Chain Management',\n",
       "       'Specialization_Travel and Tourism',\n",
       "       'What is your current occupation_Housewife',\n",
       "       'What is your current occupation_Other',\n",
       "       'What is your current occupation_Student',\n",
       "       'What is your current occupation_Unemployed',\n",
       "       'What is your current occupation_Working Professional',\n",
       "       'Tags_Graduation in progress', 'Tags_Interested  in full time MBA',\n",
       "       'Tags_Interested in other courses', 'Tags_Not doing further education',\n",
       "       'Tags_Other_Tags', 'Lead Quality_Low in Relevance',\n",
       "       'Lead Quality_Might be', 'Last Notable Activity_Email Bounced',\n",
       "       'Last Notable Activity_Email Marked Spam',\n",
       "       'Last Notable Activity_Email Received',\n",
       "       'Last Notable Activity_Form Submitted on Website',\n",
       "       'Last Notable Activity_Had a Phone Conversation',\n",
       "       'Last Notable Activity_Resubscribed to emails',\n",
       "       'Last Notable Activity_View in browser link Clicked',\n",
       "       'City_Other Cities', 'City_Other Cities of Maharashtra',\n",
       "       'City_Other Metro Cities', 'City_Thane & Outskirts',\n",
       "       'City_Tier II Cities'],\n",
       "      dtype='object')"
      ]
     },
     "execution_count": 456,
     "metadata": {},
     "output_type": "execute_result"
    }
   ],
   "source": [
    "X_train.columns[~rfe.support_]"
   ]
  },
  {
   "cell_type": "markdown",
   "id": "4b93a92f-cf88-4527-b17a-6bb26ae7ef07",
   "metadata": {},
   "source": [
    "#### Accessing the models with Statsmodels"
   ]
  },
  {
   "cell_type": "code",
   "execution_count": 457,
   "id": "72805ce8-601b-4df5-b491-8a88f38aeecc",
   "metadata": {
    "tags": []
   },
   "outputs": [
    {
     "data": {
      "text/html": [
       "<table class=\"simpletable\">\n",
       "<caption>Generalized Linear Model Regression Results</caption>\n",
       "<tr>\n",
       "  <th>Dep. Variable:</th>       <td>Converted</td>    <th>  No. Observations:  </th>  <td>  7259</td> \n",
       "</tr>\n",
       "<tr>\n",
       "  <th>Model:</th>                  <td>GLM</td>       <th>  Df Residuals:      </th>  <td>  7245</td> \n",
       "</tr>\n",
       "<tr>\n",
       "  <th>Model Family:</th>        <td>Binomial</td>     <th>  Df Model:          </th>  <td>    13</td> \n",
       "</tr>\n",
       "<tr>\n",
       "  <th>Link Function:</th>         <td>Logit</td>      <th>  Scale:             </th> <td>  1.0000</td>\n",
       "</tr>\n",
       "<tr>\n",
       "  <th>Method:</th>                <td>IRLS</td>       <th>  Log-Likelihood:    </th> <td> -1798.8</td>\n",
       "</tr>\n",
       "<tr>\n",
       "  <th>Date:</th>            <td>Mon, 29 Apr 2024</td> <th>  Deviance:          </th> <td>  3597.7</td>\n",
       "</tr>\n",
       "<tr>\n",
       "  <th>Time:</th>                <td>22:14:42</td>     <th>  Pearson chi2:      </th> <td>3.48e+04</td>\n",
       "</tr>\n",
       "<tr>\n",
       "  <th>No. Iterations:</th>         <td>23</td>        <th>  Pseudo R-squ. (CS):</th>  <td>0.5654</td> \n",
       "</tr>\n",
       "<tr>\n",
       "  <th>Covariance Type:</th>     <td>nonrobust</td>    <th>                     </th>     <td> </td>   \n",
       "</tr>\n",
       "</table>\n",
       "<table class=\"simpletable\">\n",
       "<tr>\n",
       "                        <td></td>                           <th>coef</th>     <th>std err</th>      <th>z</th>      <th>P>|z|</th>  <th>[0.025</th>    <th>0.975]</th>  \n",
       "</tr>\n",
       "<tr>\n",
       "  <th>const</th>                                         <td>   -1.1448</td> <td>    0.200</td> <td>   -5.714</td> <td> 0.000</td> <td>   -1.538</td> <td>   -0.752</td>\n",
       "</tr>\n",
       "<tr>\n",
       "  <th>Lead Source_Welingak Website</th>                  <td>    4.0867</td> <td>    0.734</td> <td>    5.564</td> <td> 0.000</td> <td>    2.647</td> <td>    5.526</td>\n",
       "</tr>\n",
       "<tr>\n",
       "  <th>Last Activity_SMS Sent</th>                        <td>    1.9849</td> <td>    0.095</td> <td>   20.886</td> <td> 0.000</td> <td>    1.799</td> <td>    2.171</td>\n",
       "</tr>\n",
       "<tr>\n",
       "  <th>Tags_Busy</th>                                     <td>    3.5825</td> <td>    0.302</td> <td>   11.877</td> <td> 0.000</td> <td>    2.991</td> <td>    4.174</td>\n",
       "</tr>\n",
       "<tr>\n",
       "  <th>Tags_Closed by Horizzon</th>                       <td>    8.8232</td> <td>    0.764</td> <td>   11.551</td> <td> 0.000</td> <td>    7.326</td> <td>   10.320</td>\n",
       "</tr>\n",
       "<tr>\n",
       "  <th>Tags_Lost to EINS</th>                             <td>    9.2393</td> <td>    0.639</td> <td>   14.451</td> <td> 0.000</td> <td>    7.986</td> <td>   10.492</td>\n",
       "</tr>\n",
       "<tr>\n",
       "  <th>Tags_Ringing</th>                                  <td>   -1.8687</td> <td>    0.302</td> <td>   -6.182</td> <td> 0.000</td> <td>   -2.461</td> <td>   -1.276</td>\n",
       "</tr>\n",
       "<tr>\n",
       "  <th>Tags_Will revert after reading the email</th>      <td>    3.7334</td> <td>    0.215</td> <td>   17.392</td> <td> 0.000</td> <td>    3.313</td> <td>    4.154</td>\n",
       "</tr>\n",
       "<tr>\n",
       "  <th>Tags_invalid number</th>                           <td>  -22.3202</td> <td> 1.26e+04</td> <td>   -0.002</td> <td> 0.999</td> <td>-2.48e+04</td> <td> 2.48e+04</td>\n",
       "</tr>\n",
       "<tr>\n",
       "  <th>Tags_switched off</th>                             <td>   -2.7203</td> <td>    0.571</td> <td>   -4.760</td> <td> 0.000</td> <td>   -3.840</td> <td>   -1.600</td>\n",
       "</tr>\n",
       "<tr>\n",
       "  <th>Lead Quality_Not Sure</th>                         <td>   -3.5416</td> <td>    0.120</td> <td>  -29.603</td> <td> 0.000</td> <td>   -3.776</td> <td>   -3.307</td>\n",
       "</tr>\n",
       "<tr>\n",
       "  <th>Lead Quality_Worst</th>                            <td>   -4.0543</td> <td>    0.735</td> <td>   -5.519</td> <td> 0.000</td> <td>   -5.494</td> <td>   -2.615</td>\n",
       "</tr>\n",
       "<tr>\n",
       "  <th>Last Notable Activity_Modified</th>                <td>   -1.7744</td> <td>    0.099</td> <td>  -17.926</td> <td> 0.000</td> <td>   -1.968</td> <td>   -1.580</td>\n",
       "</tr>\n",
       "<tr>\n",
       "  <th>Last Notable Activity_Olark Chat Conversation</th> <td>   -1.5373</td> <td>    0.351</td> <td>   -4.381</td> <td> 0.000</td> <td>   -2.225</td> <td>   -0.850</td>\n",
       "</tr>\n",
       "</table>"
      ],
      "text/latex": [
       "\\begin{center}\n",
       "\\begin{tabular}{lclc}\n",
       "\\toprule\n",
       "\\textbf{Dep. Variable:}                                 &    Converted     & \\textbf{  No. Observations:  } &     7259    \\\\\n",
       "\\textbf{Model:}                                         &       GLM        & \\textbf{  Df Residuals:      } &     7245    \\\\\n",
       "\\textbf{Model Family:}                                  &     Binomial     & \\textbf{  Df Model:          } &       13    \\\\\n",
       "\\textbf{Link Function:}                                 &      Logit       & \\textbf{  Scale:             } &    1.0000   \\\\\n",
       "\\textbf{Method:}                                        &       IRLS       & \\textbf{  Log-Likelihood:    } &   -1798.8   \\\\\n",
       "\\textbf{Date:}                                          & Mon, 29 Apr 2024 & \\textbf{  Deviance:          } &    3597.7   \\\\\n",
       "\\textbf{Time:}                                          &     22:14:42     & \\textbf{  Pearson chi2:      } &  3.48e+04   \\\\\n",
       "\\textbf{No. Iterations:}                                &        23        & \\textbf{  Pseudo R-squ. (CS):} &   0.5654    \\\\\n",
       "\\textbf{Covariance Type:}                               &    nonrobust     & \\textbf{                     } &             \\\\\n",
       "\\bottomrule\n",
       "\\end{tabular}\n",
       "\\begin{tabular}{lcccccc}\n",
       "                                                        & \\textbf{coef} & \\textbf{std err} & \\textbf{z} & \\textbf{P$> |$z$|$} & \\textbf{[0.025} & \\textbf{0.975]}  \\\\\n",
       "\\midrule\n",
       "\\textbf{const}                                          &      -1.1448  &        0.200     &    -5.714  &         0.000        &       -1.538    &       -0.752     \\\\\n",
       "\\textbf{Lead Source\\_Welingak Website}                  &       4.0867  &        0.734     &     5.564  &         0.000        &        2.647    &        5.526     \\\\\n",
       "\\textbf{Last Activity\\_SMS Sent}                        &       1.9849  &        0.095     &    20.886  &         0.000        &        1.799    &        2.171     \\\\\n",
       "\\textbf{Tags\\_Busy}                                     &       3.5825  &        0.302     &    11.877  &         0.000        &        2.991    &        4.174     \\\\\n",
       "\\textbf{Tags\\_Closed by Horizzon}                       &       8.8232  &        0.764     &    11.551  &         0.000        &        7.326    &       10.320     \\\\\n",
       "\\textbf{Tags\\_Lost to EINS}                             &       9.2393  &        0.639     &    14.451  &         0.000        &        7.986    &       10.492     \\\\\n",
       "\\textbf{Tags\\_Ringing}                                  &      -1.8687  &        0.302     &    -6.182  &         0.000        &       -2.461    &       -1.276     \\\\\n",
       "\\textbf{Tags\\_Will revert after reading the email}      &       3.7334  &        0.215     &    17.392  &         0.000        &        3.313    &        4.154     \\\\\n",
       "\\textbf{Tags\\_invalid number}                           &     -22.3202  &     1.26e+04     &    -0.002  &         0.999        &    -2.48e+04    &     2.48e+04     \\\\\n",
       "\\textbf{Tags\\_switched off}                             &      -2.7203  &        0.571     &    -4.760  &         0.000        &       -3.840    &       -1.600     \\\\\n",
       "\\textbf{Lead Quality\\_Not Sure}                         &      -3.5416  &        0.120     &   -29.603  &         0.000        &       -3.776    &       -3.307     \\\\\n",
       "\\textbf{Lead Quality\\_Worst}                            &      -4.0543  &        0.735     &    -5.519  &         0.000        &       -5.494    &       -2.615     \\\\\n",
       "\\textbf{Last Notable Activity\\_Modified}                &      -1.7744  &        0.099     &   -17.926  &         0.000        &       -1.968    &       -1.580     \\\\\n",
       "\\textbf{Last Notable Activity\\_Olark Chat Conversation} &      -1.5373  &        0.351     &    -4.381  &         0.000        &       -2.225    &       -0.850     \\\\\n",
       "\\bottomrule\n",
       "\\end{tabular}\n",
       "%\\caption{Generalized Linear Model Regression Results}\n",
       "\\end{center}"
      ],
      "text/plain": [
       "<class 'statsmodels.iolib.summary.Summary'>\n",
       "\"\"\"\n",
       "                 Generalized Linear Model Regression Results                  \n",
       "==============================================================================\n",
       "Dep. Variable:              Converted   No. Observations:                 7259\n",
       "Model:                            GLM   Df Residuals:                     7245\n",
       "Model Family:                Binomial   Df Model:                           13\n",
       "Link Function:                  Logit   Scale:                          1.0000\n",
       "Method:                          IRLS   Log-Likelihood:                -1798.8\n",
       "Date:                Mon, 29 Apr 2024   Deviance:                       3597.7\n",
       "Time:                        22:14:42   Pearson chi2:                 3.48e+04\n",
       "No. Iterations:                    23   Pseudo R-squ. (CS):             0.5654\n",
       "Covariance Type:            nonrobust                                         \n",
       "=================================================================================================================\n",
       "                                                    coef    std err          z      P>|z|      [0.025      0.975]\n",
       "-----------------------------------------------------------------------------------------------------------------\n",
       "const                                            -1.1448      0.200     -5.714      0.000      -1.538      -0.752\n",
       "Lead Source_Welingak Website                      4.0867      0.734      5.564      0.000       2.647       5.526\n",
       "Last Activity_SMS Sent                            1.9849      0.095     20.886      0.000       1.799       2.171\n",
       "Tags_Busy                                         3.5825      0.302     11.877      0.000       2.991       4.174\n",
       "Tags_Closed by Horizzon                           8.8232      0.764     11.551      0.000       7.326      10.320\n",
       "Tags_Lost to EINS                                 9.2393      0.639     14.451      0.000       7.986      10.492\n",
       "Tags_Ringing                                     -1.8687      0.302     -6.182      0.000      -2.461      -1.276\n",
       "Tags_Will revert after reading the email          3.7334      0.215     17.392      0.000       3.313       4.154\n",
       "Tags_invalid number                             -22.3202   1.26e+04     -0.002      0.999   -2.48e+04    2.48e+04\n",
       "Tags_switched off                                -2.7203      0.571     -4.760      0.000      -3.840      -1.600\n",
       "Lead Quality_Not Sure                            -3.5416      0.120    -29.603      0.000      -3.776      -3.307\n",
       "Lead Quality_Worst                               -4.0543      0.735     -5.519      0.000      -5.494      -2.615\n",
       "Last Notable Activity_Modified                   -1.7744      0.099    -17.926      0.000      -1.968      -1.580\n",
       "Last Notable Activity_Olark Chat Conversation    -1.5373      0.351     -4.381      0.000      -2.225      -0.850\n",
       "=================================================================================================================\n",
       "\"\"\""
      ]
     },
     "execution_count": 457,
     "metadata": {},
     "output_type": "execute_result"
    }
   ],
   "source": [
    "X_train_sm = sm.add_constant(X_train[col])\n",
    "logm2 = sm.GLM(y_train,X_train_sm,family=sm.families.Binomial())\n",
    "res =logm2.fit()\n",
    "res.summary()"
   ]
  },
  {
   "cell_type": "code",
   "execution_count": 458,
   "id": "904efc0f-4454-410e-8b35-098cf6df8a7d",
   "metadata": {
    "tags": []
   },
   "outputs": [
    {
     "data": {
      "text/plain": [
       "160     0.930122\n",
       "2267    0.076537\n",
       "8895    0.989783\n",
       "854     0.930122\n",
       "3640    0.278278\n",
       "7090    0.010250\n",
       "4366    0.278278\n",
       "6174    0.000935\n",
       "857     0.061374\n",
       "7264    0.061374\n",
       "dtype: float64"
      ]
     },
     "execution_count": 458,
     "metadata": {},
     "output_type": "execute_result"
    }
   ],
   "source": [
    "# Getting the predicted values on the train set\n",
    "y_train_pred = res.predict(X_train_sm)\n",
    "y_train_pred[:10]"
   ]
  },
  {
   "cell_type": "code",
   "execution_count": 459,
   "id": "59b92ae5-8ee8-4fb1-a060-0d1fb2184f6e",
   "metadata": {
    "tags": []
   },
   "outputs": [
    {
     "data": {
      "text/plain": [
       "array([9.30121901e-01, 7.65367250e-02, 9.89783229e-01, 9.30121901e-01,\n",
       "       2.78278119e-01, 1.02497867e-02, 2.78278119e-01, 9.35399562e-04,\n",
       "       6.13738127e-02, 6.13738127e-02])"
      ]
     },
     "execution_count": 459,
     "metadata": {},
     "output_type": "execute_result"
    }
   ],
   "source": [
    "y_train_pred=y_train_pred.values.reshape(-1)\n",
    "y_train_pred[:10]"
   ]
  },
  {
   "cell_type": "markdown",
   "id": "23198ad4-e870-499c-8084-71be41e12431",
   "metadata": {},
   "source": [
    "### Creating a dataframe with actual Conversion and Predicted Conversion pof Leads"
   ]
  },
  {
   "cell_type": "code",
   "execution_count": 460,
   "id": "09c19a34-735a-4707-bb33-0d6989a28851",
   "metadata": {
    "tags": []
   },
   "outputs": [
    {
     "data": {
      "text/html": [
       "<div>\n",
       "<style scoped>\n",
       "    .dataframe tbody tr th:only-of-type {\n",
       "        vertical-align: middle;\n",
       "    }\n",
       "\n",
       "    .dataframe tbody tr th {\n",
       "        vertical-align: top;\n",
       "    }\n",
       "\n",
       "    .dataframe thead th {\n",
       "        text-align: right;\n",
       "    }\n",
       "</style>\n",
       "<table border=\"1\" class=\"dataframe\">\n",
       "  <thead>\n",
       "    <tr style=\"text-align: right;\">\n",
       "      <th></th>\n",
       "      <th>Converted</th>\n",
       "      <th>Converted_prob</th>\n",
       "      <th>Prospect ID</th>\n",
       "    </tr>\n",
       "  </thead>\n",
       "  <tbody>\n",
       "    <tr>\n",
       "      <th>0</th>\n",
       "      <td>1</td>\n",
       "      <td>0.930122</td>\n",
       "      <td>160</td>\n",
       "    </tr>\n",
       "    <tr>\n",
       "      <th>1</th>\n",
       "      <td>0</td>\n",
       "      <td>0.076537</td>\n",
       "      <td>2267</td>\n",
       "    </tr>\n",
       "    <tr>\n",
       "      <th>2</th>\n",
       "      <td>1</td>\n",
       "      <td>0.989783</td>\n",
       "      <td>8895</td>\n",
       "    </tr>\n",
       "    <tr>\n",
       "      <th>3</th>\n",
       "      <td>1</td>\n",
       "      <td>0.930122</td>\n",
       "      <td>854</td>\n",
       "    </tr>\n",
       "    <tr>\n",
       "      <th>4</th>\n",
       "      <td>0</td>\n",
       "      <td>0.278278</td>\n",
       "      <td>3640</td>\n",
       "    </tr>\n",
       "    <tr>\n",
       "      <th>5</th>\n",
       "      <td>0</td>\n",
       "      <td>0.010250</td>\n",
       "      <td>7090</td>\n",
       "    </tr>\n",
       "    <tr>\n",
       "      <th>6</th>\n",
       "      <td>0</td>\n",
       "      <td>0.278278</td>\n",
       "      <td>4366</td>\n",
       "    </tr>\n",
       "    <tr>\n",
       "      <th>7</th>\n",
       "      <td>0</td>\n",
       "      <td>0.000935</td>\n",
       "      <td>6174</td>\n",
       "    </tr>\n",
       "    <tr>\n",
       "      <th>8</th>\n",
       "      <td>0</td>\n",
       "      <td>0.061374</td>\n",
       "      <td>857</td>\n",
       "    </tr>\n",
       "    <tr>\n",
       "      <th>9</th>\n",
       "      <td>0</td>\n",
       "      <td>0.061374</td>\n",
       "      <td>7264</td>\n",
       "    </tr>\n",
       "  </tbody>\n",
       "</table>\n",
       "</div>"
      ],
      "text/plain": [
       "   Converted  Converted_prob  Prospect ID\n",
       "0          1        0.930122          160\n",
       "1          0        0.076537         2267\n",
       "2          1        0.989783         8895\n",
       "3          1        0.930122          854\n",
       "4          0        0.278278         3640\n",
       "5          0        0.010250         7090\n",
       "6          0        0.278278         4366\n",
       "7          0        0.000935         6174\n",
       "8          0        0.061374          857\n",
       "9          0        0.061374         7264"
      ]
     },
     "execution_count": 460,
     "metadata": {},
     "output_type": "execute_result"
    }
   ],
   "source": [
    "y_train_pred_final = pd.DataFrame({'Converted':y_train.values,'Converted_prob':y_train_pred})\n",
    "y_train_pred_final['Prospect ID']=y_train.index\n",
    "y_train_pred_final.head(10)"
   ]
  },
  {
   "cell_type": "markdown",
   "id": "04656969-4289-4736-bee7-03f2addf4998",
   "metadata": {},
   "source": [
    "#### Creating a on new Column Predicted with 1 if Converted_prob > 0.5 else 0"
   ]
  },
  {
   "cell_type": "code",
   "execution_count": 461,
   "id": "643ac580-2e5d-402b-9339-2d542a053eba",
   "metadata": {
    "tags": []
   },
   "outputs": [
    {
     "data": {
      "text/html": [
       "<div>\n",
       "<style scoped>\n",
       "    .dataframe tbody tr th:only-of-type {\n",
       "        vertical-align: middle;\n",
       "    }\n",
       "\n",
       "    .dataframe tbody tr th {\n",
       "        vertical-align: top;\n",
       "    }\n",
       "\n",
       "    .dataframe thead th {\n",
       "        text-align: right;\n",
       "    }\n",
       "</style>\n",
       "<table border=\"1\" class=\"dataframe\">\n",
       "  <thead>\n",
       "    <tr style=\"text-align: right;\">\n",
       "      <th></th>\n",
       "      <th>Converted</th>\n",
       "      <th>Converted_prob</th>\n",
       "      <th>Prospect ID</th>\n",
       "      <th>Predicted</th>\n",
       "    </tr>\n",
       "  </thead>\n",
       "  <tbody>\n",
       "    <tr>\n",
       "      <th>0</th>\n",
       "      <td>1</td>\n",
       "      <td>0.930122</td>\n",
       "      <td>160</td>\n",
       "      <td>1</td>\n",
       "    </tr>\n",
       "    <tr>\n",
       "      <th>1</th>\n",
       "      <td>0</td>\n",
       "      <td>0.076537</td>\n",
       "      <td>2267</td>\n",
       "      <td>0</td>\n",
       "    </tr>\n",
       "    <tr>\n",
       "      <th>2</th>\n",
       "      <td>1</td>\n",
       "      <td>0.989783</td>\n",
       "      <td>8895</td>\n",
       "      <td>1</td>\n",
       "    </tr>\n",
       "    <tr>\n",
       "      <th>3</th>\n",
       "      <td>1</td>\n",
       "      <td>0.930122</td>\n",
       "      <td>854</td>\n",
       "      <td>1</td>\n",
       "    </tr>\n",
       "    <tr>\n",
       "      <th>4</th>\n",
       "      <td>0</td>\n",
       "      <td>0.278278</td>\n",
       "      <td>3640</td>\n",
       "      <td>0</td>\n",
       "    </tr>\n",
       "  </tbody>\n",
       "</table>\n",
       "</div>"
      ],
      "text/plain": [
       "   Converted  Converted_prob  Prospect ID  Predicted\n",
       "0          1        0.930122          160          1\n",
       "1          0        0.076537         2267          0\n",
       "2          1        0.989783         8895          1\n",
       "3          1        0.930122          854          1\n",
       "4          0        0.278278         3640          0"
      ]
     },
     "execution_count": 461,
     "metadata": {},
     "output_type": "execute_result"
    }
   ],
   "source": [
    "y_train_pred_final['Predicted'] = y_train_pred_final.Converted_prob.map(lambda x:1 if x>0.5 else 0)\n",
    "y_train_pred_final.head()"
   ]
  },
  {
   "cell_type": "code",
   "execution_count": 462,
   "id": "38dc9963-bccd-4b35-926c-b1f7cd05a6fe",
   "metadata": {
    "tags": []
   },
   "outputs": [],
   "source": [
    "from sklearn import metrics"
   ]
  },
  {
   "cell_type": "code",
   "execution_count": 463,
   "id": "280cf69c-8aa7-4344-877b-c9a7193ac2a9",
   "metadata": {
    "tags": []
   },
   "outputs": [
    {
     "name": "stdout",
     "output_type": "stream",
     "text": [
      "0.9209257473481196\n"
     ]
    }
   ],
   "source": [
    "print(metrics.accuracy_score(y_train_pred_final.Converted,y_train_pred_final.Predicted))"
   ]
  },
  {
   "cell_type": "code",
   "execution_count": 464,
   "id": "0d719561-f5c4-4cc0-a8db-eca227296349",
   "metadata": {
    "tags": []
   },
   "outputs": [
    {
     "name": "stdout",
     "output_type": "stream",
     "text": [
      "[[4324  171]\n",
      " [ 403 2361]]\n"
     ]
    }
   ],
   "source": [
    "## Confusion Matrix\n",
    "confusion = metrics.confusion_matrix(y_train_pred_final.Converted, y_train_pred_final.Predicted )\n",
    "print(confusion)"
   ]
  },
  {
   "cell_type": "markdown",
   "id": "75934765-6304-40f1-95ec-6db534b68efd",
   "metadata": {},
   "source": [
    "### Checking VIFs"
   ]
  },
  {
   "cell_type": "code",
   "execution_count": 465,
   "id": "a46fc35e-bb2b-4329-9eb8-142aa581d5ab",
   "metadata": {
    "tags": []
   },
   "outputs": [],
   "source": [
    "from statsmodels.stats.outliers_influence import variance_inflation_factor"
   ]
  },
  {
   "cell_type": "code",
   "execution_count": 466,
   "id": "88579ddb-e9e6-4025-854b-243b425f6e21",
   "metadata": {
    "tags": []
   },
   "outputs": [
    {
     "data": {
      "text/html": [
       "<div>\n",
       "<style scoped>\n",
       "    .dataframe tbody tr th:only-of-type {\n",
       "        vertical-align: middle;\n",
       "    }\n",
       "\n",
       "    .dataframe tbody tr th {\n",
       "        vertical-align: top;\n",
       "    }\n",
       "\n",
       "    .dataframe thead th {\n",
       "        text-align: right;\n",
       "    }\n",
       "</style>\n",
       "<table border=\"1\" class=\"dataframe\">\n",
       "  <thead>\n",
       "    <tr style=\"text-align: right;\">\n",
       "      <th></th>\n",
       "      <th>Features</th>\n",
       "      <th>VIF</th>\n",
       "    </tr>\n",
       "  </thead>\n",
       "  <tbody>\n",
       "    <tr>\n",
       "      <th>9</th>\n",
       "      <td>Lead Quality_Not Sure</td>\n",
       "      <td>2.96</td>\n",
       "    </tr>\n",
       "    <tr>\n",
       "      <th>6</th>\n",
       "      <td>Tags_Will revert after reading the email</td>\n",
       "      <td>2.59</td>\n",
       "    </tr>\n",
       "    <tr>\n",
       "      <th>11</th>\n",
       "      <td>Last Notable Activity_Modified</td>\n",
       "      <td>1.67</td>\n",
       "    </tr>\n",
       "    <tr>\n",
       "      <th>1</th>\n",
       "      <td>Last Activity_SMS Sent</td>\n",
       "      <td>1.60</td>\n",
       "    </tr>\n",
       "    <tr>\n",
       "      <th>5</th>\n",
       "      <td>Tags_Ringing</td>\n",
       "      <td>1.51</td>\n",
       "    </tr>\n",
       "    <tr>\n",
       "      <th>2</th>\n",
       "      <td>Tags_Busy</td>\n",
       "      <td>1.11</td>\n",
       "    </tr>\n",
       "    <tr>\n",
       "      <th>10</th>\n",
       "      <td>Lead Quality_Worst</td>\n",
       "      <td>1.11</td>\n",
       "    </tr>\n",
       "    <tr>\n",
       "      <th>8</th>\n",
       "      <td>Tags_switched off</td>\n",
       "      <td>1.10</td>\n",
       "    </tr>\n",
       "    <tr>\n",
       "      <th>3</th>\n",
       "      <td>Tags_Closed by Horizzon</td>\n",
       "      <td>1.06</td>\n",
       "    </tr>\n",
       "    <tr>\n",
       "      <th>12</th>\n",
       "      <td>Last Notable Activity_Olark Chat Conversation</td>\n",
       "      <td>1.06</td>\n",
       "    </tr>\n",
       "    <tr>\n",
       "      <th>4</th>\n",
       "      <td>Tags_Lost to EINS</td>\n",
       "      <td>1.05</td>\n",
       "    </tr>\n",
       "    <tr>\n",
       "      <th>0</th>\n",
       "      <td>Lead Source_Welingak Website</td>\n",
       "      <td>1.04</td>\n",
       "    </tr>\n",
       "    <tr>\n",
       "      <th>7</th>\n",
       "      <td>Tags_invalid number</td>\n",
       "      <td>1.03</td>\n",
       "    </tr>\n",
       "  </tbody>\n",
       "</table>\n",
       "</div>"
      ],
      "text/plain": [
       "                                         Features   VIF\n",
       "9                           Lead Quality_Not Sure  2.96\n",
       "6        Tags_Will revert after reading the email  2.59\n",
       "11                 Last Notable Activity_Modified  1.67\n",
       "1                          Last Activity_SMS Sent  1.60\n",
       "5                                    Tags_Ringing  1.51\n",
       "2                                       Tags_Busy  1.11\n",
       "10                             Lead Quality_Worst  1.11\n",
       "8                               Tags_switched off  1.10\n",
       "3                         Tags_Closed by Horizzon  1.06\n",
       "12  Last Notable Activity_Olark Chat Conversation  1.06\n",
       "4                               Tags_Lost to EINS  1.05\n",
       "0                    Lead Source_Welingak Website  1.04\n",
       "7                             Tags_invalid number  1.03"
      ]
     },
     "execution_count": 466,
     "metadata": {},
     "output_type": "execute_result"
    }
   ],
   "source": [
    "vif=pd.DataFrame()\n",
    "vif['Features'] = X_train[col].columns\n",
    "vif['VIF'] = [variance_inflation_factor(X_train[col].values, i) for i in range(X_train[col].shape[1])]\n",
    "vif['VIF'] = round(vif['VIF'], 2)\n",
    "vif = vif.sort_values(by = \"VIF\", ascending = False)\n",
    "vif"
   ]
  },
  {
   "cell_type": "markdown",
   "id": "6ee4afd5-89d1-427b-8b79-b381b74cdda7",
   "metadata": {},
   "source": [
    "All have good VIF but Tags_invalid number has High P-value so we will drop that"
   ]
  },
  {
   "cell_type": "code",
   "execution_count": 467,
   "id": "13da42cf-6a23-4658-af2a-9008b3f84a2e",
   "metadata": {
    "tags": []
   },
   "outputs": [],
   "source": [
    "col = col.drop('Tags_invalid number',1)"
   ]
  },
  {
   "cell_type": "markdown",
   "id": "18fd911b-cd66-4e25-aced-23c151c5a62f",
   "metadata": {},
   "source": [
    "After droping the 'Tags_invalid number'column we will again we have to do the process with the selected columns"
   ]
  },
  {
   "cell_type": "code",
   "execution_count": 468,
   "id": "7ad2b681-996c-4f1b-9e6b-405debb82ad5",
   "metadata": {
    "tags": []
   },
   "outputs": [
    {
     "data": {
      "text/html": [
       "<table class=\"simpletable\">\n",
       "<caption>Generalized Linear Model Regression Results</caption>\n",
       "<tr>\n",
       "  <th>Dep. Variable:</th>       <td>Converted</td>    <th>  No. Observations:  </th>  <td>  7259</td> \n",
       "</tr>\n",
       "<tr>\n",
       "  <th>Model:</th>                  <td>GLM</td>       <th>  Df Residuals:      </th>  <td>  7246</td> \n",
       "</tr>\n",
       "<tr>\n",
       "  <th>Model Family:</th>        <td>Binomial</td>     <th>  Df Model:          </th>  <td>    12</td> \n",
       "</tr>\n",
       "<tr>\n",
       "  <th>Link Function:</th>         <td>Logit</td>      <th>  Scale:             </th> <td>  1.0000</td>\n",
       "</tr>\n",
       "<tr>\n",
       "  <th>Method:</th>                <td>IRLS</td>       <th>  Log-Likelihood:    </th> <td> -1805.2</td>\n",
       "</tr>\n",
       "<tr>\n",
       "  <th>Date:</th>            <td>Mon, 29 Apr 2024</td> <th>  Deviance:          </th> <td>  3610.3</td>\n",
       "</tr>\n",
       "<tr>\n",
       "  <th>Time:</th>                <td>22:14:46</td>     <th>  Pearson chi2:      </th> <td>3.46e+04</td>\n",
       "</tr>\n",
       "<tr>\n",
       "  <th>No. Iterations:</th>          <td>8</td>        <th>  Pseudo R-squ. (CS):</th>  <td>0.5646</td> \n",
       "</tr>\n",
       "<tr>\n",
       "  <th>Covariance Type:</th>     <td>nonrobust</td>    <th>                     </th>     <td> </td>   \n",
       "</tr>\n",
       "</table>\n",
       "<table class=\"simpletable\">\n",
       "<tr>\n",
       "                        <td></td>                           <th>coef</th>     <th>std err</th>      <th>z</th>      <th>P>|z|</th>  <th>[0.025</th>    <th>0.975]</th>  \n",
       "</tr>\n",
       "<tr>\n",
       "  <th>const</th>                                         <td>   -1.2970</td> <td>    0.201</td> <td>   -6.462</td> <td> 0.000</td> <td>   -1.690</td> <td>   -0.904</td>\n",
       "</tr>\n",
       "<tr>\n",
       "  <th>Lead Source_Welingak Website</th>                  <td>    4.0848</td> <td>    0.734</td> <td>    5.564</td> <td> 0.000</td> <td>    2.646</td> <td>    5.524</td>\n",
       "</tr>\n",
       "<tr>\n",
       "  <th>Last Activity_SMS Sent</th>                        <td>    1.9619</td> <td>    0.095</td> <td>   20.757</td> <td> 0.000</td> <td>    1.777</td> <td>    2.147</td>\n",
       "</tr>\n",
       "<tr>\n",
       "  <th>Tags_Busy</th>                                     <td>    3.7453</td> <td>    0.301</td> <td>   12.457</td> <td> 0.000</td> <td>    3.156</td> <td>    4.335</td>\n",
       "</tr>\n",
       "<tr>\n",
       "  <th>Tags_Closed by Horizzon</th>                       <td>    8.9650</td> <td>    0.764</td> <td>   11.734</td> <td> 0.000</td> <td>    7.468</td> <td>   10.462</td>\n",
       "</tr>\n",
       "<tr>\n",
       "  <th>Tags_Lost to EINS</th>                             <td>    9.3867</td> <td>    0.640</td> <td>   14.662</td> <td> 0.000</td> <td>    8.132</td> <td>   10.641</td>\n",
       "</tr>\n",
       "<tr>\n",
       "  <th>Tags_Ringing</th>                                  <td>   -1.6980</td> <td>    0.301</td> <td>   -5.643</td> <td> 0.000</td> <td>   -2.288</td> <td>   -1.108</td>\n",
       "</tr>\n",
       "<tr>\n",
       "  <th>Tags_Will revert after reading the email</th>      <td>    3.8866</td> <td>    0.215</td> <td>   18.098</td> <td> 0.000</td> <td>    3.466</td> <td>    4.308</td>\n",
       "</tr>\n",
       "<tr>\n",
       "  <th>Tags_switched off</th>                             <td>   -2.5469</td> <td>    0.571</td> <td>   -4.464</td> <td> 0.000</td> <td>   -3.665</td> <td>   -1.429</td>\n",
       "</tr>\n",
       "<tr>\n",
       "  <th>Lead Quality_Not Sure</th>                         <td>   -3.5376</td> <td>    0.119</td> <td>  -29.625</td> <td> 0.000</td> <td>   -3.772</td> <td>   -3.304</td>\n",
       "</tr>\n",
       "<tr>\n",
       "  <th>Lead Quality_Worst</th>                            <td>   -4.0899</td> <td>    0.730</td> <td>   -5.599</td> <td> 0.000</td> <td>   -5.522</td> <td>   -2.658</td>\n",
       "</tr>\n",
       "<tr>\n",
       "  <th>Last Notable Activity_Modified</th>                <td>   -1.7644</td> <td>    0.099</td> <td>  -17.855</td> <td> 0.000</td> <td>   -1.958</td> <td>   -1.571</td>\n",
       "</tr>\n",
       "<tr>\n",
       "  <th>Last Notable Activity_Olark Chat Conversation</th> <td>   -1.5391</td> <td>    0.351</td> <td>   -4.386</td> <td> 0.000</td> <td>   -2.227</td> <td>   -0.851</td>\n",
       "</tr>\n",
       "</table>"
      ],
      "text/latex": [
       "\\begin{center}\n",
       "\\begin{tabular}{lclc}\n",
       "\\toprule\n",
       "\\textbf{Dep. Variable:}                                 &    Converted     & \\textbf{  No. Observations:  } &     7259    \\\\\n",
       "\\textbf{Model:}                                         &       GLM        & \\textbf{  Df Residuals:      } &     7246    \\\\\n",
       "\\textbf{Model Family:}                                  &     Binomial     & \\textbf{  Df Model:          } &       12    \\\\\n",
       "\\textbf{Link Function:}                                 &      Logit       & \\textbf{  Scale:             } &    1.0000   \\\\\n",
       "\\textbf{Method:}                                        &       IRLS       & \\textbf{  Log-Likelihood:    } &   -1805.2   \\\\\n",
       "\\textbf{Date:}                                          & Mon, 29 Apr 2024 & \\textbf{  Deviance:          } &    3610.3   \\\\\n",
       "\\textbf{Time:}                                          &     22:14:46     & \\textbf{  Pearson chi2:      } &  3.46e+04   \\\\\n",
       "\\textbf{No. Iterations:}                                &        8         & \\textbf{  Pseudo R-squ. (CS):} &   0.5646    \\\\\n",
       "\\textbf{Covariance Type:}                               &    nonrobust     & \\textbf{                     } &             \\\\\n",
       "\\bottomrule\n",
       "\\end{tabular}\n",
       "\\begin{tabular}{lcccccc}\n",
       "                                                        & \\textbf{coef} & \\textbf{std err} & \\textbf{z} & \\textbf{P$> |$z$|$} & \\textbf{[0.025} & \\textbf{0.975]}  \\\\\n",
       "\\midrule\n",
       "\\textbf{const}                                          &      -1.2970  &        0.201     &    -6.462  &         0.000        &       -1.690    &       -0.904     \\\\\n",
       "\\textbf{Lead Source\\_Welingak Website}                  &       4.0848  &        0.734     &     5.564  &         0.000        &        2.646    &        5.524     \\\\\n",
       "\\textbf{Last Activity\\_SMS Sent}                        &       1.9619  &        0.095     &    20.757  &         0.000        &        1.777    &        2.147     \\\\\n",
       "\\textbf{Tags\\_Busy}                                     &       3.7453  &        0.301     &    12.457  &         0.000        &        3.156    &        4.335     \\\\\n",
       "\\textbf{Tags\\_Closed by Horizzon}                       &       8.9650  &        0.764     &    11.734  &         0.000        &        7.468    &       10.462     \\\\\n",
       "\\textbf{Tags\\_Lost to EINS}                             &       9.3867  &        0.640     &    14.662  &         0.000        &        8.132    &       10.641     \\\\\n",
       "\\textbf{Tags\\_Ringing}                                  &      -1.6980  &        0.301     &    -5.643  &         0.000        &       -2.288    &       -1.108     \\\\\n",
       "\\textbf{Tags\\_Will revert after reading the email}      &       3.8866  &        0.215     &    18.098  &         0.000        &        3.466    &        4.308     \\\\\n",
       "\\textbf{Tags\\_switched off}                             &      -2.5469  &        0.571     &    -4.464  &         0.000        &       -3.665    &       -1.429     \\\\\n",
       "\\textbf{Lead Quality\\_Not Sure}                         &      -3.5376  &        0.119     &   -29.625  &         0.000        &       -3.772    &       -3.304     \\\\\n",
       "\\textbf{Lead Quality\\_Worst}                            &      -4.0899  &        0.730     &    -5.599  &         0.000        &       -5.522    &       -2.658     \\\\\n",
       "\\textbf{Last Notable Activity\\_Modified}                &      -1.7644  &        0.099     &   -17.855  &         0.000        &       -1.958    &       -1.571     \\\\\n",
       "\\textbf{Last Notable Activity\\_Olark Chat Conversation} &      -1.5391  &        0.351     &    -4.386  &         0.000        &       -2.227    &       -0.851     \\\\\n",
       "\\bottomrule\n",
       "\\end{tabular}\n",
       "%\\caption{Generalized Linear Model Regression Results}\n",
       "\\end{center}"
      ],
      "text/plain": [
       "<class 'statsmodels.iolib.summary.Summary'>\n",
       "\"\"\"\n",
       "                 Generalized Linear Model Regression Results                  \n",
       "==============================================================================\n",
       "Dep. Variable:              Converted   No. Observations:                 7259\n",
       "Model:                            GLM   Df Residuals:                     7246\n",
       "Model Family:                Binomial   Df Model:                           12\n",
       "Link Function:                  Logit   Scale:                          1.0000\n",
       "Method:                          IRLS   Log-Likelihood:                -1805.2\n",
       "Date:                Mon, 29 Apr 2024   Deviance:                       3610.3\n",
       "Time:                        22:14:46   Pearson chi2:                 3.46e+04\n",
       "No. Iterations:                     8   Pseudo R-squ. (CS):             0.5646\n",
       "Covariance Type:            nonrobust                                         \n",
       "=================================================================================================================\n",
       "                                                    coef    std err          z      P>|z|      [0.025      0.975]\n",
       "-----------------------------------------------------------------------------------------------------------------\n",
       "const                                            -1.2970      0.201     -6.462      0.000      -1.690      -0.904\n",
       "Lead Source_Welingak Website                      4.0848      0.734      5.564      0.000       2.646       5.524\n",
       "Last Activity_SMS Sent                            1.9619      0.095     20.757      0.000       1.777       2.147\n",
       "Tags_Busy                                         3.7453      0.301     12.457      0.000       3.156       4.335\n",
       "Tags_Closed by Horizzon                           8.9650      0.764     11.734      0.000       7.468      10.462\n",
       "Tags_Lost to EINS                                 9.3867      0.640     14.662      0.000       8.132      10.641\n",
       "Tags_Ringing                                     -1.6980      0.301     -5.643      0.000      -2.288      -1.108\n",
       "Tags_Will revert after reading the email          3.8866      0.215     18.098      0.000       3.466       4.308\n",
       "Tags_switched off                                -2.5469      0.571     -4.464      0.000      -3.665      -1.429\n",
       "Lead Quality_Not Sure                            -3.5376      0.119    -29.625      0.000      -3.772      -3.304\n",
       "Lead Quality_Worst                               -4.0899      0.730     -5.599      0.000      -5.522      -2.658\n",
       "Last Notable Activity_Modified                   -1.7644      0.099    -17.855      0.000      -1.958      -1.571\n",
       "Last Notable Activity_Olark Chat Conversation    -1.5391      0.351     -4.386      0.000      -2.227      -0.851\n",
       "=================================================================================================================\n",
       "\"\"\""
      ]
     },
     "execution_count": 468,
     "metadata": {},
     "output_type": "execute_result"
    }
   ],
   "source": [
    "## Lets re run the model\n",
    "X_train_sm = sm.add_constant(X_train[col])\n",
    "logm3 = sm.GLM(y_train,X_train_sm, family = sm.families.Binomial())\n",
    "res = logm3.fit()\n",
    "res.summary()"
   ]
  },
  {
   "cell_type": "code",
   "execution_count": 469,
   "id": "6e9d72f6-af5e-4eb3-92c5-811ad465bd01",
   "metadata": {
    "tags": []
   },
   "outputs": [],
   "source": [
    "y_train_pred = res.predict(X_train_sm).values.reshape(-1)"
   ]
  },
  {
   "cell_type": "code",
   "execution_count": 470,
   "id": "544b262a-f142-4054-abdc-d0f7236cf365",
   "metadata": {
    "tags": []
   },
   "outputs": [
    {
     "data": {
      "text/plain": [
       "array([9.30192414e-01, 7.67707161e-02, 9.89558997e-01, 9.30192414e-01,\n",
       "       2.79289199e-01, 1.02439951e-02, 2.79289199e-01, 7.83254119e-04,\n",
       "       6.22459473e-02, 6.22459473e-02])"
      ]
     },
     "execution_count": 470,
     "metadata": {},
     "output_type": "execute_result"
    }
   ],
   "source": [
    "y_train_pred[:10]"
   ]
  },
  {
   "cell_type": "code",
   "execution_count": 471,
   "id": "a92a9fd0-7810-4973-8f44-4f58e8d1d113",
   "metadata": {
    "tags": []
   },
   "outputs": [],
   "source": [
    "y_train_pred_final['Converted_prob'] = y_train_pred"
   ]
  },
  {
   "cell_type": "code",
   "execution_count": 472,
   "id": "1db29d57-7c63-411c-a2e1-8bf109a83137",
   "metadata": {
    "tags": []
   },
   "outputs": [
    {
     "data": {
      "text/html": [
       "<div>\n",
       "<style scoped>\n",
       "    .dataframe tbody tr th:only-of-type {\n",
       "        vertical-align: middle;\n",
       "    }\n",
       "\n",
       "    .dataframe tbody tr th {\n",
       "        vertical-align: top;\n",
       "    }\n",
       "\n",
       "    .dataframe thead th {\n",
       "        text-align: right;\n",
       "    }\n",
       "</style>\n",
       "<table border=\"1\" class=\"dataframe\">\n",
       "  <thead>\n",
       "    <tr style=\"text-align: right;\">\n",
       "      <th></th>\n",
       "      <th>Converted</th>\n",
       "      <th>Converted_prob</th>\n",
       "      <th>Prospect ID</th>\n",
       "      <th>Predicted</th>\n",
       "    </tr>\n",
       "  </thead>\n",
       "  <tbody>\n",
       "    <tr>\n",
       "      <th>0</th>\n",
       "      <td>1</td>\n",
       "      <td>0.930192</td>\n",
       "      <td>160</td>\n",
       "      <td>1</td>\n",
       "    </tr>\n",
       "    <tr>\n",
       "      <th>1</th>\n",
       "      <td>0</td>\n",
       "      <td>0.076771</td>\n",
       "      <td>2267</td>\n",
       "      <td>0</td>\n",
       "    </tr>\n",
       "    <tr>\n",
       "      <th>2</th>\n",
       "      <td>1</td>\n",
       "      <td>0.989559</td>\n",
       "      <td>8895</td>\n",
       "      <td>1</td>\n",
       "    </tr>\n",
       "    <tr>\n",
       "      <th>3</th>\n",
       "      <td>1</td>\n",
       "      <td>0.930192</td>\n",
       "      <td>854</td>\n",
       "      <td>1</td>\n",
       "    </tr>\n",
       "    <tr>\n",
       "      <th>4</th>\n",
       "      <td>0</td>\n",
       "      <td>0.279289</td>\n",
       "      <td>3640</td>\n",
       "      <td>0</td>\n",
       "    </tr>\n",
       "  </tbody>\n",
       "</table>\n",
       "</div>"
      ],
      "text/plain": [
       "   Converted  Converted_prob  Prospect ID  Predicted\n",
       "0          1        0.930192          160          1\n",
       "1          0        0.076771         2267          0\n",
       "2          1        0.989559         8895          1\n",
       "3          1        0.930192          854          1\n",
       "4          0        0.279289         3640          0"
      ]
     },
     "execution_count": 472,
     "metadata": {},
     "output_type": "execute_result"
    }
   ],
   "source": [
    "# Creating new column 'predicted' with 1 if Churn_Prob > 0.5 else 0\n",
    "y_train_pred_final['Predicted'] = y_train_pred_final.Converted_prob.map(lambda x: 1 if x > 0.5 else 0)\n",
    "y_train_pred_final.head()"
   ]
  },
  {
   "cell_type": "code",
   "execution_count": 473,
   "id": "df92373c-d6a8-47a8-8031-018dc4239add",
   "metadata": {
    "tags": []
   },
   "outputs": [
    {
     "name": "stdout",
     "output_type": "stream",
     "text": [
      "0.9203747072599532\n"
     ]
    }
   ],
   "source": [
    "print(metrics.accuracy_score(y_train_pred_final.Converted,y_train_pred_final.Predicted))"
   ]
  },
  {
   "cell_type": "code",
   "execution_count": 474,
   "id": "46d4fdfc-dcc2-42d6-bd32-0559b514da76",
   "metadata": {
    "tags": []
   },
   "outputs": [
    {
     "data": {
      "text/html": [
       "<div>\n",
       "<style scoped>\n",
       "    .dataframe tbody tr th:only-of-type {\n",
       "        vertical-align: middle;\n",
       "    }\n",
       "\n",
       "    .dataframe tbody tr th {\n",
       "        vertical-align: top;\n",
       "    }\n",
       "\n",
       "    .dataframe thead th {\n",
       "        text-align: right;\n",
       "    }\n",
       "</style>\n",
       "<table border=\"1\" class=\"dataframe\">\n",
       "  <thead>\n",
       "    <tr style=\"text-align: right;\">\n",
       "      <th></th>\n",
       "      <th>Features</th>\n",
       "      <th>VIF</th>\n",
       "    </tr>\n",
       "  </thead>\n",
       "  <tbody>\n",
       "    <tr>\n",
       "      <th>8</th>\n",
       "      <td>Lead Quality_Not Sure</td>\n",
       "      <td>2.89</td>\n",
       "    </tr>\n",
       "    <tr>\n",
       "      <th>6</th>\n",
       "      <td>Tags_Will revert after reading the email</td>\n",
       "      <td>2.55</td>\n",
       "    </tr>\n",
       "    <tr>\n",
       "      <th>10</th>\n",
       "      <td>Last Notable Activity_Modified</td>\n",
       "      <td>1.66</td>\n",
       "    </tr>\n",
       "    <tr>\n",
       "      <th>1</th>\n",
       "      <td>Last Activity_SMS Sent</td>\n",
       "      <td>1.59</td>\n",
       "    </tr>\n",
       "    <tr>\n",
       "      <th>5</th>\n",
       "      <td>Tags_Ringing</td>\n",
       "      <td>1.50</td>\n",
       "    </tr>\n",
       "    <tr>\n",
       "      <th>2</th>\n",
       "      <td>Tags_Busy</td>\n",
       "      <td>1.11</td>\n",
       "    </tr>\n",
       "    <tr>\n",
       "      <th>9</th>\n",
       "      <td>Lead Quality_Worst</td>\n",
       "      <td>1.11</td>\n",
       "    </tr>\n",
       "    <tr>\n",
       "      <th>7</th>\n",
       "      <td>Tags_switched off</td>\n",
       "      <td>1.09</td>\n",
       "    </tr>\n",
       "    <tr>\n",
       "      <th>3</th>\n",
       "      <td>Tags_Closed by Horizzon</td>\n",
       "      <td>1.06</td>\n",
       "    </tr>\n",
       "    <tr>\n",
       "      <th>11</th>\n",
       "      <td>Last Notable Activity_Olark Chat Conversation</td>\n",
       "      <td>1.06</td>\n",
       "    </tr>\n",
       "    <tr>\n",
       "      <th>4</th>\n",
       "      <td>Tags_Lost to EINS</td>\n",
       "      <td>1.05</td>\n",
       "    </tr>\n",
       "    <tr>\n",
       "      <th>0</th>\n",
       "      <td>Lead Source_Welingak Website</td>\n",
       "      <td>1.04</td>\n",
       "    </tr>\n",
       "  </tbody>\n",
       "</table>\n",
       "</div>"
      ],
      "text/plain": [
       "                                         Features   VIF\n",
       "8                           Lead Quality_Not Sure  2.89\n",
       "6        Tags_Will revert after reading the email  2.55\n",
       "10                 Last Notable Activity_Modified  1.66\n",
       "1                          Last Activity_SMS Sent  1.59\n",
       "5                                    Tags_Ringing  1.50\n",
       "2                                       Tags_Busy  1.11\n",
       "9                              Lead Quality_Worst  1.11\n",
       "7                               Tags_switched off  1.09\n",
       "3                         Tags_Closed by Horizzon  1.06\n",
       "11  Last Notable Activity_Olark Chat Conversation  1.06\n",
       "4                               Tags_Lost to EINS  1.05\n",
       "0                    Lead Source_Welingak Website  1.04"
      ]
     },
     "execution_count": 474,
     "metadata": {},
     "output_type": "execute_result"
    }
   ],
   "source": [
    "##Lets check the VIF Again\n",
    "vif=pd.DataFrame()\n",
    "vif['Features'] = X_train[col].columns\n",
    "vif['VIF'] = [variance_inflation_factor(X_train[col].values, i) for i in range(X_train[col].shape[1])]\n",
    "vif['VIF'] = round(vif['VIF'], 2)\n",
    "vif = vif.sort_values(by = \"VIF\", ascending = False)\n",
    "vif"
   ]
  },
  {
   "cell_type": "code",
   "execution_count": 475,
   "id": "fce9a18c-7943-4b4a-9612-0580cf95975b",
   "metadata": {
    "tags": []
   },
   "outputs": [
    {
     "name": "stdout",
     "output_type": "stream",
     "text": [
      "[[4320  175]\n",
      " [ 403 2361]]\n"
     ]
    }
   ],
   "source": [
    "confusion = metrics.confusion_matrix(y_train_pred_final.Converted, y_train_pred_final.Predicted )\n",
    "print(confusion)"
   ]
  },
  {
   "cell_type": "code",
   "execution_count": 476,
   "id": "4cdccaf0-4749-40e3-869c-b409fd211003",
   "metadata": {
    "tags": []
   },
   "outputs": [
    {
     "data": {
      "text/plain": [
       "0.9203747072599532"
      ]
     },
     "execution_count": 476,
     "metadata": {},
     "output_type": "execute_result"
    }
   ],
   "source": [
    "metrics.accuracy_score(y_train_pred_final.Converted,y_train_pred_final.Predicted)"
   ]
  },
  {
   "cell_type": "markdown",
   "id": "440d35b2-854c-4246-bcbb-e009df598ca0",
   "metadata": {},
   "source": [
    "#### The Accuracy Score is almost same"
   ]
  },
  {
   "cell_type": "markdown",
   "id": "688f168e-78d7-4eca-839a-a6b0f512cfd7",
   "metadata": {},
   "source": [
    "## Matrix Beyond Simple Accuracy"
   ]
  },
  {
   "cell_type": "code",
   "execution_count": 477,
   "id": "1f427885-dfbc-4276-943a-0103787f9414",
   "metadata": {
    "tags": []
   },
   "outputs": [],
   "source": [
    "TP = confusion[1,1] # True Positive\n",
    "TN = confusion[0,0] # True Negative\n",
    "FP = confusion[0,1] # False Positive\n",
    "FN = confusion[1,0] # False Negative"
   ]
  },
  {
   "cell_type": "code",
   "execution_count": 478,
   "id": "e106d3f4-d22e-406e-aafc-2af0c66029d6",
   "metadata": {
    "tags": []
   },
   "outputs": [
    {
     "name": "stdout",
     "output_type": "stream",
     "text": [
      "Sensitivty:0.8541968162083936\n"
     ]
    }
   ],
   "source": [
    "## Sensitivity of the model\n",
    "print(f'Sensitivty:{TP/float(TP+FN)}')"
   ]
  },
  {
   "cell_type": "code",
   "execution_count": 479,
   "id": "315fe516-9c81-4015-bf50-72d3f57535c6",
   "metadata": {
    "tags": []
   },
   "outputs": [
    {
     "name": "stdout",
     "output_type": "stream",
     "text": [
      "Specificity:0.9610678531701891\n"
     ]
    }
   ],
   "source": [
    "## Specificity of the model\n",
    "print(f'Specificity:{TN/float(TN+FP)}')"
   ]
  },
  {
   "cell_type": "code",
   "execution_count": 480,
   "id": "cecee5a6-5709-4d61-9d82-e67ba895cbd0",
   "metadata": {
    "tags": []
   },
   "outputs": [
    {
     "name": "stdout",
     "output_type": "stream",
     "text": [
      "False Positive Rate :0.0389321468298109\n"
     ]
    }
   ],
   "source": [
    "## False Positive Rate of the model\n",
    "print(f'False Positive Rate :{FP/float(TN+FP)}')"
   ]
  },
  {
   "cell_type": "code",
   "execution_count": 481,
   "id": "e20a8613-3679-457a-b849-24ecada77efd",
   "metadata": {
    "tags": []
   },
   "outputs": [
    {
     "name": "stdout",
     "output_type": "stream",
     "text": [
      "Positive Predictive value:0.930993690851735\n"
     ]
    }
   ],
   "source": [
    "# Positive predictive value \n",
    "print (f'Positive Predictive value:{TP / float(TP+FP)}')"
   ]
  },
  {
   "cell_type": "code",
   "execution_count": 482,
   "id": "cd1cabb7-470a-42ca-82e5-1518d28e4a26",
   "metadata": {
    "tags": []
   },
   "outputs": [
    {
     "name": "stdout",
     "output_type": "stream",
     "text": [
      "0.9146728774084268\n"
     ]
    }
   ],
   "source": [
    "# Negative predictive value\n",
    "print (TN / float(TN+ FN))"
   ]
  },
  {
   "cell_type": "markdown",
   "id": "06218e40-6a01-45df-bf13-544d81ba6059",
   "metadata": {
    "tags": []
   },
   "source": [
    "## Step 11 : Creating ROC Curve"
   ]
  },
  {
   "cell_type": "markdown",
   "id": "9c6b6f6e-025c-4c4b-be22-b5a971c8d995",
   "metadata": {},
   "source": [
    "An ROC curve demonstrates several things:\n",
    "\n",
    "- It shows the tradeoff between sensitivity and specificity (any increase in sensitivity will be accompanied by a decrease in specificity).\n",
    "- The closer the curve follows the left-hand border and then the top border of the ROC space, the more accurate the test.\n",
    "- The closer the curve comes to the 45-degree diagonal of the ROC space, the less accurate the test."
   ]
  },
  {
   "cell_type": "code",
   "execution_count": 483,
   "id": "3f9bda00-2d4d-4ae1-a6c8-9c9f758a3c1d",
   "metadata": {
    "tags": []
   },
   "outputs": [],
   "source": [
    "def draw_roc( actual, probs ):\n",
    "    fpr, tpr, thresholds = metrics.roc_curve( actual, probs,\n",
    "                                              drop_intermediate = False )\n",
    "    auc_score = metrics.roc_auc_score( actual, probs )\n",
    "    plt.figure(figsize=(5, 5))\n",
    "    plt.plot( fpr, tpr, label='ROC curve (area = %0.2f)' % auc_score )\n",
    "    plt.plot([0, 1], [0, 1], 'k--')\n",
    "    plt.xlim([0.0, 1.0])\n",
    "    plt.ylim([0.0, 1.05])\n",
    "    plt.xlabel('False Positive Rate')\n",
    "    plt.ylabel('True Positive Rate')\n",
    "    plt.title('Receiver Operating Characteristic')\n",
    "    plt.legend(loc=\"lower right\")\n",
    "    plt.show()\n",
    "\n",
    "    return None"
   ]
  },
  {
   "cell_type": "code",
   "execution_count": 484,
   "id": "1bebee2d-a795-4ba0-b172-06ecedfdd25d",
   "metadata": {
    "tags": []
   },
   "outputs": [],
   "source": [
    "fpr, tpr, thresholds = metrics.roc_curve( y_train_pred_final.Converted, y_train_pred_final.Converted_prob, drop_intermediate = False )"
   ]
  },
  {
   "cell_type": "code",
   "execution_count": 485,
   "id": "308a0818-3177-409e-a37b-27f0cdf767ec",
   "metadata": {
    "tags": []
   },
   "outputs": [
    {
     "data": {
      "image/png": "[encoded data removed]",
      "text/plain": [
       "<Figure size 500x500 with 1 Axes>"
      ]
     },
     "metadata": {},
     "output_type": "display_data"
    }
   ],
   "source": [
    "draw_roc(y_train_pred_final.Converted, y_train_pred_final.Converted_prob)"
   ]
  },
  {
   "cell_type": "markdown",
   "id": "83a12dff-1b87-42b3-93d5-fef7a16e2e10",
   "metadata": {},
   "source": [
    "### Step 12: Finding the Optimal Cut-off value"
   ]
  },
  {
   "cell_type": "code",
   "execution_count": 486,
   "id": "4784ba1d-7326-40b3-b61b-ff1ea32bd44d",
   "metadata": {
    "tags": []
   },
   "outputs": [
    {
     "data": {
      "text/html": [
       "<div>\n",
       "<style scoped>\n",
       "    .dataframe tbody tr th:only-of-type {\n",
       "        vertical-align: middle;\n",
       "    }\n",
       "\n",
       "    .dataframe tbody tr th {\n",
       "        vertical-align: top;\n",
       "    }\n",
       "\n",
       "    .dataframe thead th {\n",
       "        text-align: right;\n",
       "    }\n",
       "</style>\n",
       "<table border=\"1\" class=\"dataframe\">\n",
       "  <thead>\n",
       "    <tr style=\"text-align: right;\">\n",
       "      <th></th>\n",
       "      <th>Converted</th>\n",
       "      <th>Converted_prob</th>\n",
       "      <th>Prospect ID</th>\n",
       "      <th>Predicted</th>\n",
       "      <th>0.0</th>\n",
       "      <th>0.1</th>\n",
       "      <th>0.2</th>\n",
       "      <th>0.3</th>\n",
       "      <th>0.4</th>\n",
       "      <th>0.5</th>\n",
       "      <th>0.6</th>\n",
       "      <th>0.7</th>\n",
       "      <th>0.8</th>\n",
       "      <th>0.9</th>\n",
       "    </tr>\n",
       "  </thead>\n",
       "  <tbody>\n",
       "    <tr>\n",
       "      <th>0</th>\n",
       "      <td>1</td>\n",
       "      <td>0.930192</td>\n",
       "      <td>160</td>\n",
       "      <td>1</td>\n",
       "      <td>1</td>\n",
       "      <td>1</td>\n",
       "      <td>1</td>\n",
       "      <td>1</td>\n",
       "      <td>1</td>\n",
       "      <td>1</td>\n",
       "      <td>1</td>\n",
       "      <td>1</td>\n",
       "      <td>1</td>\n",
       "      <td>1</td>\n",
       "    </tr>\n",
       "    <tr>\n",
       "      <th>1</th>\n",
       "      <td>0</td>\n",
       "      <td>0.076771</td>\n",
       "      <td>2267</td>\n",
       "      <td>0</td>\n",
       "      <td>1</td>\n",
       "      <td>0</td>\n",
       "      <td>0</td>\n",
       "      <td>0</td>\n",
       "      <td>0</td>\n",
       "      <td>0</td>\n",
       "      <td>0</td>\n",
       "      <td>0</td>\n",
       "      <td>0</td>\n",
       "      <td>0</td>\n",
       "    </tr>\n",
       "    <tr>\n",
       "      <th>2</th>\n",
       "      <td>1</td>\n",
       "      <td>0.989559</td>\n",
       "      <td>8895</td>\n",
       "      <td>1</td>\n",
       "      <td>1</td>\n",
       "      <td>1</td>\n",
       "      <td>1</td>\n",
       "      <td>1</td>\n",
       "      <td>1</td>\n",
       "      <td>1</td>\n",
       "      <td>1</td>\n",
       "      <td>1</td>\n",
       "      <td>1</td>\n",
       "      <td>1</td>\n",
       "    </tr>\n",
       "    <tr>\n",
       "      <th>3</th>\n",
       "      <td>1</td>\n",
       "      <td>0.930192</td>\n",
       "      <td>854</td>\n",
       "      <td>1</td>\n",
       "      <td>1</td>\n",
       "      <td>1</td>\n",
       "      <td>1</td>\n",
       "      <td>1</td>\n",
       "      <td>1</td>\n",
       "      <td>1</td>\n",
       "      <td>1</td>\n",
       "      <td>1</td>\n",
       "      <td>1</td>\n",
       "      <td>1</td>\n",
       "    </tr>\n",
       "    <tr>\n",
       "      <th>4</th>\n",
       "      <td>0</td>\n",
       "      <td>0.279289</td>\n",
       "      <td>3640</td>\n",
       "      <td>0</td>\n",
       "      <td>1</td>\n",
       "      <td>1</td>\n",
       "      <td>1</td>\n",
       "      <td>0</td>\n",
       "      <td>0</td>\n",
       "      <td>0</td>\n",
       "      <td>0</td>\n",
       "      <td>0</td>\n",
       "      <td>0</td>\n",
       "      <td>0</td>\n",
       "    </tr>\n",
       "  </tbody>\n",
       "</table>\n",
       "</div>"
      ],
      "text/plain": [
       "   Converted  Converted_prob  Prospect ID  Predicted  0.0  0.1  0.2  0.3  0.4  \\\n",
       "0          1        0.930192          160          1    1    1    1    1    1   \n",
       "1          0        0.076771         2267          0    1    0    0    0    0   \n",
       "2          1        0.989559         8895          1    1    1    1    1    1   \n",
       "3          1        0.930192          854          1    1    1    1    1    1   \n",
       "4          0        0.279289         3640          0    1    1    1    0    0   \n",
       "\n",
       "   0.5  0.6  0.7  0.8  0.9  \n",
       "0    1    1    1    1    1  \n",
       "1    0    0    0    0    0  \n",
       "2    1    1    1    1    1  \n",
       "3    1    1    1    1    1  \n",
       "4    0    0    0    0    0  "
      ]
     },
     "execution_count": 486,
     "metadata": {},
     "output_type": "execute_result"
    }
   ],
   "source": [
    "for i in [float(x)/10 for x in range(10)]:\n",
    "    y_train_pred_final[i]= y_train_pred_final.Converted_prob.map(lambda x: 1 if x > i else 0)\n",
    "y_train_pred_final.head()"
   ]
  },
  {
   "cell_type": "code",
   "execution_count": 487,
   "id": "555995dc-6627-40ca-a761-f8d52b38fb70",
   "metadata": {
    "tags": []
   },
   "outputs": [
    {
     "name": "stdout",
     "output_type": "stream",
     "text": [
      "     prob  accuracy     sensi     speci\n",
      "0.0   0.0  0.380769  1.000000  0.000000\n",
      "0.1   0.1  0.804519  0.959479  0.709232\n",
      "0.2   0.2  0.807963  0.959117  0.715017\n",
      "0.3   0.3  0.902053  0.868669  0.922581\n",
      "0.4   0.4  0.920375  0.854197  0.961068\n",
      "0.5   0.5  0.920375  0.854197  0.961068\n",
      "0.6   0.6  0.920375  0.854197  0.961068\n",
      "0.7   0.7  0.905772  0.806802  0.966630\n",
      "0.8   0.8  0.860862  0.651592  0.989544\n",
      "0.9   0.9  0.860862  0.651592  0.989544\n"
     ]
    }
   ],
   "source": [
    "cutoff_df = pd.DataFrame( columns = ['prob','accuracy','sensi','speci'])\n",
    "from sklearn.metrics import confusion_matrix\n",
    "\n",
    "# TP = confusion[1,1] # true positive \n",
    "# TN = confusion[0,0] # true negatives\n",
    "# FP = confusion[0,1] # false positives\n",
    "# FN = confusion[1,0] # false negatives\n",
    "\n",
    "num = [0.0,0.1,0.2,0.3,0.4,0.5,0.6,0.7,0.8,0.9]\n",
    "for i in num:\n",
    "    cm1 = metrics.confusion_matrix(y_train_pred_final.Converted, y_train_pred_final[i] )\n",
    "    total1=sum(sum(cm1))\n",
    "    accuracy = (cm1[0,0]+cm1[1,1])/total1\n",
    "    \n",
    "    speci = cm1[0,0]/(cm1[0,0]+cm1[0,1])\n",
    "    sensi = cm1[1,1]/(cm1[1,0]+cm1[1,1])\n",
    "    cutoff_df.loc[i] =[ i ,accuracy,sensi,speci]\n",
    "print(cutoff_df)"
   ]
  },
  {
   "cell_type": "code",
   "execution_count": 488,
   "id": "9b877bb3-b501-44f0-af03-0e128090c5f4",
   "metadata": {
    "tags": []
   },
   "outputs": [
    {
     "data": {
      "image/png": "[encoded data removed]",
      "text/plain": [
       "<Figure size 640x480 with 1 Axes>"
      ]
     },
     "metadata": {},
     "output_type": "display_data"
    }
   ],
   "source": [
    "cutoff_df.plot.line(x='prob', y=['accuracy','sensi','speci'])\n",
    "plt.show()"
   ]
  },
  {
   "cell_type": "markdown",
   "id": "b9d2ae7a-35c1-4a3d-a8c2-846183fe3a79",
   "metadata": {},
   "source": [
    "#### From the curve above, 0.3 is the optimum point to take it as a cutoff probability."
   ]
  },
  {
   "cell_type": "code",
   "execution_count": 489,
   "id": "2d51fb5a-c0dc-4f25-bd9c-e771630f772d",
   "metadata": {
    "tags": []
   },
   "outputs": [
    {
     "data": {
      "text/html": [
       "<div>\n",
       "<style scoped>\n",
       "    .dataframe tbody tr th:only-of-type {\n",
       "        vertical-align: middle;\n",
       "    }\n",
       "\n",
       "    .dataframe tbody tr th {\n",
       "        vertical-align: top;\n",
       "    }\n",
       "\n",
       "    .dataframe thead th {\n",
       "        text-align: right;\n",
       "    }\n",
       "</style>\n",
       "<table border=\"1\" class=\"dataframe\">\n",
       "  <thead>\n",
       "    <tr style=\"text-align: right;\">\n",
       "      <th></th>\n",
       "      <th>Converted</th>\n",
       "      <th>Converted_prob</th>\n",
       "      <th>Prospect ID</th>\n",
       "      <th>Predicted</th>\n",
       "      <th>0.0</th>\n",
       "      <th>0.1</th>\n",
       "      <th>0.2</th>\n",
       "      <th>0.3</th>\n",
       "      <th>0.4</th>\n",
       "      <th>0.5</th>\n",
       "      <th>0.6</th>\n",
       "      <th>0.7</th>\n",
       "      <th>0.8</th>\n",
       "      <th>0.9</th>\n",
       "      <th>final_predicted</th>\n",
       "    </tr>\n",
       "  </thead>\n",
       "  <tbody>\n",
       "    <tr>\n",
       "      <th>0</th>\n",
       "      <td>1</td>\n",
       "      <td>0.930192</td>\n",
       "      <td>160</td>\n",
       "      <td>1</td>\n",
       "      <td>1</td>\n",
       "      <td>1</td>\n",
       "      <td>1</td>\n",
       "      <td>1</td>\n",
       "      <td>1</td>\n",
       "      <td>1</td>\n",
       "      <td>1</td>\n",
       "      <td>1</td>\n",
       "      <td>1</td>\n",
       "      <td>1</td>\n",
       "      <td>1</td>\n",
       "    </tr>\n",
       "    <tr>\n",
       "      <th>1</th>\n",
       "      <td>0</td>\n",
       "      <td>0.076771</td>\n",
       "      <td>2267</td>\n",
       "      <td>0</td>\n",
       "      <td>1</td>\n",
       "      <td>0</td>\n",
       "      <td>0</td>\n",
       "      <td>0</td>\n",
       "      <td>0</td>\n",
       "      <td>0</td>\n",
       "      <td>0</td>\n",
       "      <td>0</td>\n",
       "      <td>0</td>\n",
       "      <td>0</td>\n",
       "      <td>0</td>\n",
       "    </tr>\n",
       "    <tr>\n",
       "      <th>2</th>\n",
       "      <td>1</td>\n",
       "      <td>0.989559</td>\n",
       "      <td>8895</td>\n",
       "      <td>1</td>\n",
       "      <td>1</td>\n",
       "      <td>1</td>\n",
       "      <td>1</td>\n",
       "      <td>1</td>\n",
       "      <td>1</td>\n",
       "      <td>1</td>\n",
       "      <td>1</td>\n",
       "      <td>1</td>\n",
       "      <td>1</td>\n",
       "      <td>1</td>\n",
       "      <td>1</td>\n",
       "    </tr>\n",
       "    <tr>\n",
       "      <th>3</th>\n",
       "      <td>1</td>\n",
       "      <td>0.930192</td>\n",
       "      <td>854</td>\n",
       "      <td>1</td>\n",
       "      <td>1</td>\n",
       "      <td>1</td>\n",
       "      <td>1</td>\n",
       "      <td>1</td>\n",
       "      <td>1</td>\n",
       "      <td>1</td>\n",
       "      <td>1</td>\n",
       "      <td>1</td>\n",
       "      <td>1</td>\n",
       "      <td>1</td>\n",
       "      <td>1</td>\n",
       "    </tr>\n",
       "    <tr>\n",
       "      <th>4</th>\n",
       "      <td>0</td>\n",
       "      <td>0.279289</td>\n",
       "      <td>3640</td>\n",
       "      <td>0</td>\n",
       "      <td>1</td>\n",
       "      <td>1</td>\n",
       "      <td>1</td>\n",
       "      <td>0</td>\n",
       "      <td>0</td>\n",
       "      <td>0</td>\n",
       "      <td>0</td>\n",
       "      <td>0</td>\n",
       "      <td>0</td>\n",
       "      <td>0</td>\n",
       "      <td>0</td>\n",
       "    </tr>\n",
       "  </tbody>\n",
       "</table>\n",
       "</div>"
      ],
      "text/plain": [
       "   Converted  Converted_prob  Prospect ID  Predicted  0.0  0.1  0.2  0.3  0.4  \\\n",
       "0          1        0.930192          160          1    1    1    1    1    1   \n",
       "1          0        0.076771         2267          0    1    0    0    0    0   \n",
       "2          1        0.989559         8895          1    1    1    1    1    1   \n",
       "3          1        0.930192          854          1    1    1    1    1    1   \n",
       "4          0        0.279289         3640          0    1    1    1    0    0   \n",
       "\n",
       "   0.5  0.6  0.7  0.8  0.9  final_predicted  \n",
       "0    1    1    1    1    1                1  \n",
       "1    0    0    0    0    0                0  \n",
       "2    1    1    1    1    1                1  \n",
       "3    1    1    1    1    1                1  \n",
       "4    0    0    0    0    0                0  "
      ]
     },
     "execution_count": 489,
     "metadata": {},
     "output_type": "execute_result"
    }
   ],
   "source": [
    "y_train_pred_final['final_predicted'] = y_train_pred_final.Converted_prob.map( lambda x: 1 if x > 0.3 else 0)\n",
    "\n",
    "y_train_pred_final.head()"
   ]
  },
  {
   "cell_type": "code",
   "execution_count": 490,
   "id": "0dcac7b7-f866-41f2-83ee-96b569b1ad1e",
   "metadata": {
    "tags": []
   },
   "outputs": [
    {
     "data": {
      "text/plain": [
       "0.9020526243284199"
      ]
     },
     "execution_count": 490,
     "metadata": {},
     "output_type": "execute_result"
    }
   ],
   "source": [
    "# Let's check the overall accuracy.\n",
    "metrics.accuracy_score(y_train_pred_final.Converted, y_train_pred_final.final_predicted)"
   ]
  },
  {
   "cell_type": "code",
   "execution_count": 491,
   "id": "2f27f219-f4d4-4c59-b6ca-5d75a97a2787",
   "metadata": {
    "tags": []
   },
   "outputs": [
    {
     "data": {
      "text/plain": [
       "array([[4147,  348],\n",
       "       [ 363, 2401]], dtype=int64)"
      ]
     },
     "execution_count": 491,
     "metadata": {},
     "output_type": "execute_result"
    }
   ],
   "source": [
    "confusion2 = metrics.confusion_matrix(y_train_pred_final.Converted, y_train_pred_final.final_predicted )\n",
    "confusion2"
   ]
  },
  {
   "cell_type": "code",
   "execution_count": 492,
   "id": "6670dee5-55b2-46ea-ae3b-61e828baf812",
   "metadata": {
    "tags": []
   },
   "outputs": [],
   "source": [
    "TP = confusion2[1,1] # true positive \n",
    "TN = confusion2[0,0] # true negatives\n",
    "FP = confusion2[0,1] # false positives\n",
    "FN = confusion2[1,0] # false negatives"
   ]
  },
  {
   "cell_type": "code",
   "execution_count": 493,
   "id": "851f65e6-1db9-4cca-8aa0-5128fd4da608",
   "metadata": {
    "tags": []
   },
   "outputs": [
    {
     "name": "stdout",
     "output_type": "stream",
     "text": [
      "Sensitivty:0.8686685962373372\n"
     ]
    }
   ],
   "source": [
    "## Sensitivity of the model\n",
    "print(f'Sensitivty:{TP/float(TP+FN)}')"
   ]
  },
  {
   "cell_type": "code",
   "execution_count": 494,
   "id": "2fbc045f-f692-4e3d-94e2-2125a5b13664",
   "metadata": {
    "tags": []
   },
   "outputs": [
    {
     "name": "stdout",
     "output_type": "stream",
     "text": [
      "Specificity:0.9225806451612903\n"
     ]
    }
   ],
   "source": [
    "## Specificity of the model\n",
    "print(f'Specificity:{TN/float(TN+FP)}')"
   ]
  },
  {
   "cell_type": "code",
   "execution_count": 495,
   "id": "1ec2c8d0-1db9-46e0-bbf8-20398abaf09e",
   "metadata": {
    "tags": []
   },
   "outputs": [
    {
     "name": "stdout",
     "output_type": "stream",
     "text": [
      "False Positive Rate :0.07741935483870968\n"
     ]
    }
   ],
   "source": [
    "## False Positive Rate of the model\n",
    "print(f'False Positive Rate :{FP/float(TN+FP)}')"
   ]
  },
  {
   "cell_type": "code",
   "execution_count": 496,
   "id": "ac9ea0b3-6197-4319-8789-2703d5b62c6d",
   "metadata": {
    "tags": []
   },
   "outputs": [
    {
     "name": "stdout",
     "output_type": "stream",
     "text": [
      "Positive Predictive value:0.8734085121862496\n"
     ]
    }
   ],
   "source": [
    "# Positive predictive value \n",
    "print (f'Positive Predictive value:{TP / float(TP+FP)}')"
   ]
  },
  {
   "cell_type": "code",
   "execution_count": 497,
   "id": "b744b37b-d3e9-488a-9110-96b9cb6a15f6",
   "metadata": {
    "tags": []
   },
   "outputs": [
    {
     "name": "stdout",
     "output_type": "stream",
     "text": [
      "0.9195121951219513\n"
     ]
    }
   ],
   "source": [
    "# Negative predictive value\n",
    "print (TN / float(TN+ FN))"
   ]
  },
  {
   "cell_type": "markdown",
   "id": "88511961-4e2b-46b8-88ad-bed08db00ecf",
   "metadata": {},
   "source": [
    "## Precision and Recall"
   ]
  },
  {
   "cell_type": "code",
   "execution_count": 498,
   "id": "90774c49-9e92-4cf7-80b6-9ede75d4eca2",
   "metadata": {
    "tags": []
   },
   "outputs": [],
   "source": [
    "from sklearn.metrics import precision_score,recall_score"
   ]
  },
  {
   "cell_type": "code",
   "execution_count": 499,
   "id": "490bbc43-d514-4dee-8338-21edeeb12637",
   "metadata": {
    "tags": []
   },
   "outputs": [
    {
     "data": {
      "text/plain": [
       "0.930993690851735"
      ]
     },
     "execution_count": 499,
     "metadata": {},
     "output_type": "execute_result"
    }
   ],
   "source": [
    "precision_score(y_train_pred_final.Converted,y_train_pred_final.Predicted)"
   ]
  },
  {
   "cell_type": "code",
   "execution_count": 500,
   "id": "7e6dd670-7128-48d7-b2b4-4717640b77cf",
   "metadata": {
    "tags": []
   },
   "outputs": [
    {
     "data": {
      "text/plain": [
       "0.8541968162083936"
      ]
     },
     "execution_count": 500,
     "metadata": {},
     "output_type": "execute_result"
    }
   ],
   "source": [
    "recall_score(y_train_pred_final.Converted,y_train_pred_final.Predicted)"
   ]
  },
  {
   "cell_type": "markdown",
   "id": "b599a174-2fcd-4d1c-9ae7-7ebd4098fc0f",
   "metadata": {
    "tags": []
   },
   "source": [
    "## Precision and Recall Trade off"
   ]
  },
  {
   "cell_type": "code",
   "execution_count": 501,
   "id": "4e2f93f3-efce-4e64-bd44-e61114b7b93c",
   "metadata": {
    "tags": []
   },
   "outputs": [],
   "source": [
    "from sklearn.metrics import precision_recall_curve"
   ]
  },
  {
   "cell_type": "code",
   "execution_count": 502,
   "id": "dbcdf810-b22a-469f-a1bc-8d042376e17b",
   "metadata": {
    "tags": []
   },
   "outputs": [
    {
     "data": {
      "text/plain": [
       "(0       1\n",
       " 1       0\n",
       " 2       1\n",
       " 3       1\n",
       " 4       0\n",
       "        ..\n",
       " 7254    0\n",
       " 7255    1\n",
       " 7256    0\n",
       " 7257    0\n",
       " 7258    0\n",
       " Name: Converted, Length: 7259, dtype: int64,\n",
       " 0       1\n",
       " 1       0\n",
       " 2       1\n",
       " 3       1\n",
       " 4       0\n",
       "        ..\n",
       " 7254    0\n",
       " 7255    1\n",
       " 7256    0\n",
       " 7257    0\n",
       " 7258    0\n",
       " Name: Predicted, Length: 7259, dtype: int64)"
      ]
     },
     "execution_count": 502,
     "metadata": {},
     "output_type": "execute_result"
    }
   ],
   "source": [
    "y_train_pred_final.Converted,y_train_pred_final.Predicted"
   ]
  },
  {
   "cell_type": "code",
   "execution_count": 503,
   "id": "eecf277b-6eee-422f-9aae-0c4ecd1f93cb",
   "metadata": {
    "tags": []
   },
   "outputs": [],
   "source": [
    "p,r,threshold = precision_recall_curve(y_train_pred_final.Converted,y_train_pred_final.Converted_prob)"
   ]
  },
  {
   "cell_type": "code",
   "execution_count": 504,
   "id": "b744bd3d-ef8b-4ea7-81ed-f075c8b67c36",
   "metadata": {
    "tags": []
   },
   "outputs": [
    {
     "data": {
      "image/png": "[encoded data removed]",
      "text/plain": [
       "<Figure size 640x480 with 1 Axes>"
      ]
     },
     "metadata": {},
     "output_type": "display_data"
    }
   ],
   "source": [
    "plt.plot(threshold,p[:-1],'g-')\n",
    "plt.plot(threshold,r[:-1],'r-')\n",
    "plt.show()"
   ]
  },
  {
   "cell_type": "markdown",
   "id": "abd3ea63-8d64-4475-aabf-a74615e2c787",
   "metadata": {},
   "source": [
    "## Step 12: Making Predictions on test set"
   ]
  },
  {
   "cell_type": "code",
   "execution_count": 505,
   "id": "ec3406f4-8e61-4adf-badc-e993cb646ebf",
   "metadata": {
    "tags": []
   },
   "outputs": [],
   "source": [
    "X_test[['TotalVisits','Total Time Spent on Website','Page Views Per Visit']]=scaler.transform(X_test[['TotalVisits','Total Time Spent on Website','Page Views Per Visit']])"
   ]
  },
  {
   "cell_type": "code",
   "execution_count": 506,
   "id": "c44faf8f-778e-4472-b752-42faeb58d3b0",
   "metadata": {
    "tags": []
   },
   "outputs": [
    {
     "data": {
      "text/html": [
       "<div>\n",
       "<style scoped>\n",
       "    .dataframe tbody tr th:only-of-type {\n",
       "        vertical-align: middle;\n",
       "    }\n",
       "\n",
       "    .dataframe tbody tr th {\n",
       "        vertical-align: top;\n",
       "    }\n",
       "\n",
       "    .dataframe thead th {\n",
       "        text-align: right;\n",
       "    }\n",
       "</style>\n",
       "<table border=\"1\" class=\"dataframe\">\n",
       "  <thead>\n",
       "    <tr style=\"text-align: right;\">\n",
       "      <th></th>\n",
       "      <th>Lead Source_Welingak Website</th>\n",
       "      <th>Last Activity_SMS Sent</th>\n",
       "      <th>Tags_Busy</th>\n",
       "      <th>Tags_Closed by Horizzon</th>\n",
       "      <th>Tags_Lost to EINS</th>\n",
       "      <th>Tags_Ringing</th>\n",
       "      <th>Tags_Will revert after reading the email</th>\n",
       "      <th>Tags_switched off</th>\n",
       "      <th>Lead Quality_Not Sure</th>\n",
       "      <th>Lead Quality_Worst</th>\n",
       "      <th>Last Notable Activity_Modified</th>\n",
       "      <th>Last Notable Activity_Olark Chat Conversation</th>\n",
       "    </tr>\n",
       "  </thead>\n",
       "  <tbody>\n",
       "    <tr>\n",
       "      <th>3271</th>\n",
       "      <td>0</td>\n",
       "      <td>0</td>\n",
       "      <td>0</td>\n",
       "      <td>0</td>\n",
       "      <td>0</td>\n",
       "      <td>0</td>\n",
       "      <td>1</td>\n",
       "      <td>0</td>\n",
       "      <td>1</td>\n",
       "      <td>0</td>\n",
       "      <td>0</td>\n",
       "      <td>0</td>\n",
       "    </tr>\n",
       "    <tr>\n",
       "      <th>1490</th>\n",
       "      <td>0</td>\n",
       "      <td>0</td>\n",
       "      <td>0</td>\n",
       "      <td>0</td>\n",
       "      <td>0</td>\n",
       "      <td>0</td>\n",
       "      <td>1</td>\n",
       "      <td>0</td>\n",
       "      <td>0</td>\n",
       "      <td>0</td>\n",
       "      <td>0</td>\n",
       "      <td>0</td>\n",
       "    </tr>\n",
       "    <tr>\n",
       "      <th>7936</th>\n",
       "      <td>0</td>\n",
       "      <td>0</td>\n",
       "      <td>0</td>\n",
       "      <td>0</td>\n",
       "      <td>0</td>\n",
       "      <td>0</td>\n",
       "      <td>1</td>\n",
       "      <td>0</td>\n",
       "      <td>1</td>\n",
       "      <td>0</td>\n",
       "      <td>0</td>\n",
       "      <td>0</td>\n",
       "    </tr>\n",
       "    <tr>\n",
       "      <th>4216</th>\n",
       "      <td>0</td>\n",
       "      <td>0</td>\n",
       "      <td>0</td>\n",
       "      <td>1</td>\n",
       "      <td>0</td>\n",
       "      <td>0</td>\n",
       "      <td>0</td>\n",
       "      <td>0</td>\n",
       "      <td>0</td>\n",
       "      <td>0</td>\n",
       "      <td>1</td>\n",
       "      <td>0</td>\n",
       "    </tr>\n",
       "    <tr>\n",
       "      <th>3830</th>\n",
       "      <td>0</td>\n",
       "      <td>0</td>\n",
       "      <td>0</td>\n",
       "      <td>0</td>\n",
       "      <td>0</td>\n",
       "      <td>0</td>\n",
       "      <td>1</td>\n",
       "      <td>0</td>\n",
       "      <td>1</td>\n",
       "      <td>0</td>\n",
       "      <td>0</td>\n",
       "      <td>0</td>\n",
       "    </tr>\n",
       "  </tbody>\n",
       "</table>\n",
       "</div>"
      ],
      "text/plain": [
       "      Lead Source_Welingak Website  Last Activity_SMS Sent  Tags_Busy  \\\n",
       "3271                             0                       0          0   \n",
       "1490                             0                       0          0   \n",
       "7936                             0                       0          0   \n",
       "4216                             0                       0          0   \n",
       "3830                             0                       0          0   \n",
       "\n",
       "      Tags_Closed by Horizzon  Tags_Lost to EINS  Tags_Ringing  \\\n",
       "3271                        0                  0             0   \n",
       "1490                        0                  0             0   \n",
       "7936                        0                  0             0   \n",
       "4216                        1                  0             0   \n",
       "3830                        0                  0             0   \n",
       "\n",
       "      Tags_Will revert after reading the email  Tags_switched off  \\\n",
       "3271                                         1                  0   \n",
       "1490                                         1                  0   \n",
       "7936                                         1                  0   \n",
       "4216                                         0                  0   \n",
       "3830                                         1                  0   \n",
       "\n",
       "      Lead Quality_Not Sure  Lead Quality_Worst  \\\n",
       "3271                      1                   0   \n",
       "1490                      0                   0   \n",
       "7936                      1                   0   \n",
       "4216                      0                   0   \n",
       "3830                      1                   0   \n",
       "\n",
       "      Last Notable Activity_Modified  \\\n",
       "3271                               0   \n",
       "1490                               0   \n",
       "7936                               0   \n",
       "4216                               1   \n",
       "3830                               0   \n",
       "\n",
       "      Last Notable Activity_Olark Chat Conversation  \n",
       "3271                                              0  \n",
       "1490                                              0  \n",
       "7936                                              0  \n",
       "4216                                              0  \n",
       "3830                                              0  "
      ]
     },
     "execution_count": 506,
     "metadata": {},
     "output_type": "execute_result"
    }
   ],
   "source": [
    "X_test = X_test[col]\n",
    "X_test.head()"
   ]
  },
  {
   "cell_type": "code",
   "execution_count": 507,
   "id": "43a80e4d-a284-4ca4-bb34-93c97c0b1346",
   "metadata": {
    "tags": []
   },
   "outputs": [],
   "source": [
    "X_test_sm = sm.add_constant(X_test)"
   ]
  },
  {
   "cell_type": "markdown",
   "id": "13b195b1-67de-4e70-b7c4-010215a77d0f",
   "metadata": {},
   "source": [
    "Making Predictions on test set"
   ]
  },
  {
   "cell_type": "code",
   "execution_count": 508,
   "id": "0f31e044-458a-4bc1-8aef-4b5f8d81c41b",
   "metadata": {
    "tags": []
   },
   "outputs": [],
   "source": [
    "y_test_pred = res.predict(X_test_sm)"
   ]
  },
  {
   "cell_type": "code",
   "execution_count": 509,
   "id": "8ccb1145-00ec-4b6b-a6ac-9d02ae1d299f",
   "metadata": {
    "tags": []
   },
   "outputs": [
    {
     "data": {
      "text/plain": [
       "3271    0.279289\n",
       "1490    0.930192\n",
       "7936    0.279289\n",
       "4216    0.997278\n",
       "3830    0.279289\n",
       "1800    0.930192\n",
       "6507    0.010244\n",
       "4821    0.000622\n",
       "4223    0.989559\n",
       "4714    0.320707\n",
       "dtype: float64"
      ]
     },
     "execution_count": 509,
     "metadata": {},
     "output_type": "execute_result"
    }
   ],
   "source": [
    "y_test_pred[:10]"
   ]
  },
  {
   "cell_type": "code",
   "execution_count": 510,
   "id": "067a0bfc-ac94-4379-be2d-1f8ac6527354",
   "metadata": {
    "tags": []
   },
   "outputs": [],
   "source": [
    "## Converting y_test_pred to dataframe which is actually a matrix\n",
    "y_pred_1 = pd.DataFrame(y_test_pred)"
   ]
  },
  {
   "cell_type": "code",
   "execution_count": 511,
   "id": "ae9564d9-690c-4c1e-b7cd-9679fcc19803",
   "metadata": {
    "tags": []
   },
   "outputs": [
    {
     "data": {
      "text/html": [
       "<div>\n",
       "<style scoped>\n",
       "    .dataframe tbody tr th:only-of-type {\n",
       "        vertical-align: middle;\n",
       "    }\n",
       "\n",
       "    .dataframe tbody tr th {\n",
       "        vertical-align: top;\n",
       "    }\n",
       "\n",
       "    .dataframe thead th {\n",
       "        text-align: right;\n",
       "    }\n",
       "</style>\n",
       "<table border=\"1\" class=\"dataframe\">\n",
       "  <thead>\n",
       "    <tr style=\"text-align: right;\">\n",
       "      <th></th>\n",
       "      <th>0</th>\n",
       "    </tr>\n",
       "  </thead>\n",
       "  <tbody>\n",
       "    <tr>\n",
       "      <th>3271</th>\n",
       "      <td>0.279289</td>\n",
       "    </tr>\n",
       "    <tr>\n",
       "      <th>1490</th>\n",
       "      <td>0.930192</td>\n",
       "    </tr>\n",
       "    <tr>\n",
       "      <th>7936</th>\n",
       "      <td>0.279289</td>\n",
       "    </tr>\n",
       "    <tr>\n",
       "      <th>4216</th>\n",
       "      <td>0.997278</td>\n",
       "    </tr>\n",
       "    <tr>\n",
       "      <th>3830</th>\n",
       "      <td>0.279289</td>\n",
       "    </tr>\n",
       "  </tbody>\n",
       "</table>\n",
       "</div>"
      ],
      "text/plain": [
       "             0\n",
       "3271  0.279289\n",
       "1490  0.930192\n",
       "7936  0.279289\n",
       "4216  0.997278\n",
       "3830  0.279289"
      ]
     },
     "execution_count": 511,
     "metadata": {},
     "output_type": "execute_result"
    }
   ],
   "source": [
    "y_pred_1.head()"
   ]
  },
  {
   "cell_type": "code",
   "execution_count": 512,
   "id": "82329bee-da0c-495c-a7bd-ca6f3ff7dd4a",
   "metadata": {
    "tags": []
   },
   "outputs": [],
   "source": [
    "# Converting the Y_test to dataframe\n",
    "y_test_df = pd.DataFrame(y_test)"
   ]
  },
  {
   "cell_type": "code",
   "execution_count": 513,
   "id": "94a25534-e759-4a95-8f1e-26f2d66b7197",
   "metadata": {
    "tags": []
   },
   "outputs": [],
   "source": [
    "y_test_df['Prospect ID']= y_test_df.index"
   ]
  },
  {
   "cell_type": "code",
   "execution_count": 514,
   "id": "f1b02a27-6d7a-4461-84bd-e9e37a9b489d",
   "metadata": {
    "tags": []
   },
   "outputs": [],
   "source": [
    "## Removing Index from Both dataframes\n",
    "y_pred_1.reset_index(drop=True,inplace=True)\n",
    "y_test_df.reset_index(drop=True,inplace=True)"
   ]
  },
  {
   "cell_type": "code",
   "execution_count": 515,
   "id": "abf98723-5d03-4ebc-a77a-46f2df403685",
   "metadata": {
    "tags": []
   },
   "outputs": [
    {
     "data": {
      "text/html": [
       "<div>\n",
       "<style scoped>\n",
       "    .dataframe tbody tr th:only-of-type {\n",
       "        vertical-align: middle;\n",
       "    }\n",
       "\n",
       "    .dataframe tbody tr th {\n",
       "        vertical-align: top;\n",
       "    }\n",
       "\n",
       "    .dataframe thead th {\n",
       "        text-align: right;\n",
       "    }\n",
       "</style>\n",
       "<table border=\"1\" class=\"dataframe\">\n",
       "  <thead>\n",
       "    <tr style=\"text-align: right;\">\n",
       "      <th></th>\n",
       "      <th>Converted</th>\n",
       "      <th>Prospect ID</th>\n",
       "      <th>0</th>\n",
       "    </tr>\n",
       "  </thead>\n",
       "  <tbody>\n",
       "    <tr>\n",
       "      <th>0</th>\n",
       "      <td>0</td>\n",
       "      <td>3271</td>\n",
       "      <td>0.279289</td>\n",
       "    </tr>\n",
       "    <tr>\n",
       "      <th>1</th>\n",
       "      <td>1</td>\n",
       "      <td>1490</td>\n",
       "      <td>0.930192</td>\n",
       "    </tr>\n",
       "    <tr>\n",
       "      <th>2</th>\n",
       "      <td>0</td>\n",
       "      <td>7936</td>\n",
       "      <td>0.279289</td>\n",
       "    </tr>\n",
       "    <tr>\n",
       "      <th>3</th>\n",
       "      <td>1</td>\n",
       "      <td>4216</td>\n",
       "      <td>0.997278</td>\n",
       "    </tr>\n",
       "    <tr>\n",
       "      <th>4</th>\n",
       "      <td>0</td>\n",
       "      <td>3830</td>\n",
       "      <td>0.279289</td>\n",
       "    </tr>\n",
       "  </tbody>\n",
       "</table>\n",
       "</div>"
      ],
      "text/plain": [
       "   Converted  Prospect ID         0\n",
       "0          0         3271  0.279289\n",
       "1          1         1490  0.930192\n",
       "2          0         7936  0.279289\n",
       "3          1         4216  0.997278\n",
       "4          0         3830  0.279289"
      ]
     },
     "execution_count": 515,
     "metadata": {},
     "output_type": "execute_result"
    }
   ],
   "source": [
    "## Appending both the Dataframes\n",
    "y_pred_final = pd.concat([y_test_df,y_pred_1],axis=1)\n",
    "y_pred_final.head()"
   ]
  },
  {
   "cell_type": "code",
   "execution_count": 516,
   "id": "5ee71bc7-4506-47f8-934f-3307511d083d",
   "metadata": {
    "tags": []
   },
   "outputs": [
    {
     "data": {
      "text/plain": [
       "Index(['Converted', 'Prospect ID', 0], dtype='object')"
      ]
     },
     "execution_count": 516,
     "metadata": {},
     "output_type": "execute_result"
    }
   ],
   "source": [
    "y_pred_final.columns"
   ]
  },
  {
   "cell_type": "code",
   "execution_count": 517,
   "id": "4319b63c-7728-4013-9bb2-36db39eae78b",
   "metadata": {
    "tags": []
   },
   "outputs": [],
   "source": [
    "# Renaming the column\n",
    "y_pred_final.rename(columns={0: 'Converted_prob'}, inplace=True)"
   ]
  },
  {
   "cell_type": "code",
   "execution_count": 518,
   "id": "ac418629-67c5-49d4-be0d-3e39f0ff3186",
   "metadata": {
    "tags": []
   },
   "outputs": [
    {
     "data": {
      "text/html": [
       "<div>\n",
       "<style scoped>\n",
       "    .dataframe tbody tr th:only-of-type {\n",
       "        vertical-align: middle;\n",
       "    }\n",
       "\n",
       "    .dataframe tbody tr th {\n",
       "        vertical-align: top;\n",
       "    }\n",
       "\n",
       "    .dataframe thead th {\n",
       "        text-align: right;\n",
       "    }\n",
       "</style>\n",
       "<table border=\"1\" class=\"dataframe\">\n",
       "  <thead>\n",
       "    <tr style=\"text-align: right;\">\n",
       "      <th></th>\n",
       "      <th>Converted</th>\n",
       "      <th>Prospect ID</th>\n",
       "      <th>Converted_prob</th>\n",
       "    </tr>\n",
       "  </thead>\n",
       "  <tbody>\n",
       "    <tr>\n",
       "      <th>0</th>\n",
       "      <td>0</td>\n",
       "      <td>3271</td>\n",
       "      <td>0.279289</td>\n",
       "    </tr>\n",
       "    <tr>\n",
       "      <th>1</th>\n",
       "      <td>1</td>\n",
       "      <td>1490</td>\n",
       "      <td>0.930192</td>\n",
       "    </tr>\n",
       "    <tr>\n",
       "      <th>2</th>\n",
       "      <td>0</td>\n",
       "      <td>7936</td>\n",
       "      <td>0.279289</td>\n",
       "    </tr>\n",
       "    <tr>\n",
       "      <th>3</th>\n",
       "      <td>1</td>\n",
       "      <td>4216</td>\n",
       "      <td>0.997278</td>\n",
       "    </tr>\n",
       "    <tr>\n",
       "      <th>4</th>\n",
       "      <td>0</td>\n",
       "      <td>3830</td>\n",
       "      <td>0.279289</td>\n",
       "    </tr>\n",
       "  </tbody>\n",
       "</table>\n",
       "</div>"
      ],
      "text/plain": [
       "   Converted  Prospect ID  Converted_prob\n",
       "0          0         3271        0.279289\n",
       "1          1         1490        0.930192\n",
       "2          0         7936        0.279289\n",
       "3          1         4216        0.997278\n",
       "4          0         3830        0.279289"
      ]
     },
     "execution_count": 518,
     "metadata": {},
     "output_type": "execute_result"
    }
   ],
   "source": [
    "y_pred_final.head()"
   ]
  },
  {
   "cell_type": "code",
   "execution_count": 520,
   "id": "12b4df5f-7dd5-401f-86f5-866136df962d",
   "metadata": {
    "tags": []
   },
   "outputs": [],
   "source": [
    "y_pred_final['final_predicted'] = y_pred_final.Converted_prob.map(lambda x: 1 if x > 0.49 else 0)"
   ]
  },
  {
   "cell_type": "code",
   "execution_count": 522,
   "id": "eadc9253-61e6-41d0-b31d-cb573ba90a0f",
   "metadata": {
    "tags": []
   },
   "outputs": [
    {
     "data": {
      "text/plain": [
       "array([[1092,   52],\n",
       "       [ 111,  560]], dtype=int64)"
      ]
     },
     "execution_count": 522,
     "metadata": {},
     "output_type": "execute_result"
    }
   ],
   "source": [
    "confusion2 = metrics.confusion_matrix(y_pred_final.Converted, y_pred_final.final_predicted )\n",
    "confusion2"
   ]
  },
  {
   "cell_type": "code",
   "execution_count": 523,
   "id": "14a7af25-fff4-4380-8599-dd295aa33659",
   "metadata": {
    "tags": []
   },
   "outputs": [],
   "source": [
    "TP = confusion2[1,1] # true positive \n",
    "TN = confusion2[0,0] # true negatives\n",
    "FP = confusion2[0,1] # false positives\n",
    "FN = confusion2[1,0] # false negatives"
   ]
  },
  {
   "cell_type": "code",
   "execution_count": 524,
   "id": "3017c944-7550-4ae6-a167-46f9c73e43f0",
   "metadata": {
    "tags": []
   },
   "outputs": [
    {
     "data": {
      "text/plain": [
       "0.834575260804769"
      ]
     },
     "execution_count": 524,
     "metadata": {},
     "output_type": "execute_result"
    }
   ],
   "source": [
    "#  the sensitivity of our logistic regression model\n",
    "TP / float(TP+FN)"
   ]
  },
  {
   "cell_type": "code",
   "execution_count": 525,
   "id": "37765eff-2a63-4cf6-9c79-ee4fe7436c77",
   "metadata": {
    "tags": []
   },
   "outputs": [
    {
     "data": {
      "text/plain": [
       "0.9545454545454546"
      ]
     },
     "execution_count": 525,
     "metadata": {},
     "output_type": "execute_result"
    }
   ],
   "source": [
    "# Let us calculate specificity\n",
    "TN / float(TN+FP)"
   ]
  },
  {
   "cell_type": "code",
   "execution_count": null,
   "id": "6b42ec61-2e59-4dd1-9485-bfc362a85a4f",
   "metadata": {},
   "outputs": [],
   "source": []
  },
  {
   "cell_type": "code",
   "execution_count": null,
   "id": "2391191a-3a58-48a7-8c03-aaa2d453dd4f",
   "metadata": {},
   "outputs": [],
   "source": []
  }
 ],
 "metadata": {
  "kernelspec": {
   "display_name": "Python 3 (ipykernel)",
   "language": "python",
   "name": "python3"
  },
  "language_info": {
   "codemirror_mode": {
    "name": "ipython",
    "version": 3
   },
   "file_extension": ".py",
   "mimetype": "text/x-python",
   "name": "python",
   "nbconvert_exporter": "python",
   "pygments_lexer": "ipython3",
   "version": "3.11.5"
  }
 },
 "nbformat": 4,
 "nbformat_minor": 5
}
